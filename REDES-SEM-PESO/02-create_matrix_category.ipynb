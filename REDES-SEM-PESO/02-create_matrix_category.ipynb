{
 "cells": [
  {
   "cell_type": "code",
   "execution_count": 14,
   "metadata": {},
   "outputs": [],
   "source": [
    "import pandas as pd\n",
    "import numpy as np\n",
    "from nltk.stem import SnowballStemmer\n",
    "from matplotlib import pyplot  as plt\n",
    "\n",
    "dir = 'C:/_dados/'"
   ]
  },
  {
   "cell_type": "code",
   "execution_count": 2,
   "metadata": {},
   "outputs": [],
   "source": [
    "train = pd.read_csv(dir+'consolidated.txt', sep=';',index_col=0,names=['id','approved','category','word','word_count'])\n",
    "stemmer = SnowballStemmer(\"english\")"
   ]
  },
  {
   "cell_type": "code",
   "execution_count": 3,
   "metadata": {},
   "outputs": [
    {
     "data": {
      "text/html": [
       "<div>\n",
       "<style scoped>\n",
       "    .dataframe tbody tr th:only-of-type {\n",
       "        vertical-align: middle;\n",
       "    }\n",
       "\n",
       "    .dataframe tbody tr th {\n",
       "        vertical-align: top;\n",
       "    }\n",
       "\n",
       "    .dataframe thead th {\n",
       "        text-align: right;\n",
       "    }\n",
       "</style>\n",
       "<table border=\"1\" class=\"dataframe\">\n",
       "  <thead>\n",
       "    <tr style=\"text-align: right;\">\n",
       "      <th></th>\n",
       "      <th>approved</th>\n",
       "      <th>category</th>\n",
       "      <th>word</th>\n",
       "      <th>word_count</th>\n",
       "      <th>word_stem</th>\n",
       "    </tr>\n",
       "    <tr>\n",
       "      <th>id</th>\n",
       "      <th></th>\n",
       "      <th></th>\n",
       "      <th></th>\n",
       "      <th></th>\n",
       "      <th></th>\n",
       "    </tr>\n",
       "  </thead>\n",
       "  <tbody>\n",
       "    <tr>\n",
       "      <th>p036502</th>\n",
       "      <td>1</td>\n",
       "      <td>Literacy_Language</td>\n",
       "      <td>MOST</td>\n",
       "      <td>3</td>\n",
       "      <td>most</td>\n",
       "    </tr>\n",
       "    <tr>\n",
       "      <th>p036502</th>\n",
       "      <td>1</td>\n",
       "      <td>Literacy_Language</td>\n",
       "      <td>OF</td>\n",
       "      <td>9</td>\n",
       "      <td>of</td>\n",
       "    </tr>\n",
       "    <tr>\n",
       "      <th>p036502</th>\n",
       "      <td>1</td>\n",
       "      <td>Literacy_Language</td>\n",
       "      <td>MY</td>\n",
       "      <td>5</td>\n",
       "      <td>my</td>\n",
       "    </tr>\n",
       "    <tr>\n",
       "      <th>p036502</th>\n",
       "      <td>1</td>\n",
       "      <td>Literacy_Language</td>\n",
       "      <td>KINDERGARTEN</td>\n",
       "      <td>2</td>\n",
       "      <td>kindergarten</td>\n",
       "    </tr>\n",
       "    <tr>\n",
       "      <th>p036502</th>\n",
       "      <td>1</td>\n",
       "      <td>Literacy_Language</td>\n",
       "      <td>STUDENTS</td>\n",
       "      <td>8</td>\n",
       "      <td>student</td>\n",
       "    </tr>\n",
       "  </tbody>\n",
       "</table>\n",
       "</div>"
      ],
      "text/plain": [
       "         approved           category          word  word_count     word_stem\n",
       "id                                                                          \n",
       "p036502         1  Literacy_Language          MOST           3          most\n",
       "p036502         1  Literacy_Language            OF           9            of\n",
       "p036502         1  Literacy_Language            MY           5            my\n",
       "p036502         1  Literacy_Language  KINDERGARTEN           2  kindergarten\n",
       "p036502         1  Literacy_Language      STUDENTS           8       student"
      ]
     },
     "execution_count": 3,
     "metadata": {},
     "output_type": "execute_result"
    }
   ],
   "source": [
    "#train = train.head(10000)\n",
    "train['word_stem'] = train.word.apply(lambda x: stemmer.stem(str(x)))\n",
    "train.head()"
   ]
  },
  {
   "cell_type": "code",
   "execution_count": 4,
   "metadata": {},
   "outputs": [
    {
     "data": {
      "text/plain": [
       "['Literacy_Language',\n",
       " 'Music_The_Arts',\n",
       " 'Math_Science',\n",
       " 'Health_Sports',\n",
       " 'Applied_Learning',\n",
       " 'Special_Needs',\n",
       " 'History_Civics',\n",
       " 'Warmth_Care_Hunger']"
      ]
     },
     "execution_count": 4,
     "metadata": {},
     "output_type": "execute_result"
    }
   ],
   "source": [
    "groups = []\n",
    "for x in train.groupby('category')['category'].head(1):\n",
    "    if x not in groups: groups.append(x)\n",
    "groups"
   ]
  },
  {
   "cell_type": "code",
   "execution_count": 20,
   "metadata": {},
   "outputs": [
    {
     "data": {
      "text/plain": [
       "<matplotlib.axes._subplots.AxesSubplot at 0x1b052858c50>"
      ]
     },
     "execution_count": 20,
     "metadata": {},
     "output_type": "execute_result"
    },
    {
     "data": {
      "image/png": "[encoded data removed]",
      "text/plain": [
       "<Figure size 720x1080 with 1 Axes>"
      ]
     },
     "metadata": {},
     "output_type": "display_data"
    }
   ],
   "source": [
    "word_sum = train.groupby(['category','word_stem', 'approved'])['word_count'].aggregate('sum').unstack().fillna(0)\n",
    "word_sum['total'] = word_sum[0] + word_sum[1]\n",
    "\n",
    "word_sum['total'].plot(kind='hist',bins=1000, figsize=(10,15))"
   ]
  },
  {
   "cell_type": "code",
   "execution_count": 6,
   "metadata": {},
   "outputs": [],
   "source": [
    "word_sum.to_pickle('C:/_kopp/Dropbox/Filipe/_doutorado/PPGI/REDES-SEM-PESO/matrix_cat.pickle')"
   ]
  },
  {
   "cell_type": "code",
   "execution_count": null,
   "metadata": {},
   "outputs": [],
   "source": []
  }
 ],
 "metadata": {
  "kernelspec": {
   "display_name": "Python 3",
   "language": "python",
   "name": "python3"
  },
  "language_info": {
   "codemirror_mode": {
    "name": "ipython",
    "version": 3
   },
   "file_extension": ".py",
   "mimetype": "text/x-python",
   "name": "python",
   "nbconvert_exporter": "python",
   "pygments_lexer": "ipython3",
   "version": "3.6.5"
  }
 },
 "nbformat": 4,
 "nbformat_minor": 2
}
