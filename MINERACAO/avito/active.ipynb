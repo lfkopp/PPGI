{
 "cells": [
  {
   "cell_type": "code",
   "execution_count": null,
   "metadata": {},
   "outputs": [],
   "source": [
    "periods_train = pd.read_csv(dir + 'periods_train.csv', encoding='utf-8', low_memory=False, \n",
    "                            parse_dates=['activation_date','date_from','date_to'])\n",
    "periods_test = pd.read_csv(dir + 'periods_test.csv', encoding='utf-8', low_memory=False, \n",
    "                           parse_dates=['activation_date','date_from','date_to'])\n",
    "periods_train[item_id] = periods_train[item_id].apply(lambda x: int(x,16))\n",
    "periods_test[item_id] = periods_test[item_id].apply(lambda x: int(x,16))\n",
    "display(train.shape)\n",
    "display(periods_train.shape)\n",
    "display(test.shape)\n",
    "display(periods_test.shape)\n",
    "df_period = periods_train.append(periods_test, ignore_index=True)\n",
    "display(df_period.shape)\n",
    "df_period.head()df_period['time_diff'] = ((df_period.date_to - df_period.date_from) / np.timedelta64(1, 'D')).astype(int)\n",
    "df_period.head()p_g = df_period.groupby('item_id')['time_diff'].sum()\n",
    "p_min = df_period.groupby('item_id')['date_from'].min()\n",
    "p_max = df_period.groupby('item_id')['date_to'].max()\n",
    "p_c = df_period.groupby('item_id')['item_id'].count()\n",
    "display(p_c.shape)\n",
    "p_c.head()\n",
    "p_max.head()\n",
    "per = pd.concat([p_g,p_c,p_min,p_max], axis=1)\n",
    "per.head()\n",
    "per['time_diff2'] = ((per.date_to - per.date_from) / np.timedelta64(1, 'D')).astype(int)\n",
    "per.head()\n",
    "per = per.rename({'item_id': 'per_count'}, axis='columns')\n",
    "display(per.shape)\n",
    "per.sort_index().head(20)\n",
    "df2x = df2.set_index('item_id')\n",
    "df2x.sort_index().head(20)\n",
    "df3 = pd.merge(df2x, per, right_index=True, left_index=True)\n",
    "display(df3.shape)\n",
    "df3.head()"
   ]
  }
 ],
 "metadata": {
  "kernelspec": {
   "display_name": "Python 3",
   "language": "python",
   "name": "python3"
  },
  "language_info": {
   "codemirror_mode": {
    "name": "ipython",
    "version": 3
   },
   "file_extension": ".py",
   "mimetype": "text/x-python",
   "name": "python",
   "nbconvert_exporter": "python",
   "pygments_lexer": "ipython3",
   "version": "3.6.5"
  }
 },
 "nbformat": 4,
 "nbformat_minor": 2
}
