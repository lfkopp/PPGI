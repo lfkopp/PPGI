{
 "cells": [
  {
   "cell_type": "markdown",
   "metadata": {},
   "source": [
    "### Kaggle: Avito Demand Prediction Challenge\n",
    "source: https://www.kaggle.com/c/avito-demand-prediction\n",
    "\n",
    "\n",
    "Intro: <font color=\"red\"> criar descrição</font>\n",
    "\n",
    "\n",
    "Team: <font color=\"red\"> criar nome</font>\n",
    "- Luis Filipe Kopp (lfkopp)\n",
    "- Lucas Pérez (lucascperez)\n",
    "- Raphael Reis (raphacoelho)\n",
    "\n",
    "# Part one - opening the dataset, preprocessing, checking integrity and basic analysis.\n"
   ]
  },
  {
   "cell_type": "markdown",
   "metadata": {},
   "source": [
    "Importing necessary libraries and setting up global variables"
   ]
  },
  {
   "cell_type": "code",
   "execution_count": 1,
   "metadata": {},
   "outputs": [],
   "source": [
    "import pandas as pd\n",
    "import numpy as np\n",
    "import seaborn as sns"
   ]
  },
  {
   "cell_type": "code",
   "execution_count": 2,
   "metadata": {},
   "outputs": [],
   "source": [
    "%matplotlib inline\n",
    "dir = 'c:/_dados/_avito/'"
   ]
  },
  {
   "cell_type": "markdown",
   "metadata": {},
   "source": [
    "Importing some datasets:\n",
    "- Train <font color=\"red\">descrever colunas</font>\n",
    "- Test\n",
    "- Periods"
   ]
  },
  {
   "cell_type": "code",
   "execution_count": 142,
   "metadata": {},
   "outputs": [],
   "source": [
    "def get_dataset(source):\n",
    "    print(source)\n",
    "    df = pd.read_csv(dir + source + '.csv', encoding='utf-8', low_memory=False, parse_dates=[\"activation_date\"])\n",
    "    display(df.shape)\n",
    "    df['month'] = (df['activation_date'].apply(lambda x: x.month)).astype(int)\n",
    "    df['source'] = str(source)\n",
    "    df.drop(['image', 'image_top_1', 'item_seq_number'], axis=1, inplace=True)\n",
    "    return df"
   ]
  },
  {
   "cell_type": "code",
   "execution_count": 141,
   "metadata": {},
   "outputs": [
    {
     "name": "stdout",
     "output_type": "stream",
     "text": [
      "train\n"
     ]
    },
    {
     "data": {
      "text/plain": [
       "'shape'"
      ]
     },
     "metadata": {},
     "output_type": "display_data"
    },
    {
     "data": {
      "text/plain": [
       "(1503424, 18)"
      ]
     },
     "metadata": {},
     "output_type": "display_data"
    },
    {
     "name": "stdout",
     "output_type": "stream",
     "text": [
      "test\n"
     ]
    },
    {
     "data": {
      "text/plain": [
       "'shape'"
      ]
     },
     "metadata": {},
     "output_type": "display_data"
    },
    {
     "data": {
      "text/plain": [
       "(508438, 17)"
      ]
     },
     "metadata": {},
     "output_type": "display_data"
    }
   ],
   "source": [
    "train = get_dataset('train')\n",
    "test = get_dataset('test')"
   ]
  },
  {
   "cell_type": "code",
   "execution_count": 94,
   "metadata": {},
   "outputs": [
    {
     "data": {
      "text/html": [
       "<div>\n",
       "<style scoped>\n",
       "    .dataframe tbody tr th:only-of-type {\n",
       "        vertical-align: middle;\n",
       "    }\n",
       "\n",
       "    .dataframe tbody tr th {\n",
       "        vertical-align: top;\n",
       "    }\n",
       "\n",
       "    .dataframe thead th {\n",
       "        text-align: right;\n",
       "    }\n",
       "</style>\n",
       "<table border=\"1\" class=\"dataframe\">\n",
       "  <thead>\n",
       "    <tr style=\"text-align: right;\">\n",
       "      <th></th>\n",
       "      <th>activation_date</th>\n",
       "      <th>category_name</th>\n",
       "      <th>city</th>\n",
       "      <th>deal_probability</th>\n",
       "      <th>description</th>\n",
       "      <th>item_id</th>\n",
       "      <th>month</th>\n",
       "      <th>param_1</th>\n",
       "      <th>param_2</th>\n",
       "      <th>param_3</th>\n",
       "      <th>parent_category_name</th>\n",
       "      <th>price</th>\n",
       "      <th>region</th>\n",
       "      <th>source</th>\n",
       "      <th>title</th>\n",
       "      <th>user_id</th>\n",
       "      <th>user_type</th>\n",
       "    </tr>\n",
       "  </thead>\n",
       "  <tbody>\n",
       "    <tr>\n",
       "      <th>0</th>\n",
       "      <td>2017-03-28</td>\n",
       "      <td>Товары для детей и игрушки</td>\n",
       "      <td>Екатеринбург</td>\n",
       "      <td>0.12789</td>\n",
       "      <td>Кокон для сна малыша,пользовались меньше месяц...</td>\n",
       "      <td>b912c3c6a6ad</td>\n",
       "      <td>3</td>\n",
       "      <td>Постельные принадлежности</td>\n",
       "      <td>NaN</td>\n",
       "      <td>NaN</td>\n",
       "      <td>Личные вещи</td>\n",
       "      <td>400.0</td>\n",
       "      <td>Свердловская область</td>\n",
       "      <td>train</td>\n",
       "      <td>Кокоби(кокон для сна)</td>\n",
       "      <td>e00f8ff2eaf9</td>\n",
       "      <td>Private</td>\n",
       "    </tr>\n",
       "    <tr>\n",
       "      <th>1</th>\n",
       "      <td>2017-03-26</td>\n",
       "      <td>Мебель и интерьер</td>\n",
       "      <td>Самара</td>\n",
       "      <td>0.00000</td>\n",
       "      <td>Стойка для одежды, под вешалки. С бутика.</td>\n",
       "      <td>2dac0150717d</td>\n",
       "      <td>3</td>\n",
       "      <td>Другое</td>\n",
       "      <td>NaN</td>\n",
       "      <td>NaN</td>\n",
       "      <td>Для дома и дачи</td>\n",
       "      <td>3000.0</td>\n",
       "      <td>Самарская область</td>\n",
       "      <td>train</td>\n",
       "      <td>Стойка для Одежды</td>\n",
       "      <td>39aeb48f0017</td>\n",
       "      <td>Private</td>\n",
       "    </tr>\n",
       "    <tr>\n",
       "      <th>2</th>\n",
       "      <td>2017-03-20</td>\n",
       "      <td>Аудио и видео</td>\n",
       "      <td>Ростов-на-Дону</td>\n",
       "      <td>0.43177</td>\n",
       "      <td>В хорошем состоянии, домашний кинотеатр с blu ...</td>\n",
       "      <td>ba83aefab5dc</td>\n",
       "      <td>3</td>\n",
       "      <td>Видео, DVD и Blu-ray плееры</td>\n",
       "      <td>NaN</td>\n",
       "      <td>NaN</td>\n",
       "      <td>Бытовая электроника</td>\n",
       "      <td>4000.0</td>\n",
       "      <td>Ростовская область</td>\n",
       "      <td>train</td>\n",
       "      <td>Philips bluray</td>\n",
       "      <td>91e2f88dd6e3</td>\n",
       "      <td>Private</td>\n",
       "    </tr>\n",
       "    <tr>\n",
       "      <th>3</th>\n",
       "      <td>2017-03-25</td>\n",
       "      <td>Товары для детей и игрушки</td>\n",
       "      <td>Набережные Челны</td>\n",
       "      <td>0.80323</td>\n",
       "      <td>Продам кресло от0-25кг</td>\n",
       "      <td>02996f1dd2ea</td>\n",
       "      <td>3</td>\n",
       "      <td>Автомобильные кресла</td>\n",
       "      <td>NaN</td>\n",
       "      <td>NaN</td>\n",
       "      <td>Личные вещи</td>\n",
       "      <td>2200.0</td>\n",
       "      <td>Татарстан</td>\n",
       "      <td>train</td>\n",
       "      <td>Автокресло</td>\n",
       "      <td>bf5cccea572d</td>\n",
       "      <td>Company</td>\n",
       "    </tr>\n",
       "    <tr>\n",
       "      <th>4</th>\n",
       "      <td>2017-03-16</td>\n",
       "      <td>Автомобили</td>\n",
       "      <td>Волгоград</td>\n",
       "      <td>0.20797</td>\n",
       "      <td>Все вопросы по телефону.</td>\n",
       "      <td>7c90be56d2ab</td>\n",
       "      <td>3</td>\n",
       "      <td>С пробегом</td>\n",
       "      <td>ВАЗ (LADA)</td>\n",
       "      <td>2110</td>\n",
       "      <td>Транспорт</td>\n",
       "      <td>40000.0</td>\n",
       "      <td>Волгоградская область</td>\n",
       "      <td>train</td>\n",
       "      <td>ВАЗ 2110, 2003</td>\n",
       "      <td>ef50846afc0b</td>\n",
       "      <td>Private</td>\n",
       "    </tr>\n",
       "  </tbody>\n",
       "</table>\n",
       "</div>"
      ],
      "text/plain": [
       "  activation_date               category_name              city  \\\n",
       "0      2017-03-28  Товары для детей и игрушки      Екатеринбург   \n",
       "1      2017-03-26           Мебель и интерьер            Самара   \n",
       "2      2017-03-20               Аудио и видео    Ростов-на-Дону   \n",
       "3      2017-03-25  Товары для детей и игрушки  Набережные Челны   \n",
       "4      2017-03-16                  Автомобили         Волгоград   \n",
       "\n",
       "   deal_probability                                        description  \\\n",
       "0           0.12789  Кокон для сна малыша,пользовались меньше месяц...   \n",
       "1           0.00000          Стойка для одежды, под вешалки. С бутика.   \n",
       "2           0.43177  В хорошем состоянии, домашний кинотеатр с blu ...   \n",
       "3           0.80323                             Продам кресло от0-25кг   \n",
       "4           0.20797                           Все вопросы по телефону.   \n",
       "\n",
       "        item_id  month                      param_1     param_2 param_3  \\\n",
       "0  b912c3c6a6ad      3    Постельные принадлежности         NaN     NaN   \n",
       "1  2dac0150717d      3                       Другое         NaN     NaN   \n",
       "2  ba83aefab5dc      3  Видео, DVD и Blu-ray плееры         NaN     NaN   \n",
       "3  02996f1dd2ea      3         Автомобильные кресла         NaN     NaN   \n",
       "4  7c90be56d2ab      3                   С пробегом  ВАЗ (LADA)    2110   \n",
       "\n",
       "  parent_category_name    price                 region source  \\\n",
       "0          Личные вещи    400.0   Свердловская область  train   \n",
       "1      Для дома и дачи   3000.0      Самарская область  train   \n",
       "2  Бытовая электроника   4000.0     Ростовская область  train   \n",
       "3          Личные вещи   2200.0              Татарстан  train   \n",
       "4            Транспорт  40000.0  Волгоградская область  train   \n",
       "\n",
       "                   title       user_id user_type  \n",
       "0  Кокоби(кокон для сна)  e00f8ff2eaf9   Private  \n",
       "1      Стойка для Одежды  39aeb48f0017   Private  \n",
       "2         Philips bluray  91e2f88dd6e3   Private  \n",
       "3             Автокресло  bf5cccea572d   Company  \n",
       "4         ВАЗ 2110, 2003  ef50846afc0b   Private  "
      ]
     },
     "metadata": {},
     "output_type": "display_data"
    },
    {
     "data": {
      "text/plain": [
       "(2011862, 17)"
      ]
     },
     "metadata": {},
     "output_type": "display_data"
    }
   ],
   "source": [
    "df = train.append(test, ignore_index=True)\n",
    "display(df.head())\n",
    "display(df.shape)"
   ]
  },
  {
   "cell_type": "markdown",
   "metadata": {},
   "source": [
    "We only use data from train to normalize test's price."
   ]
  },
  {
   "cell_type": "code",
   "execution_count": 100,
   "metadata": {},
   "outputs": [
    {
     "data": {
      "text/html": [
       "<div>\n",
       "<style scoped>\n",
       "    .dataframe tbody tr th:only-of-type {\n",
       "        vertical-align: middle;\n",
       "    }\n",
       "\n",
       "    .dataframe tbody tr th {\n",
       "        vertical-align: top;\n",
       "    }\n",
       "\n",
       "    .dataframe thead th {\n",
       "        text-align: right;\n",
       "    }\n",
       "</style>\n",
       "<table border=\"1\" class=\"dataframe\">\n",
       "  <thead>\n",
       "    <tr style=\"text-align: right;\">\n",
       "      <th></th>\n",
       "      <th>activation_date</th>\n",
       "      <th>category_name</th>\n",
       "      <th>city</th>\n",
       "      <th>deal_probability</th>\n",
       "      <th>description</th>\n",
       "      <th>item_id</th>\n",
       "      <th>month</th>\n",
       "      <th>param_1</th>\n",
       "      <th>param_2</th>\n",
       "      <th>param_3</th>\n",
       "      <th>parent_category_name</th>\n",
       "      <th>price</th>\n",
       "      <th>region</th>\n",
       "      <th>source</th>\n",
       "      <th>title</th>\n",
       "      <th>user_id</th>\n",
       "      <th>user_type</th>\n",
       "      <th>mean</th>\n",
       "      <th>std</th>\n",
       "      <th>price_normal</th>\n",
       "    </tr>\n",
       "  </thead>\n",
       "  <tbody>\n",
       "    <tr>\n",
       "      <th>0</th>\n",
       "      <td>2017-03-28</td>\n",
       "      <td>Товары для детей и игрушки</td>\n",
       "      <td>Екатеринбург</td>\n",
       "      <td>0.12789</td>\n",
       "      <td>Кокон для сна малыша,пользовались меньше месяц...</td>\n",
       "      <td>b912c3c6a6ad</td>\n",
       "      <td>3</td>\n",
       "      <td>Постельные принадлежности</td>\n",
       "      <td>NaN</td>\n",
       "      <td>NaN</td>\n",
       "      <td>Личные вещи</td>\n",
       "      <td>400.0</td>\n",
       "      <td>Свердловская область</td>\n",
       "      <td>train</td>\n",
       "      <td>Кокоби(кокон для сна)</td>\n",
       "      <td>e00f8ff2eaf9</td>\n",
       "      <td>Private</td>\n",
       "      <td>4129.398175</td>\n",
       "      <td>1.353662e+05</td>\n",
       "      <td>-0.013774</td>\n",
       "    </tr>\n",
       "    <tr>\n",
       "      <th>1</th>\n",
       "      <td>2017-03-26</td>\n",
       "      <td>Мебель и интерьер</td>\n",
       "      <td>Самара</td>\n",
       "      <td>0.00000</td>\n",
       "      <td>Стойка для одежды, под вешалки. С бутика.</td>\n",
       "      <td>2dac0150717d</td>\n",
       "      <td>3</td>\n",
       "      <td>Другое</td>\n",
       "      <td>NaN</td>\n",
       "      <td>NaN</td>\n",
       "      <td>Для дома и дачи</td>\n",
       "      <td>3000.0</td>\n",
       "      <td>Самарская область</td>\n",
       "      <td>train</td>\n",
       "      <td>Стойка для Одежды</td>\n",
       "      <td>39aeb48f0017</td>\n",
       "      <td>Private</td>\n",
       "      <td>32201.494859</td>\n",
       "      <td>3.555820e+06</td>\n",
       "      <td>-0.004106</td>\n",
       "    </tr>\n",
       "    <tr>\n",
       "      <th>2</th>\n",
       "      <td>2017-03-20</td>\n",
       "      <td>Аудио и видео</td>\n",
       "      <td>Ростов-на-Дону</td>\n",
       "      <td>0.43177</td>\n",
       "      <td>В хорошем состоянии, домашний кинотеатр с blu ...</td>\n",
       "      <td>ba83aefab5dc</td>\n",
       "      <td>3</td>\n",
       "      <td>Видео, DVD и Blu-ray плееры</td>\n",
       "      <td>NaN</td>\n",
       "      <td>NaN</td>\n",
       "      <td>Бытовая электроника</td>\n",
       "      <td>4000.0</td>\n",
       "      <td>Ростовская область</td>\n",
       "      <td>train</td>\n",
       "      <td>Philips bluray</td>\n",
       "      <td>91e2f88dd6e3</td>\n",
       "      <td>Private</td>\n",
       "      <td>7518.729245</td>\n",
       "      <td>1.979137e+05</td>\n",
       "      <td>-0.008889</td>\n",
       "    </tr>\n",
       "    <tr>\n",
       "      <th>3</th>\n",
       "      <td>2017-03-25</td>\n",
       "      <td>Товары для детей и игрушки</td>\n",
       "      <td>Набережные Челны</td>\n",
       "      <td>0.80323</td>\n",
       "      <td>Продам кресло от0-25кг</td>\n",
       "      <td>02996f1dd2ea</td>\n",
       "      <td>3</td>\n",
       "      <td>Автомобильные кресла</td>\n",
       "      <td>NaN</td>\n",
       "      <td>NaN</td>\n",
       "      <td>Личные вещи</td>\n",
       "      <td>2200.0</td>\n",
       "      <td>Татарстан</td>\n",
       "      <td>train</td>\n",
       "      <td>Автокресло</td>\n",
       "      <td>bf5cccea572d</td>\n",
       "      <td>Company</td>\n",
       "      <td>4129.398175</td>\n",
       "      <td>1.353662e+05</td>\n",
       "      <td>-0.007126</td>\n",
       "    </tr>\n",
       "    <tr>\n",
       "      <th>4</th>\n",
       "      <td>2017-03-16</td>\n",
       "      <td>Автомобили</td>\n",
       "      <td>Волгоград</td>\n",
       "      <td>0.20797</td>\n",
       "      <td>Все вопросы по телефону.</td>\n",
       "      <td>7c90be56d2ab</td>\n",
       "      <td>3</td>\n",
       "      <td>С пробегом</td>\n",
       "      <td>ВАЗ (LADA)</td>\n",
       "      <td>2110</td>\n",
       "      <td>Транспорт</td>\n",
       "      <td>40000.0</td>\n",
       "      <td>Волгоградская область</td>\n",
       "      <td>train</td>\n",
       "      <td>ВАЗ 2110, 2003</td>\n",
       "      <td>ef50846afc0b</td>\n",
       "      <td>Private</td>\n",
       "      <td>377983.566760</td>\n",
       "      <td>5.233088e+05</td>\n",
       "      <td>-0.312153</td>\n",
       "    </tr>\n",
       "  </tbody>\n",
       "</table>\n",
       "</div>"
      ],
      "text/plain": [
       "  activation_date               category_name              city  \\\n",
       "0      2017-03-28  Товары для детей и игрушки      Екатеринбург   \n",
       "1      2017-03-26           Мебель и интерьер            Самара   \n",
       "2      2017-03-20               Аудио и видео    Ростов-на-Дону   \n",
       "3      2017-03-25  Товары для детей и игрушки  Набережные Челны   \n",
       "4      2017-03-16                  Автомобили         Волгоград   \n",
       "\n",
       "   deal_probability                                        description  \\\n",
       "0           0.12789  Кокон для сна малыша,пользовались меньше месяц...   \n",
       "1           0.00000          Стойка для одежды, под вешалки. С бутика.   \n",
       "2           0.43177  В хорошем состоянии, домашний кинотеатр с blu ...   \n",
       "3           0.80323                             Продам кресло от0-25кг   \n",
       "4           0.20797                           Все вопросы по телефону.   \n",
       "\n",
       "        item_id  month                      param_1     param_2 param_3  \\\n",
       "0  b912c3c6a6ad      3    Постельные принадлежности         NaN     NaN   \n",
       "1  2dac0150717d      3                       Другое         NaN     NaN   \n",
       "2  ba83aefab5dc      3  Видео, DVD и Blu-ray плееры         NaN     NaN   \n",
       "3  02996f1dd2ea      3         Автомобильные кресла         NaN     NaN   \n",
       "4  7c90be56d2ab      3                   С пробегом  ВАЗ (LADA)    2110   \n",
       "\n",
       "  parent_category_name    price                 region source  \\\n",
       "0          Личные вещи    400.0   Свердловская область  train   \n",
       "1      Для дома и дачи   3000.0      Самарская область  train   \n",
       "2  Бытовая электроника   4000.0     Ростовская область  train   \n",
       "3          Личные вещи   2200.0              Татарстан  train   \n",
       "4            Транспорт  40000.0  Волгоградская область  train   \n",
       "\n",
       "                   title       user_id user_type           mean           std  \\\n",
       "0  Кокоби(кокон для сна)  e00f8ff2eaf9   Private    4129.398175  1.353662e+05   \n",
       "1      Стойка для Одежды  39aeb48f0017   Private   32201.494859  3.555820e+06   \n",
       "2         Philips bluray  91e2f88dd6e3   Private    7518.729245  1.979137e+05   \n",
       "3             Автокресло  bf5cccea572d   Company    4129.398175  1.353662e+05   \n",
       "4         ВАЗ 2110, 2003  ef50846afc0b   Private  377983.566760  5.233088e+05   \n",
       "\n",
       "   price_normal  \n",
       "0     -0.013774  \n",
       "1     -0.004106  \n",
       "2     -0.008889  \n",
       "3     -0.007126  \n",
       "4     -0.312153  "
      ]
     },
     "execution_count": 100,
     "metadata": {},
     "output_type": "execute_result"
    }
   ],
   "source": [
    "price_normal= train.groupby(['category_name'])['price'].agg(['mean','std']).reset_index()\n",
    "df2 = pd.merge(df, price_normal, on='category_name', how='left')\n",
    "df2['price_normal'] = 2 / (1 + np.exp(-(df2['price'] - df2['mean']) / df2['std'])) - 1  ## between -1 and + 1\n",
    "df2.head()"
   ]
  },
  {
   "cell_type": "markdown",
   "metadata": {},
   "source": [
    "### Basic Analysis"
   ]
  },
  {
   "cell_type": "code",
   "execution_count": 101,
   "metadata": {},
   "outputs": [
    {
     "data": {
      "text/plain": [
       "<matplotlib.axes._subplots.AxesSubplot at 0x18127af9d68>"
      ]
     },
     "execution_count": 101,
     "metadata": {},
     "output_type": "execute_result"
    },
    {
     "data": {
      "image/png": "[encoded data removed]",
      "text/plain": [
       "<Figure size 432x288 with 2 Axes>"
      ]
     },
     "metadata": {},
     "output_type": "display_data"
    }
   ],
   "source": [
    "mean_probability = train.groupby(['parent_category_name','user_type'])['deal_probability'].mean().unstack()\n",
    "sns.heatmap(mean_probability, vmin=0, vmax=1, center=0.5, annot=True, fmt=\"f\")"
   ]
  },
  {
   "cell_type": "code",
   "execution_count": 123,
   "metadata": {},
   "outputs": [
    {
     "data": {
      "text/plain": [
       "<matplotlib.axes._subplots.AxesSubplot at 0x18158907748>"
      ]
     },
     "execution_count": 123,
     "metadata": {},
     "output_type": "execute_result"
    },
    {
     "data": {
      "image/png": "[encoded data removed]",
      "text/plain": [
       "<Figure size 432x288 with 2 Axes>"
      ]
     },
     "metadata": {},
     "output_type": "display_data"
    }
   ],
   "source": [
    "mean_probability2 = train[train['deal_probability'] > 0.3].groupby(['parent_category_name','user_type'])['deal_probability'].count().unstack()\n",
    "sns.heatmap(mean_probability2, annot=True, fmt=\"d\")"
   ]
  },
  {
   "cell_type": "code",
   "execution_count": 130,
   "metadata": {},
   "outputs": [
    {
     "data": {
      "text/plain": [
       "<matplotlib.axes._subplots.AxesSubplot at 0x18158b3d128>"
      ]
     },
     "execution_count": 130,
     "metadata": {},
     "output_type": "execute_result"
    },
    {
     "data": {
      "image/png": "[encoded data removed]",
      "text/plain": [
       "<Figure size 432x288 with 1 Axes>"
      ]
     },
     "metadata": {},
     "output_type": "display_data"
    }
   ],
   "source": [
    "train.groupby('user_type')['deal_probability'].mean().plot(kind='barh')"
   ]
  },
  {
   "cell_type": "code",
   "execution_count": 144,
   "metadata": {},
   "outputs": [
    {
     "data": {
      "text/plain": [
       "<matplotlib.axes._subplots.AxesSubplot at 0x18181bb17f0>"
      ]
     },
     "execution_count": 144,
     "metadata": {},
     "output_type": "execute_result"
    },
    {
     "data": {
      "image/png": "[encoded data removed]",
      "text/plain": [
       "<Figure size 720x720 with 1 Axes>"
      ]
     },
     "metadata": {},
     "output_type": "display_data"
    }
   ],
   "source": [
    "train.groupby('region')['deal_probability'].mean().plot(kind='barh', figsize=(10,10))"
   ]
  },
  {
   "cell_type": "code",
   "execution_count": null,
   "metadata": {},
   "outputs": [],
   "source": []
  },
  {
   "cell_type": "code",
   "execution_count": 156,
   "metadata": {},
   "outputs": [
    {
     "ename": "AttributeError",
     "evalue": "'SeriesGroupBy' object has no attribute 'tacked'",
     "output_type": "error",
     "traceback": [
      "\u001b[1;31m---------------------------------------------------------------------------\u001b[0m",
      "\u001b[1;31mAttributeError\u001b[0m                            Traceback (most recent call last)",
      "\u001b[1;32m<ipython-input-156-074f3a1ea24e>\u001b[0m in \u001b[0;36m<module>\u001b[1;34m()\u001b[0m\n\u001b[1;32m----> 1\u001b[1;33m \u001b[0mdf\u001b[0m\u001b[1;33m.\u001b[0m\u001b[0mgroupby\u001b[0m\u001b[1;33m(\u001b[0m\u001b[1;33m[\u001b[0m\u001b[1;34m'region'\u001b[0m\u001b[1;33m,\u001b[0m\u001b[1;34m'source'\u001b[0m\u001b[1;33m]\u001b[0m\u001b[1;33m)\u001b[0m\u001b[1;33m[\u001b[0m\u001b[1;34m'item_id'\u001b[0m\u001b[1;33m]\u001b[0m\u001b[1;33m.\u001b[0m\u001b[0mtacked\u001b[0m\u001b[1;33m(\u001b[0m\u001b[1;33m)\u001b[0m\u001b[1;33m.\u001b[0m\u001b[0mcount\u001b[0m\u001b[1;33m(\u001b[0m\u001b[1;33m)\u001b[0m\u001b[1;33m.\u001b[0m\u001b[0mplot\u001b[0m\u001b[1;33m(\u001b[0m\u001b[0mkind\u001b[0m\u001b[1;33m=\u001b[0m\u001b[1;34m'barh'\u001b[0m\u001b[1;33m,\u001b[0m \u001b[0mfigsize\u001b[0m\u001b[1;33m=\u001b[0m\u001b[1;33m(\u001b[0m\u001b[1;36m10\u001b[0m\u001b[1;33m,\u001b[0m\u001b[1;36m10\u001b[0m\u001b[1;33m)\u001b[0m\u001b[1;33m,\u001b[0m \u001b[0mstacked\u001b[0m\u001b[1;33m=\u001b[0m\u001b[1;32mTrue\u001b[0m \u001b[1;33m)\u001b[0m\u001b[1;33m\u001b[0m\u001b[0m\n\u001b[0m",
      "\u001b[1;32mC:\\Anaconda3\\lib\\site-packages\\pandas\\core\\groupby.py\u001b[0m in \u001b[0;36m__getattr__\u001b[1;34m(self, attr)\u001b[0m\n\u001b[0;32m    674\u001b[0m \u001b[1;33m\u001b[0m\u001b[0m\n\u001b[0;32m    675\u001b[0m         raise AttributeError(\"%r object has no attribute %r\" %\n\u001b[1;32m--> 676\u001b[1;33m                              (type(self).__name__, attr))\n\u001b[0m\u001b[0;32m    677\u001b[0m \u001b[1;33m\u001b[0m\u001b[0m\n\u001b[0;32m    678\u001b[0m     \u001b[0mplot\u001b[0m \u001b[1;33m=\u001b[0m \u001b[0mproperty\u001b[0m\u001b[1;33m(\u001b[0m\u001b[0mGroupByPlot\u001b[0m\u001b[1;33m)\u001b[0m\u001b[1;33m\u001b[0m\u001b[0m\n",
      "\u001b[1;31mAttributeError\u001b[0m: 'SeriesGroupBy' object has no attribute 'tacked'"
     ]
    }
   ],
   "source": [
    "df.groupby(['region','source'])['item_id'].tacked().count().plot(kind='barh', figsize=(10,10), stacked=True )"
   ]
  },
  {
   "cell_type": "code",
   "execution_count": 135,
   "metadata": {},
   "outputs": [
    {
     "data": {
      "text/plain": [
       "<matplotlib.axes._subplots.AxesSubplot at 0x18127426048>"
      ]
     },
     "execution_count": 135,
     "metadata": {},
     "output_type": "execute_result"
    },
    {
     "data": {
      "image/png": "[encoded data removed]",
      "text/plain": [
       "<Figure size 432x288 with 1 Axes>"
      ]
     },
     "metadata": {},
     "output_type": "display_data"
    }
   ],
   "source": [
    "df.groupby(['month','source'])['deal_probability'].mean().plot(kind='barh', by='source')"
   ]
  },
  {
   "cell_type": "code",
   "execution_count": null,
   "metadata": {},
   "outputs": [],
   "source": [
    "train.price[train.price<50000].hist(by=(train.deal_probability>0.3), bins=30, figsize=(10,7))"
   ]
  },
  {
   "cell_type": "code",
   "execution_count": null,
   "metadata": {},
   "outputs": [],
   "source": [
    "train.deal_probability[train.deal_probability>0.0].hist(by=(train.price>300),bins=30, figsize=(10,7))"
   ]
  },
  {
   "cell_type": "code",
   "execution_count": null,
   "metadata": {
    "scrolled": false
   },
   "outputs": [],
   "source": []
  },
  {
   "cell_type": "code",
   "execution_count": null,
   "metadata": {
    "scrolled": false
   },
   "outputs": [],
   "source": [
    "t3 = train.groupby(['category_name','user_type'])['deal_probability'].mean()\n",
    "t3.to_csv(dir + 't3.csv', sep='#')"
   ]
  },
  {
   "cell_type": "code",
   "execution_count": null,
   "metadata": {},
   "outputs": [],
   "source": [
    "t4 = test[['item_id', 'category_name', 'user_type','price']]\n",
    "t4.to_csv(dir + 't4.csv', sep='#')\n",
    "t4.head()"
   ]
  },
  {
   "cell_type": "code",
   "execution_count": null,
   "metadata": {},
   "outputs": [],
   "source": [
    "periods.date_from = pd.to_datetime(periods.date_from)\n",
    "periods.date_to = pd.to_datetime(periods.date_to)\n",
    "periods.activation_date = pd.to_datetime(periods.activation_date)\n",
    "periods.head()"
   ]
  },
  {
   "cell_type": "code",
   "execution_count": null,
   "metadata": {},
   "outputs": [],
   "source": [
    "periods['time_diff'] = ((periods.date_to - periods.date_from) / np.timedelta64(1, 'D')).astype(int)\n",
    "periods.head()"
   ]
  },
  {
   "cell_type": "code",
   "execution_count": null,
   "metadata": {},
   "outputs": [],
   "source": [
    "p_g = periods.groupby('item_id')['time_diff'].sum()\n",
    "p_g.head(20)"
   ]
  },
  {
   "cell_type": "code",
   "execution_count": null,
   "metadata": {},
   "outputs": [],
   "source": [
    "p_min = periods.groupby('item_id')['date_from'].min()\n",
    "p_min.head()"
   ]
  },
  {
   "cell_type": "code",
   "execution_count": null,
   "metadata": {},
   "outputs": [],
   "source": [
    "p_max = periods.groupby('item_id')['date_to'].max()\n",
    "p_max.head()"
   ]
  },
  {
   "cell_type": "code",
   "execution_count": null,
   "metadata": {},
   "outputs": [],
   "source": [
    "p_m = periods['date_to'].dt.month\n",
    "p_m.head()"
   ]
  },
  {
   "cell_type": "code",
   "execution_count": null,
   "metadata": {},
   "outputs": [],
   "source": [
    "per = pd.DataFrame([p_m,p_min,p_max])\n",
    "per.head()"
   ]
  },
  {
   "cell_type": "code",
   "execution_count": null,
   "metadata": {},
   "outputs": [],
   "source": [
    "pd.to_pickle(train, dir + 'train.pickle')\n",
    "pd.to_pickle(periods, dir + 'periods.pickle')\n",
    "pd.to_pickle(submission, dir + 'submission.pickle')\n",
    "pd.to_pickle(test, dir + 'test.pickle')"
   ]
  },
  {
   "cell_type": "code",
   "execution_count": null,
   "metadata": {},
   "outputs": [],
   "source": [
    "t2 = train[['item_id', 'category_name', 'user_type', 'deal_probability','price']]\n",
    "t2.to_csv(dir + 't2.csv', sep='#')\n",
    "t2.head()"
   ]
  }
 ],
 "metadata": {
  "kernelspec": {
   "display_name": "Python 3",
   "language": "python",
   "name": "python3"
  },
  "language_info": {
   "codemirror_mode": {
    "name": "ipython",
    "version": 3
   },
   "file_extension": ".py",
   "mimetype": "text/x-python",
   "name": "python",
   "nbconvert_exporter": "python",
   "pygments_lexer": "ipython3",
   "version": "3.6.5"
  }
 },
 "nbformat": 4,
 "nbformat_minor": 2
}
