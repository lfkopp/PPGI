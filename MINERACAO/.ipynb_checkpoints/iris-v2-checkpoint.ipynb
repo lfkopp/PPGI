{
 "cells": [
  {
   "cell_type": "markdown",
   "metadata": {},
   "source": [
    "## Mineração\n",
    "### Trabalho de classificação IRIS\n",
    "### Luis FIlipe Kopp"
   ]
  },
  {
   "cell_type": "code",
   "execution_count": 1,
   "metadata": {},
   "outputs": [],
   "source": [
    "import numpy as np\n",
    "from sklearn.datasets import load_iris\n",
    "from sklearn import svm\n",
    "import pandas as pd\n",
    "from sklearn.metrics import accuracy_score\n",
    "from sklearn.model_selection import train_test_split\n",
    "from matplotlib import pyplot as plt\n",
    "from IPython.display import clear_output"
   ]
  },
  {
   "cell_type": "markdown",
   "metadata": {},
   "source": [
    "Após importar as bibliotecas, carrega-se a base de dados, já disponível no sklearn. A Descrição da base é apresentada em seguida."
   ]
  },
  {
   "cell_type": "code",
   "execution_count": 2,
   "metadata": {},
   "outputs": [
    {
     "name": "stdout",
     "output_type": "stream",
     "text": [
      "Iris Plants Database\n",
      "====================\n",
      "\n",
      "Notes\n",
      "-----\n",
      "Data Set Characteristics:\n",
      "    :Number of Instances: 150 (50 in each of three classes)\n",
      "    :Number of Attributes: 4 numeric, predictive attributes and the class\n",
      "    :Attribute Information:\n",
      "        - sepal length in cm\n",
      "        - sepal width in cm\n",
      "        - petal length in cm\n",
      "        - petal width in cm\n",
      "        - class:\n",
      "                - Iris-Setosa\n",
      "                - Iris-Versicolour\n",
      "                - Iris-Virginica\n",
      "    :Summary Statistics:\n",
      "\n",
      "    ============== ==== ==== ======= ===== ====================\n",
      "                    Min  Max   Mean    SD   Class Correlation\n",
      "    ============== ==== ==== ======= ===== ====================\n",
      "    sepal length:   4.3  7.9   5.84   0.83    0.7826\n",
      "    sepal width:    2.0  4.4   3.05   0.43   -0.4194\n",
      "    petal length:   1.0  6.9   3.76   1.76    0.9490  (high!)\n",
      "    petal width:    0.1  2.5   1.20  0.76     0.9565  (high!)\n",
      "    ============== ==== ==== ======= ===== ====================\n",
      "\n",
      "    :Missing Attribute Values: None\n",
      "    :Class Distribution: 33.3% for each of 3 classes.\n",
      "    :Creator: R.A. Fisher\n",
      "    :Donor: Michael Marshall (MARSHALL%PLU@io.arc.nasa.gov)\n",
      "    :Date: July, 1988\n",
      "\n",
      "This is a copy of UCI ML iris datasets.\n",
      "http://archive.ics.uci.edu/ml/datasets/Iris\n",
      "\n",
      "The famous Iris database, first used by Sir R.A Fisher\n",
      "\n",
      "This is perhaps the best known database to be found in the\n",
      "pattern recognition literature.  Fisher's paper is a classic in the field and\n",
      "is referenced frequently to this day.  (See Duda & Hart, for example.)  The\n",
      "data set contains 3 classes of 50 instances each, where each class refers to a\n",
      "type of iris plant.  One class is linearly separable from the other 2; the\n",
      "latter are NOT linearly separable from each other.\n",
      "\n",
      "References\n",
      "----------\n",
      "   - Fisher,R.A. \"The use of multiple measurements in taxonomic problems\"\n",
      "     Annual Eugenics, 7, Part II, 179-188 (1936); also in \"Contributions to\n",
      "     Mathematical Statistics\" (John Wiley, NY, 1950).\n",
      "   - Duda,R.O., & Hart,P.E. (1973) Pattern Classification and Scene Analysis.\n",
      "     (Q327.D83) John Wiley & Sons.  ISBN 0-471-22361-1.  See page 218.\n",
      "   - Dasarathy, B.V. (1980) \"Nosing Around the Neighborhood: A New System\n",
      "     Structure and Classification Rule for Recognition in Partially Exposed\n",
      "     Environments\".  IEEE Transactions on Pattern Analysis and Machine\n",
      "     Intelligence, Vol. PAMI-2, No. 1, 67-71.\n",
      "   - Gates, G.W. (1972) \"The Reduced Nearest Neighbor Rule\".  IEEE Transactions\n",
      "     on Information Theory, May 1972, 431-433.\n",
      "   - See also: 1988 MLC Proceedings, 54-64.  Cheeseman et al\"s AUTOCLASS II\n",
      "     conceptual clustering system finds 3 classes in the data.\n",
      "   - Many, many more ...\n",
      "\n"
     ]
    }
   ],
   "source": [
    "iris = load_iris()\n",
    "X = iris.data\n",
    "y = iris.target\n",
    "print(iris.DESCR)"
   ]
  },
  {
   "cell_type": "markdown",
   "metadata": {},
   "source": [
    "Uma pré- análise nos dados não apresentou anormalidades. Existem 3 grupos com 50 objetos cada. Espera-se que alguns dos parâmetros sejam altamente correlacionados e isso pode ser problema para alguns métodos."
   ]
  },
  {
   "cell_type": "code",
   "execution_count": 3,
   "metadata": {},
   "outputs": [
    {
     "data": {
      "text/html": [
       "<div>\n",
       "<style scoped>\n",
       "    .dataframe tbody tr th:only-of-type {\n",
       "        vertical-align: middle;\n",
       "    }\n",
       "\n",
       "    .dataframe tbody tr th {\n",
       "        vertical-align: top;\n",
       "    }\n",
       "\n",
       "    .dataframe thead th {\n",
       "        text-align: right;\n",
       "    }\n",
       "</style>\n",
       "<table border=\"1\" class=\"dataframe\">\n",
       "  <thead>\n",
       "    <tr style=\"text-align: right;\">\n",
       "      <th></th>\n",
       "      <th>0</th>\n",
       "      <th>1</th>\n",
       "      <th>2</th>\n",
       "      <th>3</th>\n",
       "    </tr>\n",
       "  </thead>\n",
       "  <tbody>\n",
       "    <tr>\n",
       "      <th>count</th>\n",
       "      <td>50.00000</td>\n",
       "      <td>50.000000</td>\n",
       "      <td>50.000000</td>\n",
       "      <td>50.00000</td>\n",
       "    </tr>\n",
       "    <tr>\n",
       "      <th>mean</th>\n",
       "      <td>5.00600</td>\n",
       "      <td>3.418000</td>\n",
       "      <td>1.464000</td>\n",
       "      <td>0.24400</td>\n",
       "    </tr>\n",
       "    <tr>\n",
       "      <th>std</th>\n",
       "      <td>0.35249</td>\n",
       "      <td>0.381024</td>\n",
       "      <td>0.173511</td>\n",
       "      <td>0.10721</td>\n",
       "    </tr>\n",
       "    <tr>\n",
       "      <th>min</th>\n",
       "      <td>4.30000</td>\n",
       "      <td>2.300000</td>\n",
       "      <td>1.000000</td>\n",
       "      <td>0.10000</td>\n",
       "    </tr>\n",
       "    <tr>\n",
       "      <th>25%</th>\n",
       "      <td>4.80000</td>\n",
       "      <td>3.125000</td>\n",
       "      <td>1.400000</td>\n",
       "      <td>0.20000</td>\n",
       "    </tr>\n",
       "    <tr>\n",
       "      <th>50%</th>\n",
       "      <td>5.00000</td>\n",
       "      <td>3.400000</td>\n",
       "      <td>1.500000</td>\n",
       "      <td>0.20000</td>\n",
       "    </tr>\n",
       "    <tr>\n",
       "      <th>75%</th>\n",
       "      <td>5.20000</td>\n",
       "      <td>3.675000</td>\n",
       "      <td>1.575000</td>\n",
       "      <td>0.30000</td>\n",
       "    </tr>\n",
       "    <tr>\n",
       "      <th>max</th>\n",
       "      <td>5.80000</td>\n",
       "      <td>4.400000</td>\n",
       "      <td>1.900000</td>\n",
       "      <td>0.60000</td>\n",
       "    </tr>\n",
       "  </tbody>\n",
       "</table>\n",
       "</div>"
      ],
      "text/plain": [
       "              0          1          2         3\n",
       "count  50.00000  50.000000  50.000000  50.00000\n",
       "mean    5.00600   3.418000   1.464000   0.24400\n",
       "std     0.35249   0.381024   0.173511   0.10721\n",
       "min     4.30000   2.300000   1.000000   0.10000\n",
       "25%     4.80000   3.125000   1.400000   0.20000\n",
       "50%     5.00000   3.400000   1.500000   0.20000\n",
       "75%     5.20000   3.675000   1.575000   0.30000\n",
       "max     5.80000   4.400000   1.900000   0.60000"
      ]
     },
     "metadata": {},
     "output_type": "display_data"
    },
    {
     "data": {
      "text/html": [
       "<div>\n",
       "<style scoped>\n",
       "    .dataframe tbody tr th:only-of-type {\n",
       "        vertical-align: middle;\n",
       "    }\n",
       "\n",
       "    .dataframe tbody tr th {\n",
       "        vertical-align: top;\n",
       "    }\n",
       "\n",
       "    .dataframe thead th {\n",
       "        text-align: right;\n",
       "    }\n",
       "</style>\n",
       "<table border=\"1\" class=\"dataframe\">\n",
       "  <thead>\n",
       "    <tr style=\"text-align: right;\">\n",
       "      <th></th>\n",
       "      <th>0</th>\n",
       "      <th>1</th>\n",
       "      <th>2</th>\n",
       "      <th>3</th>\n",
       "    </tr>\n",
       "  </thead>\n",
       "  <tbody>\n",
       "    <tr>\n",
       "      <th>count</th>\n",
       "      <td>50.000000</td>\n",
       "      <td>50.000000</td>\n",
       "      <td>50.000000</td>\n",
       "      <td>50.000000</td>\n",
       "    </tr>\n",
       "    <tr>\n",
       "      <th>mean</th>\n",
       "      <td>5.936000</td>\n",
       "      <td>2.770000</td>\n",
       "      <td>4.260000</td>\n",
       "      <td>1.326000</td>\n",
       "    </tr>\n",
       "    <tr>\n",
       "      <th>std</th>\n",
       "      <td>0.516171</td>\n",
       "      <td>0.313798</td>\n",
       "      <td>0.469911</td>\n",
       "      <td>0.197753</td>\n",
       "    </tr>\n",
       "    <tr>\n",
       "      <th>min</th>\n",
       "      <td>4.900000</td>\n",
       "      <td>2.000000</td>\n",
       "      <td>3.000000</td>\n",
       "      <td>1.000000</td>\n",
       "    </tr>\n",
       "    <tr>\n",
       "      <th>25%</th>\n",
       "      <td>5.600000</td>\n",
       "      <td>2.525000</td>\n",
       "      <td>4.000000</td>\n",
       "      <td>1.200000</td>\n",
       "    </tr>\n",
       "    <tr>\n",
       "      <th>50%</th>\n",
       "      <td>5.900000</td>\n",
       "      <td>2.800000</td>\n",
       "      <td>4.350000</td>\n",
       "      <td>1.300000</td>\n",
       "    </tr>\n",
       "    <tr>\n",
       "      <th>75%</th>\n",
       "      <td>6.300000</td>\n",
       "      <td>3.000000</td>\n",
       "      <td>4.600000</td>\n",
       "      <td>1.500000</td>\n",
       "    </tr>\n",
       "    <tr>\n",
       "      <th>max</th>\n",
       "      <td>7.000000</td>\n",
       "      <td>3.400000</td>\n",
       "      <td>5.100000</td>\n",
       "      <td>1.800000</td>\n",
       "    </tr>\n",
       "  </tbody>\n",
       "</table>\n",
       "</div>"
      ],
      "text/plain": [
       "               0          1          2          3\n",
       "count  50.000000  50.000000  50.000000  50.000000\n",
       "mean    5.936000   2.770000   4.260000   1.326000\n",
       "std     0.516171   0.313798   0.469911   0.197753\n",
       "min     4.900000   2.000000   3.000000   1.000000\n",
       "25%     5.600000   2.525000   4.000000   1.200000\n",
       "50%     5.900000   2.800000   4.350000   1.300000\n",
       "75%     6.300000   3.000000   4.600000   1.500000\n",
       "max     7.000000   3.400000   5.100000   1.800000"
      ]
     },
     "metadata": {},
     "output_type": "display_data"
    },
    {
     "data": {
      "text/html": [
       "<div>\n",
       "<style scoped>\n",
       "    .dataframe tbody tr th:only-of-type {\n",
       "        vertical-align: middle;\n",
       "    }\n",
       "\n",
       "    .dataframe tbody tr th {\n",
       "        vertical-align: top;\n",
       "    }\n",
       "\n",
       "    .dataframe thead th {\n",
       "        text-align: right;\n",
       "    }\n",
       "</style>\n",
       "<table border=\"1\" class=\"dataframe\">\n",
       "  <thead>\n",
       "    <tr style=\"text-align: right;\">\n",
       "      <th></th>\n",
       "      <th>0</th>\n",
       "      <th>1</th>\n",
       "      <th>2</th>\n",
       "      <th>3</th>\n",
       "    </tr>\n",
       "  </thead>\n",
       "  <tbody>\n",
       "    <tr>\n",
       "      <th>count</th>\n",
       "      <td>50.00000</td>\n",
       "      <td>50.000000</td>\n",
       "      <td>50.000000</td>\n",
       "      <td>50.00000</td>\n",
       "    </tr>\n",
       "    <tr>\n",
       "      <th>mean</th>\n",
       "      <td>6.58800</td>\n",
       "      <td>2.974000</td>\n",
       "      <td>5.552000</td>\n",
       "      <td>2.02600</td>\n",
       "    </tr>\n",
       "    <tr>\n",
       "      <th>std</th>\n",
       "      <td>0.63588</td>\n",
       "      <td>0.322497</td>\n",
       "      <td>0.551895</td>\n",
       "      <td>0.27465</td>\n",
       "    </tr>\n",
       "    <tr>\n",
       "      <th>min</th>\n",
       "      <td>4.90000</td>\n",
       "      <td>2.200000</td>\n",
       "      <td>4.500000</td>\n",
       "      <td>1.40000</td>\n",
       "    </tr>\n",
       "    <tr>\n",
       "      <th>25%</th>\n",
       "      <td>6.22500</td>\n",
       "      <td>2.800000</td>\n",
       "      <td>5.100000</td>\n",
       "      <td>1.80000</td>\n",
       "    </tr>\n",
       "    <tr>\n",
       "      <th>50%</th>\n",
       "      <td>6.50000</td>\n",
       "      <td>3.000000</td>\n",
       "      <td>5.550000</td>\n",
       "      <td>2.00000</td>\n",
       "    </tr>\n",
       "    <tr>\n",
       "      <th>75%</th>\n",
       "      <td>6.90000</td>\n",
       "      <td>3.175000</td>\n",
       "      <td>5.875000</td>\n",
       "      <td>2.30000</td>\n",
       "    </tr>\n",
       "    <tr>\n",
       "      <th>max</th>\n",
       "      <td>7.90000</td>\n",
       "      <td>3.800000</td>\n",
       "      <td>6.900000</td>\n",
       "      <td>2.50000</td>\n",
       "    </tr>\n",
       "  </tbody>\n",
       "</table>\n",
       "</div>"
      ],
      "text/plain": [
       "              0          1          2         3\n",
       "count  50.00000  50.000000  50.000000  50.00000\n",
       "mean    6.58800   2.974000   5.552000   2.02600\n",
       "std     0.63588   0.322497   0.551895   0.27465\n",
       "min     4.90000   2.200000   4.500000   1.40000\n",
       "25%     6.22500   2.800000   5.100000   1.80000\n",
       "50%     6.50000   3.000000   5.550000   2.00000\n",
       "75%     6.90000   3.175000   5.875000   2.30000\n",
       "max     7.90000   3.800000   6.900000   2.50000"
      ]
     },
     "metadata": {},
     "output_type": "display_data"
    }
   ],
   "source": [
    "for x in [0,50,100]:\n",
    "    display(pd.DataFrame(X[x:x+50]).describe())"
   ]
  },
  {
   "cell_type": "markdown",
   "metadata": {},
   "source": [
    "Definimos a classe Perceptron, que inicializa as variáveis/ parâmetros, cria a função fit, para treinar (calibrar a matriz de pesoas da rede) e a predict, para aplicar a matriz de pesos nos dados de teste. Não fizemos a validação e temos o risco de overfitness, mas como temos poucos dados, ficamos com poucas opções. "
   ]
  },
  {
   "cell_type": "markdown",
   "metadata": {},
   "source": [
    "Em <b>FIT</b>, criamos uma matriz randômica de tamanho (parâmetros de X (4), classes de y (3)), com valores entre -0.5 e 0.5.\n",
    "\n",
    "Em seguida, criamos um loop de n_iter iterações, onde a matriz X é multiplicada pela matriz pesos. Aplica-se a função sigmoid para manter tudo entre 0 e 1. Depois o índice do maior valor de cada linha é usado para determinar a classe daquela linha. \n",
    "\n",
    "Na iteração, ainda é calculada a ocorrência de classes previstas diferente das classes disponíveis na base de dados. Esse valor de número de erros é usado no passo a seguir.\n",
    "\n",
    "Uma matriz randômica de mesmo tamanho de pesoas é criada, multiplicamos ela pelo número de erros e learning rate. Ou seja, se tem muito erro, ela pode procurar através de random walk com passos maiores uma solução interessante. O learning rate ajusta o tamanho do passo padrão. Depois, somamos com a matriz peso disponível.\n",
    "\n",
    "Caso após a soma da matriz a previsão melhore, a matriz peso é substituída pela matriz obtida.\n",
    "\n",
    "Criamos também a variável self_correction, que aumenta os passos a cada iteração onde não houve melhoria de previsão. Ou seja, se houve melhoria, pode-se procurar um ponto ótimo perto, senão vai aumentando os passos até achar algum outro ponto ótimo.\n",
    "\n",
    "A função <b>PREDICT</b> aplica os pesos disponíveis nos dados de entrada."
   ]
  },
  {
   "cell_type": "code",
   "execution_count": 4,
   "metadata": {},
   "outputs": [],
   "source": [
    "class Perceptron:\n",
    "\n",
    "    def __init__(self, learning_rate=.2, n_iter=10000):\n",
    "        self.weights = None\n",
    "        self.weights2 = None\n",
    "        self.learning_rate = learning_rate\n",
    "        self.input_size = 0\n",
    "        self.output_size = 0\n",
    "        self.n_iter = n_iter\n",
    "        self.errors = []\n",
    "        self.y_hat = []\n",
    "        self.y_hat2 = []\n",
    "        self.correction = 1\n",
    "        #print(\"l_rate: \",self.learning_rate,\"n_iter: \",self.n_iter)\n",
    "        #print(\"weights: \",self.weights)\n",
    "        \n",
    "    def fit(self, X, y):\n",
    "        self.input_size = len(y)\n",
    "        self.output_size = len(np.unique(y))\n",
    "        self.weights = np.random.rand(X.shape[1], self.output_size) - 0.5\n",
    "        y_temp = []\n",
    "\n",
    "        for _ in range(self.n_iter):\n",
    "            self.correction += 0.2\n",
    "            self.y_hat = np.argmax(self._sigmoid(np.dot(X, self.weights)), axis = 1)\n",
    "            err = sum(y != self.y_hat)\n",
    "            self.errors.append(err / self.input_size)\n",
    "            self.weights2 = self.weights.copy()\n",
    "            self.weights2 += (np.random.rand(X.shape[1], self.output_size) -1 )* self.correction * self.learning_rate * err / self.input_size   \n",
    "            self.y_hat2 = np.argmax(self._sigmoid(np.dot(X, self.weights2)), axis = 1)\n",
    "            err2 = sum(y != self.y_hat2)\n",
    "            if err2 < err:\n",
    "                print(\"o\", flush=True, end=\"\")\n",
    "                self.correction = 0\n",
    "                self.weights = self.weights2.copy()\n",
    "                if err2 < 1: break\n",
    "            #else: print(\".\", flush=True, end=\"\")\n",
    "        plt.plot(clf.errors)\n",
    "        #print('')\n",
    "        return self\n",
    "\n",
    "    def _sigmoid(self, x): \n",
    "        s = 1/(1 + np.exp(-x))\n",
    "        return s\n",
    "    \n",
    "    def _sigmoid2(self, x): \n",
    "        s = x * (1-x)\n",
    "        return s\n",
    "    \n",
    "    def predict(self, X):\n",
    "        return np.argmax(self._sigmoid(np.dot(X, self.weights)), axis = 1)\n",
    "\n",
    "\n",
    "\n"
   ]
  },
  {
   "cell_type": "markdown",
   "metadata": {},
   "source": [
    "Abaixo, aplicamos a classe perceptron nos dados diversas vezes, para obter significância estatística nos resultados.\n",
    "\n",
    "Com 2000-2500 iterações já temos resultados acima de 90% de acerto."
   ]
  },
  {
   "cell_type": "code",
   "execution_count": 5,
   "metadata": {
    "scrolled": false
   },
   "outputs": [
    {
     "name": "stdout",
     "output_type": "stream",
     "text": [
      "ACC MEAN:  0.93778 ACC STD:  0.03143\n"
     ]
    },
    {
     "data": {
      "image/png": "[encoded data removed]",
      "text/plain": [
       "<Figure size 432x288 with 1 Axes>"
      ]
     },
     "metadata": {},
     "output_type": "display_data"
    }
   ],
   "source": [
    "for s in range(40,50):\n",
    "    for p in range(-2,0,.2):\n",
    "        np.random.seed(s)\n",
    "        acc_list = []\n",
    "        for i in range(5):\n",
    "            X_train, X_test, y_train, y_test  = train_test_split(X, y, test_size=0.3)\n",
    "\n",
    "            #criando o classificador\n",
    "            clf = Perceptron(learning_rate=10**p)\n",
    "\n",
    "            # vamos aprender!\n",
    "            clf.fit(X_train, y_train)\n",
    "\n",
    "            # utilizando o modelo para prever\n",
    "            y_hat = clf.predict(X_test)\n",
    "\n",
    "            # medindo acertos\n",
    "            acc = accuracy_score(y_test, y_hat)\n",
    "            acc_list.append(acc)\n",
    "            #clear_output()\n",
    "            print(s,p,\"ACC MEAN: \", np.round(np.mean(acc_list),5), \"ACC STD: \", np.round(np.std(acc_list),5),flush=True)"
   ]
  },
  {
   "cell_type": "code",
   "execution_count": 6,
   "metadata": {},
   "outputs": [
    {
     "data": {
      "image/png": "[encoded data removed]",
      "text/plain": [
       "<Figure size 432x288 with 1 Axes>"
      ]
     },
     "metadata": {},
     "output_type": "display_data"
    }
   ],
   "source": [
    "plt.hist(acc_list,bins=20,range=(0.6,1))\n",
    "plt.show()"
   ]
  },
  {
   "cell_type": "markdown",
   "metadata": {},
   "source": [
    "### O benchmarking é a função otimizada da própria biblioteca do sklearn"
   ]
  },
  {
   "cell_type": "code",
   "execution_count": 7,
   "metadata": {},
   "outputs": [
    {
     "name": "stdout",
     "output_type": "stream",
     "text": [
      "NN do sklearn\n",
      "ACC MEAN:  0.9704000000000002\n",
      "ACC STD:  0.02144388024588834\n"
     ]
    }
   ],
   "source": [
    "acc_list = []\n",
    "np.random.seed(42)\n",
    "for i in range(100):\n",
    "    X_train, X_test, y_train, y_test  = train_test_split(X, y, test_size=0.33)\n",
    "    \n",
    "    #criando o classificador\n",
    "    clf = svm.SVC()\n",
    "    \n",
    "    # vamos aprender!\n",
    "    clf.fit(X_train, y_train)\n",
    "    \n",
    "    # utilizando o modelo para prever\n",
    "    y_hat = clf.predict(X_test)\n",
    "\n",
    "    \n",
    "    acc = accuracy_score(y_test, y_hat)\n",
    "    acc_list.append(acc)\n",
    "\n",
    "print(\"NN do sklearn\")\n",
    "print(\"ACC MEAN: \", np.mean(acc_list))\n",
    "print(\"ACC STD: \", np.std(acc_list))"
   ]
  },
  {
   "cell_type": "code",
   "execution_count": 8,
   "metadata": {},
   "outputs": [
    {
     "data": {
      "image/png": "[encoded data removed]",
      "text/plain": [
       "<Figure size 432x288 with 1 Axes>"
      ]
     },
     "metadata": {},
     "output_type": "display_data"
    }
   ],
   "source": [
    "plt.hist(acc_list,bins=20,range=(0.6,1))\n",
    "plt.show()"
   ]
  },
  {
   "cell_type": "markdown",
   "metadata": {},
   "source": [
    "### Conclusão:\n",
    "Nossa abordagemingênua usando random walk para achar um ponto ótimo não é mais eficiente que a função otimizada disponível na biblioteca. Mas apresenta resultados satisfatórios. Como melhorias, podia-se colocar o gradiente descendente e criar uma coluna de bias na ,atriz peso."
   ]
  }
 ],
 "metadata": {
  "kernelspec": {
   "display_name": "Python 3",
   "language": "python",
   "name": "python3"
  },
  "language_info": {
   "codemirror_mode": {
    "name": "ipython",
    "version": 3
   },
   "file_extension": ".py",
   "mimetype": "text/x-python",
   "name": "python",
   "nbconvert_exporter": "python",
   "pygments_lexer": "ipython3",
   "version": "3.6.5"
  }
 },
 "nbformat": 4,
 "nbformat_minor": 2
}
