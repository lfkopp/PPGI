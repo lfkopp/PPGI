{
 "cells": [
  {
   "cell_type": "markdown",
   "metadata": {},
   "source": [
    "PPGI/UFRJ  //  Análise de Risco  //  Prof. Eber  \n",
    "Lista 06  //  Data: 17/07/2018  //  Entrega: 24/07/2018  \n",
    "Luis Filipe Kopp"
   ]
  },
  {
   "cell_type": "markdown",
   "metadata": {},
   "source": [
    "Uma empresa de projetos está fazendo um estudo de previsão dos negócios para o primeiro semestre do próximo ano. Quase todos os negócios, à exceção de dois contratos tem uma chance de serem fechados. Além disto, sua data de início e faturamento total são dados por uma estimativa.  \n",
    "\n",
    "Após uma reunião com a equipe do departamento comercial, foram identificados 8 projetos cujas características estão mostradas nas tabelas 1 e 2. A partir destes dados, construa um modelo de risco do negócio da empresa de projetos,\n",
    "que mostra o risco da contribuição líquida mensal para o para os primeiros meses do próximo ano."
   ]
  },
  {
   "cell_type": "markdown",
   "metadata": {},
   "source": [
    "|Contrato|Chance|Inicio min|inicio prov|inicio max|duracao min|duracao prov|duracao max|\n",
    "|---|---|---|---|---|---|---|---|\n",
    "|A|1|1|1|1|2|3|5|\n",
    "|B|1|1|1|1|6|7|9|\n",
    "|C|0.3|2|3|5|4|4|5|\n",
    "|D|0.4|1.5|2|3|2|2.5|3.5|\n",
    "|E|0.2|2|2|4|3|3|5|\n",
    "|F|0.4|2|3|6|2|2|3|\n",
    "|G|0.4|1|2|3.5|2|3|5|\n",
    "|H|0.5|2.5|3|5|3|3.5|4.5|\n",
    "Tabela 1 - Estimativa de início e duração dos contratos\n"
   ]
  },
  {
   "cell_type": "markdown",
   "metadata": {},
   "source": [
    "|Contrato|faturamento min|faturamento prov|faturamento max|margem min|margem prov|margem max|\n",
    "|---|---|---|---|---|---|---|\n",
    "|A|400|425|525|0.14|0.18|0.21|\n",
    "|B|375|480|550|0.17|0.22|0.26|\n",
    "|C|525|600|780|0.14|0.18|0.21|\n",
    "|D|625|700|800|0.14|0.18|0.21|\n",
    "|E|250|300|370|0.17|0.22|0.26|\n",
    "|F|425|475|550|0.14|0.18|0.21|\n",
    "|G|480|500|550|0.17|0.22|0.26|\n",
    "|H|550|600|700|0.17|0.22|0.26|\n",
    "Tabela 2 - Estimativas faturamento e margem dos contratos"
   ]
  },
  {
   "cell_type": "code",
   "execution_count": 3,
   "metadata": {},
   "outputs": [
    {
     "name": "stderr",
     "output_type": "stream",
     "text": [
      "Warning message:\n",
      "\"package 'triangle' was built under R version 3.3.3\""
     ]
    }
   ],
   "source": [
    "set.seed(1)\n",
    "library(triangle)"
   ]
  },
  {
   "cell_type": "code",
   "execution_count": 4,
   "metadata": {},
   "outputs": [
    {
     "data": {
      "text/html": [
       "<ol>\n",
       "\t<li><ol class=list-inline>\n",
       "\t<li>1</li>\n",
       "\t<li>1</li>\n",
       "\t<li>3.05905780555441</li>\n",
       "\t<li>451.929260588788</li>\n",
       "\t<li>0.196116065362767</li>\n",
       "</ol>\n",
       "</li>\n",
       "\t<li><ol class=list-inline>\n",
       "\t<li>1</li>\n",
       "\t<li>1</li>\n",
       "\t<li>8.21919151503469</li>\n",
       "\t<li>523.966791216132</li>\n",
       "\t<li>0.225055358822169</li>\n",
       "</ol>\n",
       "</li>\n",
       "\t<li><ol class=list-inline>\n",
       "\t<li>0</li>\n",
       "\t<li>2.4305331710829</li>\n",
       "\t<li>4.10891895705233</li>\n",
       "\t<li>583.108931259463</li>\n",
       "\t<li>0.184363073077714</li>\n",
       "</ol>\n",
       "</li>\n",
       "\t<li><ol class=list-inline>\n",
       "\t<li>0</li>\n",
       "\t<li>2.41243054027446</li>\n",
       "\t<li>2.63198436830195</li>\n",
       "\t<li>729.702943835658</li>\n",
       "\t<li>0.205877233834428</li>\n",
       "</ol>\n",
       "</li>\n",
       "\t<li><ol class=list-inline>\n",
       "\t<li>0</li>\n",
       "\t<li>3.05648576337142</li>\n",
       "\t<li>4.48894317774208</li>\n",
       "\t<li>285.67709528109</li>\n",
       "\t<li>0.22458849844908</li>\n",
       "</ol>\n",
       "</li>\n",
       "\t<li><ol class=list-inline>\n",
       "\t<li>0</li>\n",
       "\t<li>3.03464134120852</li>\n",
       "\t<li>2.21649128437759</li>\n",
       "\t<li>434.148201038625</li>\n",
       "\t<li>0.172721342878862</li>\n",
       "</ol>\n",
       "</li>\n",
       "\t<li><ol class=list-inline>\n",
       "\t<li>1</li>\n",
       "\t<li>1.92242749943787</li>\n",
       "\t<li>3.23718426737966</li>\n",
       "\t<li>512.563124983351</li>\n",
       "\t<li>0.217126806402725</li>\n",
       "</ol>\n",
       "</li>\n",
       "\t<li><ol class=list-inline>\n",
       "\t<li>0</li>\n",
       "\t<li>4.0709502666891</li>\n",
       "\t<li>3.79480506757957</li>\n",
       "\t<li>644.44460342053</li>\n",
       "\t<li>0.192039653275298</li>\n",
       "</ol>\n",
       "</li>\n",
       "</ol>\n"
      ],
      "text/latex": [
       "\\begin{enumerate}\n",
       "\\item \\begin{enumerate*}\n",
       "\\item 1\n",
       "\\item 1\n",
       "\\item 3.05905780555441\n",
       "\\item 451.929260588788\n",
       "\\item 0.196116065362767\n",
       "\\end{enumerate*}\n",
       "\n",
       "\\item \\begin{enumerate*}\n",
       "\\item 1\n",
       "\\item 1\n",
       "\\item 8.21919151503469\n",
       "\\item 523.966791216132\n",
       "\\item 0.225055358822169\n",
       "\\end{enumerate*}\n",
       "\n",
       "\\item \\begin{enumerate*}\n",
       "\\item 0\n",
       "\\item 2.4305331710829\n",
       "\\item 4.10891895705233\n",
       "\\item 583.108931259463\n",
       "\\item 0.184363073077714\n",
       "\\end{enumerate*}\n",
       "\n",
       "\\item \\begin{enumerate*}\n",
       "\\item 0\n",
       "\\item 2.41243054027446\n",
       "\\item 2.63198436830195\n",
       "\\item 729.702943835658\n",
       "\\item 0.205877233834428\n",
       "\\end{enumerate*}\n",
       "\n",
       "\\item \\begin{enumerate*}\n",
       "\\item 0\n",
       "\\item 3.05648576337142\n",
       "\\item 4.48894317774208\n",
       "\\item 285.67709528109\n",
       "\\item 0.22458849844908\n",
       "\\end{enumerate*}\n",
       "\n",
       "\\item \\begin{enumerate*}\n",
       "\\item 0\n",
       "\\item 3.03464134120852\n",
       "\\item 2.21649128437759\n",
       "\\item 434.148201038625\n",
       "\\item 0.172721342878862\n",
       "\\end{enumerate*}\n",
       "\n",
       "\\item \\begin{enumerate*}\n",
       "\\item 1\n",
       "\\item 1.92242749943787\n",
       "\\item 3.23718426737966\n",
       "\\item 512.563124983351\n",
       "\\item 0.217126806402725\n",
       "\\end{enumerate*}\n",
       "\n",
       "\\item \\begin{enumerate*}\n",
       "\\item 0\n",
       "\\item 4.0709502666891\n",
       "\\item 3.79480506757957\n",
       "\\item 644.44460342053\n",
       "\\item 0.192039653275298\n",
       "\\end{enumerate*}\n",
       "\n",
       "\\end{enumerate}\n"
      ],
      "text/markdown": [
       "1. 1. 1\n",
       "2. 1\n",
       "3. 3.05905780555441\n",
       "4. 451.929260588788\n",
       "5. 0.196116065362767\n",
       "\n",
       "\n",
       "\n",
       "2. 1. 1\n",
       "2. 1\n",
       "3. 8.21919151503469\n",
       "4. 523.966791216132\n",
       "5. 0.225055358822169\n",
       "\n",
       "\n",
       "\n",
       "3. 1. 0\n",
       "2. 2.4305331710829\n",
       "3. 4.10891895705233\n",
       "4. 583.108931259463\n",
       "5. 0.184363073077714\n",
       "\n",
       "\n",
       "\n",
       "4. 1. 0\n",
       "2. 2.41243054027446\n",
       "3. 2.63198436830195\n",
       "4. 729.702943835658\n",
       "5. 0.205877233834428\n",
       "\n",
       "\n",
       "\n",
       "5. 1. 0\n",
       "2. 3.05648576337142\n",
       "3. 4.48894317774208\n",
       "4. 285.67709528109\n",
       "5. 0.22458849844908\n",
       "\n",
       "\n",
       "\n",
       "6. 1. 0\n",
       "2. 3.03464134120852\n",
       "3. 2.21649128437759\n",
       "4. 434.148201038625\n",
       "5. 0.172721342878862\n",
       "\n",
       "\n",
       "\n",
       "7. 1. 1\n",
       "2. 1.92242749943787\n",
       "3. 3.23718426737966\n",
       "4. 512.563124983351\n",
       "5. 0.217126806402725\n",
       "\n",
       "\n",
       "\n",
       "8. 1. 0\n",
       "2. 4.0709502666891\n",
       "3. 3.79480506757957\n",
       "4. 644.44460342053\n",
       "5. 0.192039653275298\n",
       "\n",
       "\n",
       "\n",
       "\n",
       "\n"
      ],
      "text/plain": [
       "[[1]]\n",
       "[1]   1.0000000   1.0000000   3.0590578 451.9292606   0.1961161\n",
       "\n",
       "[[2]]\n",
       "[1]   1.0000000   1.0000000   8.2191915 523.9667912   0.2250554\n",
       "\n",
       "[[3]]\n",
       "[1]   0.0000000   2.4305332   4.1089190 583.1089313   0.1843631\n",
       "\n",
       "[[4]]\n",
       "[1]   0.0000000   2.4124305   2.6319844 729.7029438   0.2058772\n",
       "\n",
       "[[5]]\n",
       "[1]   0.0000000   3.0564858   4.4889432 285.6770953   0.2245885\n",
       "\n",
       "[[6]]\n",
       "[1]   0.0000000   3.0346413   2.2164913 434.1482010   0.1727213\n",
       "\n",
       "[[7]]\n",
       "[1]   1.0000000   1.9224275   3.2371843 512.5631250   0.2171268\n",
       "\n",
       "[[8]]\n",
       "[1]   0.0000000   4.0709503   3.7948051 644.4446034   0.1920397\n"
      ]
     },
     "metadata": {},
     "output_type": "display_data"
    }
   ],
   "source": [
    "d <- function(){\n",
    "    list(c(rbinom(1,1,1),rtriangle(1,1,1,1),rtriangle(1,2,5,3),\n",
    "           rtriangle(1,400,525,425), rtriangle(1,.14,.21,.18)),\n",
    "        c(rbinom(1,1,1),rtriangle(1,1,1,1),rtriangle(1,6,9,7),\n",
    "          rtriangle(1,375,550,480), rtriangle(1,.17,.26,.22)),\n",
    "        c(rbinom(1,1,.3),rtriangle(1,2,5,3),rtriangle(1,4,5,4),\n",
    "          rtriangle(1,525,780,600), rtriangle(1,.14,.21,.18)),\n",
    "        c(rbinom(1,1,.4),rtriangle(1,1.5,3,2),rtriangle(1,2,3.5,2.5),\n",
    "          rtriangle(1,625,800,700), rtriangle(1,.14,.21,.18)),\n",
    "        c(rbinom(1,1,.2),rtriangle(1,2,4,2),rtriangle(1,3,5,3),\n",
    "          rtriangle(1,250,370,300), rtriangle(1,.17,.26,.22)),\n",
    "        c(rbinom(1,1,.4),rtriangle(1,2,6,3),rtriangle(1,2,3,2),\n",
    "          rtriangle(1,425,550,475), rtriangle(1,.14,.21,.18)),\n",
    "        c(rbinom(1,1,.4),rtriangle(1,1,3.5,2),rtriangle(1,2,5,3),\n",
    "          rtriangle(1,480,550,500), rtriangle(1,.17,.26,.22)),\n",
    "        c(rbinom(1,1,.5),rtriangle(1,2.5,5,3),rtriangle(1,3,4.5,3.5),\n",
    "          rtriangle(1,550,700,600), rtriangle(1,.17,.26,.22)))\n",
    "    }\n",
    "d()"
   ]
  },
  {
   "cell_type": "code",
   "execution_count": 5,
   "metadata": {},
   "outputs": [
    {
     "data": {
      "text/html": [
       "<ol class=list-inline>\n",
       "\t<li>0</li>\n",
       "\t<li>2</li>\n",
       "\t<li>2</li>\n",
       "\t<li>0</li>\n",
       "\t<li>0</li>\n",
       "\t<li>0</li>\n",
       "\t<li>0</li>\n",
       "\t<li>0</li>\n",
       "\t<li>0</li>\n",
       "\t<li>0</li>\n",
       "\t<li>0</li>\n",
       "\t<li>0</li>\n",
       "</ol>\n"
      ],
      "text/latex": [
       "\\begin{enumerate*}\n",
       "\\item 0\n",
       "\\item 2\n",
       "\\item 2\n",
       "\\item 0\n",
       "\\item 0\n",
       "\\item 0\n",
       "\\item 0\n",
       "\\item 0\n",
       "\\item 0\n",
       "\\item 0\n",
       "\\item 0\n",
       "\\item 0\n",
       "\\end{enumerate*}\n"
      ],
      "text/markdown": [
       "1. 0\n",
       "2. 2\n",
       "3. 2\n",
       "4. 0\n",
       "5. 0\n",
       "6. 0\n",
       "7. 0\n",
       "8. 0\n",
       "9. 0\n",
       "10. 0\n",
       "11. 0\n",
       "12. 0\n",
       "\n",
       "\n"
      ],
      "text/plain": [
       " [1] 0 2 2 0 0 0 0 0 0 0 0 0"
      ]
     },
     "metadata": {},
     "output_type": "display_data"
    }
   ],
   "source": [
    "distribui <- function(inicio,duracao,valor){\n",
    "    fim <- inicio + duracao -1\n",
    "    mensal <- valor / duracao\n",
    "    parcela <- rep(0,12)\n",
    "    for(mes in 1:12){\n",
    "        if(floor(inicio) == mes){\n",
    "            parcela[[mes]] <- round((mes-inicio+1)*mensal,2)\n",
    "        }\n",
    "        \n",
    "        if(floor(fim) + 1 == mes){\n",
    "            parcela[[mes]] <- round((fim-mes+1)*mensal,2)\n",
    "        }\n",
    "        \n",
    "        if((floor(inicio) + 1 <= mes) & (floor(fim) >= mes)){\n",
    "            parcela[[mes]] <- round(mensal,2)\n",
    "        }  \n",
    "    }\n",
    "    parcela\n",
    "}\n",
    "distribui(2,2,4)"
   ]
  },
  {
   "cell_type": "code",
   "execution_count": 6,
   "metadata": {},
   "outputs": [
    {
     "data": {
      "text/html": [
       "<ol class=list-inline>\n",
       "\t<li>42.94</li>\n",
       "\t<li>81.77</li>\n",
       "\t<li>119.12</li>\n",
       "\t<li>81.89</li>\n",
       "\t<li>56.93</li>\n",
       "\t<li>44.04</li>\n",
       "\t<li>14.96</li>\n",
       "\t<li>5.42</li>\n",
       "\t<li>0</li>\n",
       "\t<li>0</li>\n",
       "\t<li>0</li>\n",
       "\t<li>0</li>\n",
       "</ol>\n"
      ],
      "text/latex": [
       "\\begin{enumerate*}\n",
       "\\item 42.94\n",
       "\\item 81.77\n",
       "\\item 119.12\n",
       "\\item 81.89\n",
       "\\item 56.93\n",
       "\\item 44.04\n",
       "\\item 14.96\n",
       "\\item 5.42\n",
       "\\item 0\n",
       "\\item 0\n",
       "\\item 0\n",
       "\\item 0\n",
       "\\end{enumerate*}\n"
      ],
      "text/markdown": [
       "1. 42.94\n",
       "2. 81.77\n",
       "3. 119.12\n",
       "4. 81.89\n",
       "5. 56.93\n",
       "6. 44.04\n",
       "7. 14.96\n",
       "8. 5.42\n",
       "9. 0\n",
       "10. 0\n",
       "11. 0\n",
       "12. 0\n",
       "\n",
       "\n"
      ],
      "text/plain": [
       " [1]  42.94  81.77 119.12  81.89  56.93  44.04  14.96   5.42   0.00   0.00\n",
       "[11]   0.00   0.00"
      ]
     },
     "metadata": {},
     "output_type": "display_data"
    }
   ],
   "source": [
    "simula <- function(){\n",
    "    dados <- d()\n",
    "    fatura <- rep(0,12)\n",
    "    n <- length(dados)\n",
    "    resultado <- c()\n",
    "    for(i in 1:n){\n",
    "\n",
    "        fatura <- fatura +(distribui(dados[[i]][2], dados[[i]][3], \n",
    "                                     dados[[i]][1] * dados[[i]][4] * \n",
    "                                     dados[[i]][5]))\n",
    "    }\n",
    "    fatura\n",
    "}\n",
    "simula()"
   ]
  },
  {
   "cell_type": "code",
   "execution_count": 7,
   "metadata": {},
   "outputs": [],
   "source": [
    "n <- c()\n",
    "for(j in 1:3000){\n",
    "    n <- rbind(n,c(simula()))\n",
    "}"
   ]
  },
  {
   "cell_type": "code",
   "execution_count": 12,
   "metadata": {},
   "outputs": [
    {
     "data": {
      "image/png": "[encoded data removed]",
      "text/plain": [
       "plot without title"
      ]
     },
     "metadata": {},
     "output_type": "display_data"
    }
   ],
   "source": [
    "boxplot(n, outline = F, col=rgb(.5,0,0,.3))"
   ]
  },
  {
   "cell_type": "code",
   "execution_count": 16,
   "metadata": {
    "scrolled": false
   },
   "outputs": [
    {
     "name": "stdout",
     "output_type": "stream",
     "text": [
      "[1]  1.00000 41.64291 76.82464\n",
      "[1]   2.00000  66.68516 672.57061\n",
      "[1]    3.00000   91.36161 1334.49884\n",
      "[1]    4.00000   85.22721 1387.26256\n",
      "[1]   5.00000  60.48399 884.54260\n",
      "[1]   6.00000  42.44126 551.40933\n",
      "[1]   7.00000  23.29301 230.64731\n",
      "[1]  8.000000  6.490737 50.062296\n",
      "[1] 9.0000000 0.6676167 3.5622482\n",
      "[1] 10  0  0\n",
      "[1] 11  0  0\n",
      "[1] 12  0  0\n"
     ]
    },
    {
     "data": {
      "image/png": "[encoded data removed]",
      "text/plain": [
       "Plot with title \"1\""
      ]
     },
     "metadata": {},
     "output_type": "display_data"
    },
    {
     "data": {
      "image/png": "[encoded data removed]",
      "text/plain": [
       "Plot with title \"2\""
      ]
     },
     "metadata": {},
     "output_type": "display_data"
    },
    {
     "data": {
      "image/png": "[encoded data removed]",
      "text/plain": [
       "Plot with title \"3\""
      ]
     },
     "metadata": {},
     "output_type": "display_data"
    },
    {
     "data": {
      "image/png": "[encoded data removed]",
      "text/plain": [
       "Plot with title \"4\""
      ]
     },
     "metadata": {},
     "output_type": "display_data"
    },
    {
     "data": {
      "image/png": "[encoded data removed]",
      "text/plain": [
       "Plot with title \"5\""
      ]
     },
     "metadata": {},
     "output_type": "display_data"
    },
    {
     "data": {
      "image/png": "[encoded data removed]",
      "text/plain": [
       "Plot with title \"6\""
      ]
     },
     "metadata": {},
     "output_type": "display_data"
    },
    {
     "data": {
      "image/png": "[encoded data removed]",
      "text/plain": [
       "Plot with title \"7\""
      ]
     },
     "metadata": {},
     "output_type": "display_data"
    },
    {
     "data": {
      "image/png": "[encoded data removed]",
      "text/plain": [
       "Plot with title \"8\""
      ]
     },
     "metadata": {},
     "output_type": "display_data"
    },
    {
     "data": {
      "image/png": "[encoded data removed]",
      "text/plain": [
       "Plot with title \"9\""
      ]
     },
     "metadata": {},
     "output_type": "display_data"
    },
    {
     "data": {
      "image/png": "[encoded data removed]",
      "text/plain": [
       "Plot with title \"10\""
      ]
     },
     "metadata": {},
     "output_type": "display_data"
    },
    {
     "data": {
      "image/png": "[encoded data removed]",
      "text/plain": [
       "Plot with title \"11\""
      ]
     },
     "metadata": {},
     "output_type": "display_data"
    },
    {
     "data": {
      "image/png": "[encoded data removed]",
      "text/plain": [
       "Plot with title \"12\""
      ]
     },
     "metadata": {},
     "output_type": "display_data"
    }
   ],
   "source": [
    "for( i in 1:12){\n",
    "    print(c(i, mean(n[,i]), sd(n[,i])^2))\n",
    "}\n",
    "for( i in 1:12){\n",
    "   hist(n[,i], main=i,xlim=c(0,250), freq=F,breaks=seq(0,250,10)) \n",
    "}\n"
   ]
  },
  {
   "cell_type": "code",
   "execution_count": 18,
   "metadata": {
    "scrolled": false
   },
   "outputs": [
    {
     "data": {
      "image/png": "[encoded data removed]",
      "text/plain": [
       "Plot with title \"ecdf(n[, 1])\""
      ]
     },
     "metadata": {},
     "output_type": "display_data"
    }
   ],
   "source": [
    "plot(ecdf(n[,1]), col=\"black\")\n",
    "for(i in 2:12){\n",
    "    lines(ecdf(n[,i]), col=rgb(i/12,i/12,i/12,.3))\n",
    "}\n",
    "\n"
   ]
  },
  {
   "cell_type": "code",
   "execution_count": null,
   "metadata": {},
   "outputs": [],
   "source": []
  },
  {
   "cell_type": "code",
   "execution_count": null,
   "metadata": {},
   "outputs": [],
   "source": []
  }
 ],
 "metadata": {
  "kernelspec": {
   "display_name": "R",
   "language": "R",
   "name": "ir"
  }
 },
 "nbformat": 4,
 "nbformat_minor": 2
}
