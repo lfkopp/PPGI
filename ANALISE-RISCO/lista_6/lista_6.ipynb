{
 "cells": [
  {
   "cell_type": "markdown",
   "metadata": {},
   "source": [
    "PPGI/UFRJ  //  Análise de Risco  //  Prof. Eber  \n",
    "Lista 06  //  Data: 17/07/2018  //  Entrega: 24/07/2018  \n",
    "Luis Filipe Kopp"
   ]
  },
  {
   "cell_type": "markdown",
   "metadata": {},
   "source": [
    "Uma empresa de projetos está fazendo um estudo de previsão dos negócios para o primeiro semestre do próximo ano. Quase todos os negócios, à exceção de dois contratos tem uma chance de serem fechados. Além disto, sua data de início e faturamento total são dados por uma estimativa.  \n",
    "\n",
    "Após uma reunião com a equipe do departamento comercial, foram identificados 8 projetos cujas características estão mostradas nas tabelas 1 e 2. A partir destes dados, construa um modelo de risco do negócio da empresa de projetos,\n",
    "que mostra o risco da contribuição líquida mensal para o para os primeiros meses do próximo ano."
   ]
  },
  {
   "cell_type": "markdown",
   "metadata": {},
   "source": [
    "|Contrato|Chance|Inicio min|inicio prov|inicio max|duracao min|duracao prov|duracao max|\n",
    "|---|---|---|---|---|---|---|---|\n",
    "|A|1|1|1|1|2|3|5|\n",
    "|B|1|1|1|1|6|7|9|\n",
    "|C|0.3|2|3|5|4|4|5|\n",
    "|D|0.4|1.5|2|3|2|2.5|3.5|\n",
    "|E|0.2|2|2|4|3|3|5|\n",
    "|F|0.4|2|3|6|2|2|3|\n",
    "|G|0.4|1|2|3.5|2|3|5|\n",
    "|H|0.5|2.5|3|5|3|3.5|4.5|\n",
    "Tabela 1 - Estimativa de início e duração dos contratos\n"
   ]
  },
  {
   "cell_type": "markdown",
   "metadata": {},
   "source": [
    "|Contrato|faturamento min|faturamento prov|faturamento max|margem min|margem prov|margem max|\n",
    "|---|---|---|---|---|---|---|\n",
    "|A|400|425|525|0.14|0.18|0.21|\n",
    "|B|375|480|550|0.17|0.22|0.26|\n",
    "|C|525|600|780|0.14|0.18|0.21|\n",
    "|D|625|700|800|0.14|0.18|0.21|\n",
    "|E|250|300|370|0.17|0.22|0.26|\n",
    "|F|425|475|550|0.14|0.18|0.21|\n",
    "|G|480|500|550|0.17|0.22|0.26|\n",
    "|H|550|600|700|0.17|0.22|0.26|\n",
    "Tabela 2 - Estimativas faturamento e margem dos contratos"
   ]
  },
  {
   "cell_type": "code",
   "execution_count": 2,
   "metadata": {},
   "outputs": [
    {
     "name": "stderr",
     "output_type": "stream",
     "text": [
      "Warning message:\n",
      "\"package 'triangle' was built under R version 3.3.3\""
     ]
    }
   ],
   "source": [
    "set.seed(1)\n",
    "library(triangle)"
   ]
  },
  {
   "cell_type": "code",
   "execution_count": null,
   "metadata": {},
   "outputs": [],
   "source": []
  }
 ],
 "metadata": {
  "kernelspec": {
   "display_name": "R",
   "language": "R",
   "name": "ir"
  },
  "language_info": {
   "codemirror_mode": "r",
   "file_extension": ".r",
   "mimetype": "text/x-r-source",
   "name": "R",
   "pygments_lexer": "r",
   "version": "3.3.0"
  }
 },
 "nbformat": 4,
 "nbformat_minor": 2
}
