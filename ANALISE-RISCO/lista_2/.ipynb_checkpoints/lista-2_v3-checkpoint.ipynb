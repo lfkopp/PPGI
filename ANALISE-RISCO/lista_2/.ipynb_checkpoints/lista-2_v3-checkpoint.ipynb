{
 "cells": [
  {
   "cell_type": "markdown",
   "metadata": {},
   "source": [
    "## Lista 2"
   ]
  },
  {
   "cell_type": "markdown",
   "metadata": {},
   "source": [
    "MAI 103: Análise de Risco // Prof. Eber\n",
    "\n",
    "Lista 02  //  Data: 19/06/2018  //  Entrega: 26/06/2018\n",
    "\n",
    "Luis Filipe Kopp"
   ]
  },
  {
   "cell_type": "markdown",
   "metadata": {},
   "source": [
    "1-Simule um jogo de cara ou coroa. Verifique a frequencia do número de caras com: 10, 100 e 1000 lançamentos."
   ]
  },
  {
   "cell_type": "code",
   "execution_count": 1,
   "metadata": {},
   "outputs": [
    {
     "name": "stdout",
     "output_type": "stream",
     "text": [
      "[1] 4\n",
      "[1] 51\n",
      "[1] 517\n"
     ]
    }
   ],
   "source": [
    "for(N in c(10,100,1000)) print(sum(sample(0:1,N,replace=T)))"
   ]
  },
  {
   "cell_type": "code",
   "execution_count": 2,
   "metadata": {},
   "outputs": [
    {
     "name": "stdout",
     "output_type": "stream",
     "text": [
      "[1] 4\n",
      "[1] 49\n",
      "[1] 522\n"
     ]
    }
   ],
   "source": [
    "for(N in c(10,100,1000)) print(sum(rbinom(N,1,.5)))"
   ]
  },
  {
   "cell_type": "markdown",
   "metadata": {},
   "source": [
    "2- Seja X uma VA que representa a soma de 12 VAs uniformes (0,1):\n",
    "\n",
    "• 2a- Usando o TCL, obtenha uma aproximação analítica para a X, e calcule a média, a variância e esboce um gráfico dessa distribuição."
   ]
  },
  {
   "cell_type": "code",
   "execution_count": 30,
   "metadata": {},
   "outputs": [
    {
     "name": "stdout",
     "output_type": "stream",
     "text": [
      "[1] \"média: \" \"6\"      \n",
      "[1] \"variancia\" \"1\"        \n"
     ]
    }
   ],
   "source": [
    "media <- 12 * (1^2/2 - 0^2/2)\n",
    "var <- function(x) ( x^3/3)-(x^2/2)+(x/4)   ## integral de (x-1/2)^2 * 1 dx para ser aplicada entre 0 e 1 \n",
    "variancia <- 12 * (var(1) - var(0))\n",
    "print(c(\"média: \",media))\n",
    "print(c(\"variancia\",variancia))"
   ]
  },
  {
   "cell_type": "code",
   "execution_count": 10,
   "metadata": {},
   "outputs": [
    {
     "data": {
      "image/png": "[encoded data removed]",
      "text/plain": [
       "Plot with title \"Histogram of dist_a\""
      ]
     },
     "metadata": {},
     "output_type": "display_data"
    }
   ],
   "source": [
    "dist_a = rnorm(10000,media,sd=variancia^0.5)\n",
    "hist(dist_a)"
   ]
  },
  {
   "cell_type": "markdown",
   "metadata": {},
   "source": [
    "• 2b-idem ao 2a usando MC."
   ]
  },
  {
   "cell_type": "code",
   "execution_count": 19,
   "metadata": {},
   "outputs": [
    {
     "data": {
      "text/html": [
       "6.00618957944895"
      ],
      "text/latex": [
       "6.00618957944895"
      ],
      "text/markdown": [
       "6.00618957944895"
      ],
      "text/plain": [
       "[1] 6.00619"
      ]
     },
     "metadata": {},
     "output_type": "display_data"
    },
    {
     "data": {
      "text/html": [
       "1.00353205014497"
      ],
      "text/latex": [
       "1.00353205014497"
      ],
      "text/markdown": [
       "1.00353205014497"
      ],
      "text/plain": [
       "[1] 1.003532"
      ]
     },
     "metadata": {},
     "output_type": "display_data"
    }
   ],
   "source": [
    "    amostra_total <- 0\n",
    "    for (i in 1:12) {\n",
    "      amostras <- runif(12000, min = 0, max = 1)\n",
    "      amostra_total <- amostra_total + amostras \n",
    "    }\n",
    "    media <- mean(amostra_total)\n",
    "    variancia <- sd(amostra_total)^2\n",
    "    media\n",
    "    variancia"
   ]
  },
  {
   "cell_type": "code",
   "execution_count": 20,
   "metadata": {},
   "outputs": [
    {
     "data": {
      "image/png": "[encoded data removed]",
      "text/plain": [
       "Plot with title \"Histogram of amostra_total\""
      ]
     },
     "metadata": {},
     "output_type": "display_data"
    }
   ],
   "source": [
    "hist(amostra_total)"
   ]
  },
  {
   "cell_type": "markdown",
   "metadata": {},
   "source": [
    "3- Usando MC, obtenha uma aproximação empírica para a VA que representa a soma de 10 distribuições triangulares Xi distribuidas com parâmetros (mini = i; maxi = 20 + i; mprovi = 10 + i). Calcule a média, a variância e plote um gráfico\n",
    "de sua função de probabilidade."
   ]
  },
  {
   "cell_type": "code",
   "execution_count": 26,
   "metadata": {},
   "outputs": [
    {
     "data": {
      "text/html": [
       "140.011624229241"
      ],
      "text/latex": [
       "140.011624229241"
      ],
      "text/markdown": [
       "140.011624229241"
      ],
      "text/plain": [
       "[1] 140.0116"
      ]
     },
     "metadata": {},
     "output_type": "display_data"
    },
    {
     "data": {
      "text/html": [
       "182.614344960501"
      ],
      "text/latex": [
       "182.614344960501"
      ],
      "text/markdown": [
       "182.614344960501"
      ],
      "text/plain": [
       "[1] 182.6143"
      ]
     },
     "metadata": {},
     "output_type": "display_data"
    }
   ],
   "source": [
    "library(\"triangle\")\n",
    "\n",
    "media <- c()\n",
    "variancia <- c()\n",
    "for(n in 1:1000){\n",
    "    u <- 0\n",
    "    v <- 0\n",
    "    for(i in 1:10){\n",
    "        X <- rtriangle(1000,i,20+i,10+1)\n",
    "        u <-  mean(X) + u\n",
    "        v <- sd(X)^2 + v\n",
    "    }\n",
    "    media <- c(media,u)\n",
    "    variancia <- c(variancia,v)\n",
    "}\n",
    "mean(media)\n",
    "mean(variancia)"
   ]
  },
  {
   "cell_type": "code",
   "execution_count": 86,
   "metadata": {},
   "outputs": [
    {
     "data": {
      "image/png": "[encoded data removed]",
      "text/plain": [
       "Plot with title \"Histogram of u\""
      ]
     },
     "metadata": {},
     "output_type": "display_data"
    }
   ],
   "source": [
    "hist(u)"
   ]
  },
  {
   "cell_type": "markdown",
   "metadata": {},
   "source": [
    "4- Usando simulação:\n",
    "\n",
    "• 4a- obtenha uma aproximação empírica para a função de probabilidade do produto de duas VAs\n",
    "\n",
    "Z = X ∗ Y; X; Y ∼ N(0; 1)."
   ]
  },
  {
   "cell_type": "code",
   "execution_count": 89,
   "metadata": {},
   "outputs": [
    {
     "data": {
      "image/png": "[encoded data removed]",
      "text/plain": [
       "Plot with title \"Histogram of z\""
      ]
     },
     "metadata": {},
     "output_type": "display_data"
    }
   ],
   "source": [
    "z <- rnorm(1000,0,1) * rnorm(1000,0,1)\n",
    "hist(z)"
   ]
  },
  {
   "cell_type": "markdown",
   "metadata": {},
   "source": [
    "• 4b- idem para o quociente Z = X/Y ."
   ]
  },
  {
   "cell_type": "code",
   "execution_count": 90,
   "metadata": {},
   "outputs": [
    {
     "data": {
      "image/png": "[encoded data removed]",
      "text/plain": [
       "Plot with title \"Histogram of z\""
      ]
     },
     "metadata": {},
     "output_type": "display_data"
    }
   ],
   "source": [
    "z <- rnorm(1000,0,1) / rnorm(1000,0,1)\n",
    "hist(z)"
   ]
  },
  {
   "cell_type": "markdown",
   "metadata": {},
   "source": [
    "5-Obtenha um aproximação empírica para a função de probabilidade Máximo(Xi)(i = 2; 5; 10) que representa a função de probabilidade do máximo dentre i VAs cada uma delas seguindo uma Normal(0; 1)."
   ]
  },
  {
   "cell_type": "code",
   "execution_count": 32,
   "metadata": {
    "scrolled": false
   },
   "outputs": [
    {
     "data": {
      "image/png": "[encoded data removed]",
      "text/plain": [
       "Plot with title \"Histogram of conjunto\""
      ]
     },
     "metadata": {},
     "output_type": "display_data"
    }
   ],
   "source": [
    "len = 3000\n",
    "tam <- c(2,5,10)\n",
    "\n",
    "for(t in 1:3 ){\n",
    "    conjunto <- c()\n",
    "for(l in 1:len){\n",
    "x1 <- -Inf\n",
    "for(t2 in 1:tam[t] )  x1 <- max(x1,rnorm(1,0,1))\n",
    "conjunto <- c(conjunto,x1)\n",
    "    }}\n",
    "hist(conjunto)\n"
   ]
  },
  {
   "cell_type": "markdown",
   "metadata": {},
   "source": [
    "6-Obtenha uma aproximação empírica para a função χ2(n) = Pn 1 Xi2 onde Xi ∼ Normal(0; 1)."
   ]
  },
  {
   "cell_type": "code",
   "execution_count": 24,
   "metadata": {
    "scrolled": false
   },
   "outputs": [
    {
     "data": {
      "image/png": "[encoded data removed]",
      "text/plain": [
       "Plot with title \"Histogram of f(4)\""
      ]
     },
     "metadata": {},
     "output_type": "display_data"
    }
   ],
   "source": [
    "f <- function(n){\n",
    "    x <- rep(0, 10000)\n",
    "    for(h in 1:n) {\n",
    "        x <- x + rnorm(10000,0,1) ^2\n",
    "    }\n",
    "    x\n",
    "}\n",
    "hist(f(4))"
   ]
  },
  {
   "cell_type": "markdown",
   "metadata": {},
   "source": [
    "7-Obtenha uma aproximaçãao empirica para a função de probabilidade Z = eN(0;1)"
   ]
  },
  {
   "cell_type": "code",
   "execution_count": 37,
   "metadata": {},
   "outputs": [
    {
     "data": {
      "image/png": "[encoded data removed]",
      "text/plain": [
       "Plot with title \"Histogram of z\""
      ]
     },
     "metadata": {},
     "output_type": "display_data"
    }
   ],
   "source": [
    "z <- exp(rnorm(1000,0,1))\n",
    "hist(z)"
   ]
  }
 ],
 "metadata": {
  "kernelspec": {
   "display_name": "R",
   "language": "R",
   "name": "ir"
  },
  "language_info": {
   "codemirror_mode": "r",
   "file_extension": ".r",
   "mimetype": "text/x-r-source",
   "name": "R",
   "pygments_lexer": "r",
   "version": "3.3.0"
  }
 },
 "nbformat": 4,
 "nbformat_minor": 2
}
