{
 "cells": [
  {
   "cell_type": "markdown",
   "metadata": {},
   "source": [
    "MAI 103: Análise de Risco //  Prof. Eber  \n",
    "Lista 05  //  Data: 10/07/2018  //  Entrega: 17/07/2018  \n",
    "Luis Filipe Kopp"
   ]
  },
  {
   "cell_type": "code",
   "execution_count": 77,
   "metadata": {},
   "outputs": [],
   "source": [
    "set.seed(1)\n",
    "library(triangle)\n",
    "library(igraph)\n",
    "library(hexbin)\n",
    "library(ggplot2)"
   ]
  },
  {
   "cell_type": "markdown",
   "metadata": {},
   "source": [
    "1-Usando MC na rede descrita nas tabelas 1 e 2, obtenha:  "
   ]
  },
  {
   "cell_type": "markdown",
   "metadata": {},
   "source": [
    "|ativ|Min|Mprov|Max|\n",
    "|---|---|---|---|\n",
    "|A|1|2|4|\n",
    "|B|5|6|7|\n",
    "|C|2|4|5|\n",
    "|D|1|3|4|\n",
    "|E|4|5|7|\n",
    "|F|3|4|5|\n",
    "|G|1|2|3|\n",
    "Tabela 1 - Atvidades"
   ]
  },
  {
   "cell_type": "markdown",
   "metadata": {},
   "source": [
    "(start - A B C)\n",
    "(A - F D)\n",
    "(B - G)\n",
    "(C - E)\n",
    "(D - G)\n",
    "(E - G)\n",
    "(F - end)\n",
    "(G - end)  \n",
    "Tabela 2 - Redes"
   ]
  },
  {
   "cell_type": "code",
   "execution_count": 85,
   "metadata": {},
   "outputs": [
    {
     "data": {
      "image/png": "[encoded data removed]",
      "text/plain": [
       "Plot with title \"\""
      ]
     },
     "metadata": {},
     "output_type": "display_data"
    }
   ],
   "source": [
    "g1 <- graph( edges=c('start','a', 'start','b', 'start', 'c','c','e','a','f','a','d','f','end','g','end',\n",
    "                    'b','g','e','g','d','g') )\n",
    "plot(g1)   "
   ]
  },
  {
   "cell_type": "markdown",
   "metadata": {},
   "source": [
    "• Uma aproximação empírica para a duração do projeto mostrado.  "
   ]
  },
  {
   "cell_type": "code",
   "execution_count": 2,
   "metadata": {},
   "outputs": [],
   "source": [
    "resposta_final <- c()\n",
    "ant <- c()\n",
    "\n",
    "simula <- function(p){\n",
    "resposta <- c()\n",
    "\n",
    "n <- length(p)\n",
    "procura_caminho <- function(p,node,anterior,tempo){\n",
    "    if(node == \"end\"){\n",
    "        if(tempo > t){\n",
    "            ant <<- anterior\n",
    "            t <<- tempo\n",
    "        }\n",
    "        \n",
    "        resposta <<- c(resposta,tempo)\n",
    "\n",
    "    }\n",
    "    else{\n",
    "        for(i in 1:n){\n",
    "            if(p[[i]][1] == node){  \n",
    "                t <- tempo + as.numeric(p[[i]][3])\n",
    "                procura_caminho(p,p[[i]][2], paste(anterior,p[[i]][1],sep = \"-\"), t)\n",
    "            }\n",
    "        }   \n",
    "    }\n",
    "\n",
    "}\n",
    "procura_caminho(p,\"start\",\"\",0)    \n",
    "resposta_final <<- c(resposta_final,max(resposta))\n",
    "}    \n"
   ]
  },
  {
   "cell_type": "code",
   "execution_count": 39,
   "metadata": {
    "scrolled": false
   },
   "outputs": [
    {
     "data": {
      "text/html": [
       "11"
      ],
      "text/latex": [
       "11"
      ],
      "text/markdown": [
       "11"
      ],
      "text/plain": [
       "[1] 11"
      ]
     },
     "metadata": {},
     "output_type": "display_data"
    },
    {
     "data": {
      "text/html": [
       "'-start-C-E-G'"
      ],
      "text/latex": [
       "'-start-C-E-G'"
      ],
      "text/markdown": [
       "'-start-C-E-G'"
      ],
      "text/plain": [
       "[1] \"-start-C-E-G\""
      ]
     },
     "metadata": {},
     "output_type": "display_data"
    }
   ],
   "source": [
    "resposta_final <- c()\n",
    "caminhos <- c()\n",
    "t <- 0\n",
    "precedencia <-  list(c(\"start\",\"A\",2),c(\"start\",\"B\",6),\n",
    "                     c(\"start\",\"C\",4),c(\"A\",\"F\",4),\n",
    "                     c(\"A\",\"D\",3),c(\"B\",\"G\",2),\n",
    "                     c(\"C\",\"E\",5),c(\"D\",\"G\",2),\n",
    "                     c(\"E\",\"G\",2),c(\"F\",\"end\",0),c(\"G\",\"end\",0))\n",
    "simula(precedencia)\n",
    "resposta_final\n",
    "ant"
   ]
  },
  {
   "cell_type": "markdown",
   "metadata": {},
   "source": [
    "• Obtenha um estimativa das probabilidades das atividades pertencerem ao caminho crítico  "
   ]
  },
  {
   "cell_type": "code",
   "execution_count": 65,
   "metadata": {},
   "outputs": [
    {
     "data": {
      "image/png": "[encoded data removed]",
      "text/plain": [
       "plot without title"
      ]
     },
     "metadata": {},
     "output_type": "display_data"
    }
   ],
   "source": [
    "resposta_final <- c()\n",
    "caminho <- c()\n",
    "for( h in 1:10000){\n",
    "precedencia <-  list(c(\"start\",\"A\",rtriangle(1,1,4,2)),c(\"start\",\"B\",rtriangle(1,5,7,6)),\n",
    "                     c(\"start\",\"C\",rtriangle(1,2,5,4)),c(\"A\",\"F\",rtriangle(1,3,5,4)),\n",
    "                     c(\"A\",\"D\",rtriangle(1,1,4,3)),c(\"B\",\"G\",rtriangle(1,1,3,2)),\n",
    "                     c(\"C\",\"E\",rtriangle(1,4,7,5)),c(\"D\",\"G\",rtriangle(1,1,3,2)),\n",
    "                     c(\"E\",\"G\",rtriangle(1,1,3,2)),c(\"F\",\"end\",0),c(\"G\",\"end\",0))\n",
    "simula(precedencia)\n",
    "caminho <<- c(caminho,ant)    \n",
    "}\n",
    "barplot(table(caminho))"
   ]
  },
  {
   "cell_type": "markdown",
   "metadata": {},
   "source": [
    "Uma análise empírica sugere que se B estiver perto do máximo (7) e C e E estiverem perto do mínimo (2 e 4), o caminho crítico passaria a ser start-B-G-end ao invés de start-C-E-G-end, porém rodamos a simulação n vezes (para n muito grande) e em mais de 99.9% não houve troca de caminho crítico, por isso podemos assumir como extremamente improvável."
   ]
  },
  {
   "cell_type": "code",
   "execution_count": 55,
   "metadata": {},
   "outputs": [
    {
     "data": {
      "text/html": [
       "0.999681"
      ],
      "text/latex": [
       "0.999681"
      ],
      "text/markdown": [
       "0.999681"
      ],
      "text/plain": [
       "[1] 0.999681"
      ]
     },
     "metadata": {},
     "output_type": "display_data"
    }
   ],
   "source": [
    "n <- 1000000\n",
    "c <- rtriangle(n,2,5,4) + rtriangle(n,4,7,5) - rtriangle(n,5,7,6)\n",
    "sum(c>=0)/length(c)"
   ]
  },
  {
   "cell_type": "markdown",
   "metadata": {},
   "source": [
    "• Compare o resultado com aquele obtido pela aproximação PERT.  "
   ]
  },
  {
   "cell_type": "code",
   "execution_count": 15,
   "metadata": {},
   "outputs": [
    {
     "data": {
      "text/html": [
       "11.0002021043627"
      ],
      "text/latex": [
       "11.0002021043627"
      ],
      "text/markdown": [
       "11.0002021043627"
      ],
      "text/plain": [
       "[1] 11.0002"
      ]
     },
     "metadata": {},
     "output_type": "display_data"
    }
   ],
   "source": [
    "resposta_final <- c()\n",
    "for( h in 1:10000){\n",
    "precedencia <-  list(c(\"start\",\"A\",rtriangle(1,1,4,2)),c(\"start\",\"B\",rtriangle(1,5,7,6)),\n",
    "                     c(\"start\",\"C\",rtriangle(1,2,5,4)),c(\"A\",\"F\",rtriangle(1,3,5,4)),\n",
    "                     c(\"A\",\"D\",rtriangle(1,1,4,3)),c(\"B\",\"G\",rtriangle(1,1,3,2)),\n",
    "                     c(\"C\",\"E\",rtriangle(1,4,7,5)),c(\"D\",\"G\",rtriangle(1,1,3,2)),\n",
    "                     c(\"E\",\"G\",rtriangle(1,1,3,2)),c(\"F\",\"end\",0),c(\"G\",\"end\",0))\n",
    "simula(precedencia)\n",
    "}\n",
    "mean(resposta_final)"
   ]
  },
  {
   "cell_type": "markdown",
   "metadata": {},
   "source": [
    "Em cerca de 50% das simulações, o tempo de conclusão foi superior à 11."
   ]
  },
  {
   "cell_type": "code",
   "execution_count": 16,
   "metadata": {},
   "outputs": [
    {
     "data": {
      "image/png": "[encoded data removed]",
      "text/plain": [
       "Plot with title \"density.default(x = resposta_final)\""
      ]
     },
     "metadata": {},
     "output_type": "display_data"
    }
   ],
   "source": [
    "plot(density(resposta_final), col=\"red\")"
   ]
  },
  {
   "cell_type": "markdown",
   "metadata": {},
   "source": [
    "• Gere todos agendamentos possíveis para o minimo prazo.  "
   ]
  },
  {
   "cell_type": "markdown",
   "metadata": {},
   "source": [
    "start-B-G-end e start-C-E-G-end"
   ]
  },
  {
   "cell_type": "markdown",
   "metadata": {},
   "source": [
    "2- Observe os dados sobre o projeto de uma obra mostrado nas tabela 3. Calcule:  "
   ]
  },
  {
   "cell_type": "markdown",
   "metadata": {},
   "source": [
    "|Atividade|Descrição|Pred|DMin|DMp|DMax|CMin|CMp|CMax|\n",
    "|---------|---------|----|----|---|----|----|---|----|\n",
    "|A|Obter materiais|START|2|4|18|300|450|600|\n",
    "|B|Obter mão de obra|START|5|9|19|480|600|720|\n",
    "|C|Escavar|START|4|10|28|3750|4500|5250|\n",
    "|D|Colocar fundação|C|8|13|36|8400|9600|10800|\n",
    "|E|Construir Estrutura|B,D|44|60|100|300000|312000|322500|\n",
    "|F|Instalação Hidráulica|E|30|40|74|37650|39600|41400|\n",
    "|G|Instalação Elétrica|E|9|20|43|10500|11550|12600|\n",
    "|H|Acabamento Interior|F,G|24|30|48|36000|38400|40800|\n",
    "|I|Acabamento Exterior|F|28|29|96|48750|52500|56250|\n",
    "|J|Limpeza Local|H,I|10|10|12|360|450|540|\n",
    "Tabela 3 - Atividades"
   ]
  },
  {
   "cell_type": "code",
   "execution_count": 60,
   "metadata": {},
   "outputs": [
    {
     "data": {
      "image/png": "[encoded data removed]",
      "text/plain": [
       "Plot with title \"\""
      ]
     },
     "metadata": {},
     "output_type": "display_data"
    }
   ],
   "source": [
    "g2 <- graph( edges=c('start','a', 'start','b', 'start', 'c','c','d','b','e','d','e',\n",
    "                    'e','f','e','g','f','h','g','h','f','i','h','j','i','j') )\n",
    "plot(g2)   \n",
    " "
   ]
  },
  {
   "cell_type": "code",
   "execution_count": 59,
   "metadata": {},
   "outputs": [
    {
     "data": {
      "image/png": "[encoded data removed]",
      "text/plain": [
       "Plot with title \"\""
      ]
     },
     "metadata": {},
     "output_type": "display_data"
    }
   ],
   "source": [
    "g2 <- graph( edges=c('start','a', 'start','b', 'a', 'c','b','c','c','d','b','e','d','e',\n",
    "                    'e','f','e','g','f','h','g','h','f','i','h','j','i','j','j','end') )\n",
    "plot(g2)   \n",
    " "
   ]
  },
  {
   "cell_type": "markdown",
   "metadata": {},
   "source": [
    "• Obtenha as aproximações para o risco de custo e de prazo da obra  "
   ]
  },
  {
   "cell_type": "code",
   "execution_count": 81,
   "metadata": {},
   "outputs": [
    {
     "data": {
      "text/html": [
       "469137.333291898"
      ],
      "text/latex": [
       "469137.333291898"
      ],
      "text/markdown": [
       "469137.333291898"
      ],
      "text/plain": [
       "[1] 469137.3"
      ]
     },
     "metadata": {},
     "output_type": "display_data"
    },
    {
     "data": {
      "image/png": "[encoded data removed]",
      "text/plain": [
       "Plot with title \"density.default(x = custo)\""
      ]
     },
     "metadata": {},
     "output_type": "display_data"
    }
   ],
   "source": [
    "custo <- (rtriangle(10000,300,600,450)+ \n",
    "          rtriangle(10000,480,720,600)+ \n",
    "          rtriangle(10000,3750,5250,4500)+ \n",
    "          rtriangle(10000,8400,10800,9600)+ \n",
    "          rtriangle(10000,300000,322500,312000)+ \n",
    "          rtriangle(10000,37650,41400,39600)+ \n",
    "          rtriangle(10000,10500,12600,11550)+ \n",
    "          rtriangle(10000,36000,40800,38400)+ \n",
    "          rtriangle(10000,48750,56250,52500)+ \n",
    "          rtriangle(10000,360,540,450))\n",
    "mean(custo)\n",
    "plot(density(custo), col=\"red\")"
   ]
  },
  {
   "cell_type": "code",
   "execution_count": 19,
   "metadata": {},
   "outputs": [
    {
     "data": {
      "text/html": [
       "213.036607108275"
      ],
      "text/latex": [
       "213.036607108275"
      ],
      "text/markdown": [
       "213.036607108275"
      ],
      "text/plain": [
       "[1] 213.0366"
      ]
     },
     "metadata": {},
     "output_type": "display_data"
    }
   ],
   "source": [
    "resposta_final <- c()\n",
    "for( h in 1:1000){\n",
    "precedencia <-  list(c(\"start\",\"A\",rtriangle(1,2,18,4)),\n",
    "                     c(\"start\",\"B\",rtriangle(1,5,19,9)),\n",
    "                     c(\"start\",\"C\",rtriangle(1,4,28,10)),\n",
    "                     c(\"C\",\"D\",rtriangle(1,8,36,13)),\n",
    "                     c(\"B\",\"E\",rtriangle(1,44,100,60)),\n",
    "                     c(\"D\",\"E\",rtriangle(1,44,100,60)),\n",
    "                     c(\"E\",\"F\",rtriangle(1,30,74,40)),\n",
    "                     c(\"E\",\"G\",rtriangle(1,9,43,20)),\n",
    "                     c(\"F\",\"H\",rtriangle(1,24,48,30)),\n",
    "                     c(\"G\",\"H\",rtriangle(1,24,48,30)),\n",
    "                     c(\"F\",\"I\",rtriangle(1,28,96,29)),\n",
    "                     c(\"H\",\"J\",rtriangle(1,10,12,10)),\n",
    "                     c(\"I\",\"J\",rtriangle(1,10,12,10)),                     \n",
    "                     c(\"J\",\"end\",0),\n",
    "                     c(\"J\",\"end\",0))\n",
    "simula(precedencia)\n",
    "}\n",
    "mean(resposta_final)"
   ]
  },
  {
   "cell_type": "code",
   "execution_count": 20,
   "metadata": {},
   "outputs": [
    {
     "data": {
      "image/png": "[encoded data removed]",
      "text/plain": [
       "Plot with title \"density.default(x = resposta_final)\""
      ]
     },
     "metadata": {},
     "output_type": "display_data"
    }
   ],
   "source": [
    "plot(density(resposta_final), col=\"red\")"
   ]
  },
  {
   "cell_type": "code",
   "execution_count": 69,
   "metadata": {},
   "outputs": [
    {
     "data": {
      "text/html": [
       "225.193428261673"
      ],
      "text/latex": [
       "225.193428261673"
      ],
      "text/markdown": [
       "225.193428261673"
      ],
      "text/plain": [
       "[1] 225.1934"
      ]
     },
     "metadata": {},
     "output_type": "display_data"
    }
   ],
   "source": [
    "resposta_final <- c()\n",
    "for( h in 1:1000){\n",
    "precedencia <-  list(c(\"start\",\"A\",rtriangle(1,2,18,4)),\n",
    "                     c(\"start\",\"B\",rtriangle(1,5,19,9)),\n",
    "                     c(\"B\",\"C\",rtriangle(1,4,28,10)),\n",
    "                     c(\"A\",\"C\",rtriangle(1,4,28,10)),\n",
    "                     c(\"C\",\"D\",rtriangle(1,8,36,13)),\n",
    "                     c(\"B\",\"E\",rtriangle(1,44,100,60)),\n",
    "                     c(\"D\",\"E\",rtriangle(1,44,100,60)),\n",
    "                     c(\"E\",\"F\",rtriangle(1,30,74,40)),\n",
    "                     c(\"E\",\"G\",rtriangle(1,9,43,20)),\n",
    "                     c(\"F\",\"H\",rtriangle(1,24,48,30)),\n",
    "                     c(\"G\",\"H\",rtriangle(1,24,48,30)),\n",
    "                     c(\"F\",\"I\",rtriangle(1,28,96,29)),\n",
    "                     c(\"H\",\"J\",rtriangle(1,10,12,10)),\n",
    "                     c(\"I\",\"J\",rtriangle(1,10,12,10)),                     \n",
    "                     c(\"J\",\"end\",0),\n",
    "                     c(\"J\",\"end\",0))\n",
    "simula(precedencia)\n",
    "}\n",
    "mean(resposta_final)"
   ]
  },
  {
   "cell_type": "markdown",
   "metadata": {},
   "source": [
    "• Obtenha uma estimativa das probabilidades das atividades pertencerem ao caminho crítico  "
   ]
  },
  {
   "cell_type": "code",
   "execution_count": 82,
   "metadata": {},
   "outputs": [
    {
     "data": {
      "text/html": [
       "224.97739494658"
      ],
      "text/latex": [
       "224.97739494658"
      ],
      "text/markdown": [
       "224.97739494658"
      ],
      "text/plain": [
       "[1] 224.9774"
      ]
     },
     "metadata": {},
     "output_type": "display_data"
    },
    {
     "data": {
      "image/png": "[encoded data removed]",
      "text/plain": [
       "plot without title"
      ]
     },
     "metadata": {},
     "output_type": "display_data"
    }
   ],
   "source": [
    "resposta_final <- c()\n",
    "caminho <- c()\n",
    "for( h in 1:10000){\n",
    "precedencia <-  list(c(\"start\",\"A\",rtriangle(1,2,18,4)),\n",
    "                     c(\"start\",\"B\",rtriangle(1,5,19,9)),\n",
    "                     c(\"B\",\"C\",rtriangle(1,4,28,10)),\n",
    "                     c(\"A\",\"C\",rtriangle(1,4,28,10)),\n",
    "                     c(\"C\",\"D\",rtriangle(1,8,36,13)),\n",
    "                     c(\"B\",\"E\",rtriangle(1,44,100,60)),\n",
    "                     c(\"D\",\"E\",rtriangle(1,44,100,60)),\n",
    "                     c(\"E\",\"F\",rtriangle(1,30,74,40)),\n",
    "                     c(\"E\",\"G\",rtriangle(1,9,43,20)),\n",
    "                     c(\"F\",\"H\",rtriangle(1,24,48,30)),\n",
    "                     c(\"G\",\"H\",rtriangle(1,24,48,30)),\n",
    "                     c(\"F\",\"I\",rtriangle(1,28,96,29)),\n",
    "                     c(\"H\",\"J\",rtriangle(1,10,12,10)),\n",
    "                     c(\"I\",\"J\",rtriangle(1,10,12,10)),                     \n",
    "                     c(\"J\",\"end\",0),\n",
    "                     c(\"J\",\"end\",0))\n",
    "simula(precedencia)\n",
    "caminho <<- c(caminho,ant)    \n",
    "}\n",
    "mean(resposta_final)\n",
    "barplot(table(caminho))"
   ]
  },
  {
   "cell_type": "markdown",
   "metadata": {},
   "source": [
    "• Faça um grafico de dispersão mostrando a correlação entre prazo e custo da obra.  "
   ]
  },
  {
   "cell_type": "code",
   "execution_count": 83,
   "metadata": {},
   "outputs": [
    {
     "data": {
      "image/png": "[encoded data removed]",
      "text/plain": [
       "Plot with title \"plot\""
      ]
     },
     "metadata": {},
     "output_type": "display_data"
    }
   ],
   "source": [
    "plot(custo,resposta_final, main=\"plot\")"
   ]
  },
  {
   "cell_type": "code",
   "execution_count": 84,
   "metadata": {},
   "outputs": [
    {
     "data": {},
     "metadata": {},
     "output_type": "display_data"
    },
    {
     "data": {
      "image/png": "[encoded data removed]",
      "text/plain": [
       "plot without title"
      ]
     },
     "metadata": {},
     "output_type": "display_data"
    }
   ],
   "source": [
    "df <- data.frame(custo,resposta_final)\n",
    "qplot(custo,resposta_final,data=df, geom='bin2d')"
   ]
  },
  {
   "cell_type": "markdown",
   "metadata": {},
   "source": [
    "3- Dado a rede de projeto mostrada na figura 1, aplique a técnica de MC para obter um agendamento que proporciona uma boa aproximação para o máximo NPV a ser obtido pelo projeto. O número na parte de cima do circulo representando uma atividade é sua duração e o abaixo é o seu NPV trazido para o término da atividade. Assuma:  \n",
    "• que a data limite δn = 44  \n",
    "• valor presente é continuamente descontado a uma taxa r = 0.01  \n",
    "Passos:  \n",
    "• gerar a relação (atividade, est, lst)  \n",
    "• implementar uma função que sorteia um cronograma  \n",
    "• implementar uma função que verifica se o cronograma é valido  \n",
    "• avaliar a qualidade da aproximação para a solução ótima  "
   ]
  },
  {
   "cell_type": "markdown",
   "metadata": {},
   "source": [
    "|Atividade|Predecessor|Duração|NPV|\n",
    "|---------|-----------|-------|---|\n",
    "|1|START|0|0|\n",
    "|2|1|6|-140|\n",
    "|3|1|5|318|\n",
    "|4|1|3|312|\n",
    "|5|3|1|-329|\n",
    "|6|3|6|153|\n",
    "|7|3|2|193|\n",
    "|8|4,7|1|361|\n",
    "|9|2|4|24|\n",
    "|10|5|3|33|\n",
    "|11|7|2|387|\n",
    "|12|6,10,11|3|-386|\n",
    "|13|8,12|5|171|\n",
    "|14|9,13|0|0|"
   ]
  },
  {
   "cell_type": "code",
   "execution_count": 228,
   "metadata": {},
   "outputs": [
    {
     "data": {
      "image/png": "[encoded data removed]",
      "text/plain": [
       "Plot with title \"\""
      ]
     },
     "metadata": {},
     "output_type": "display_data"
    }
   ],
   "source": [
    "g3 <- graph(edges=c('start=1',2,'start=1',3,'start=1',4,3,5,3,6,3,7,\n",
    "                     4,8,7,8,2,9,5,10,7,11,\n",
    "                     6,12,10,12,11,12,8,13,12,13,'end=14',13,9,'end=14') )\n",
    "plot(g3)   "
   ]
  },
  {
   "cell_type": "code",
   "execution_count": 229,
   "metadata": {},
   "outputs": [
    {
     "data": {
      "text/html": [
       "<ol class=list-inline>\n",
       "\t<li>0</li>\n",
       "\t<li>0</li>\n",
       "\t<li>0</li>\n",
       "\t<li>0</li>\n",
       "\t<li>5</li>\n",
       "\t<li>5</li>\n",
       "\t<li>5</li>\n",
       "\t<li>7</li>\n",
       "\t<li>6</li>\n",
       "\t<li>6</li>\n",
       "\t<li>7</li>\n",
       "\t<li>11</li>\n",
       "\t<li>14</li>\n",
       "\t<li>19</li>\n",
       "</ol>\n"
      ],
      "text/latex": [
       "\\begin{enumerate*}\n",
       "\\item 0\n",
       "\\item 0\n",
       "\\item 0\n",
       "\\item 0\n",
       "\\item 5\n",
       "\\item 5\n",
       "\\item 5\n",
       "\\item 7\n",
       "\\item 6\n",
       "\\item 6\n",
       "\\item 7\n",
       "\\item 11\n",
       "\\item 14\n",
       "\\item 19\n",
       "\\end{enumerate*}\n"
      ],
      "text/markdown": [
       "1. 0\n",
       "2. 0\n",
       "3. 0\n",
       "4. 0\n",
       "5. 5\n",
       "6. 5\n",
       "7. 5\n",
       "8. 7\n",
       "9. 6\n",
       "10. 6\n",
       "11. 7\n",
       "12. 11\n",
       "13. 14\n",
       "14. 19\n",
       "\n",
       "\n"
      ],
      "text/plain": [
       " [1]  0  0  0  0  5  5  5  7  6  6  7 11 14 19"
      ]
     },
     "metadata": {},
     "output_type": "display_data"
    },
    {
     "data": {
      "text/html": [
       "<ol class=list-inline>\n",
       "\t<li>25</li>\n",
       "\t<li>34</li>\n",
       "\t<li>25</li>\n",
       "\t<li>35</li>\n",
       "\t<li>32</li>\n",
       "\t<li>30</li>\n",
       "\t<li>32</li>\n",
       "\t<li>38</li>\n",
       "\t<li>40</li>\n",
       "\t<li>33</li>\n",
       "\t<li>34</li>\n",
       "\t<li>36</li>\n",
       "\t<li>39</li>\n",
       "\t<li>44</li>\n",
       "</ol>\n"
      ],
      "text/latex": [
       "\\begin{enumerate*}\n",
       "\\item 25\n",
       "\\item 34\n",
       "\\item 25\n",
       "\\item 35\n",
       "\\item 32\n",
       "\\item 30\n",
       "\\item 32\n",
       "\\item 38\n",
       "\\item 40\n",
       "\\item 33\n",
       "\\item 34\n",
       "\\item 36\n",
       "\\item 39\n",
       "\\item 44\n",
       "\\end{enumerate*}\n"
      ],
      "text/markdown": [
       "1. 25\n",
       "2. 34\n",
       "3. 25\n",
       "4. 35\n",
       "5. 32\n",
       "6. 30\n",
       "7. 32\n",
       "8. 38\n",
       "9. 40\n",
       "10. 33\n",
       "11. 34\n",
       "12. 36\n",
       "13. 39\n",
       "14. 44\n",
       "\n",
       "\n"
      ],
      "text/plain": [
       " [1] 25 34 25 35 32 30 32 38 40 33 34 36 39 44"
      ]
     },
     "metadata": {},
     "output_type": "display_data"
    }
   ],
   "source": [
    "n <- 14\n",
    "duracao_max <- 44\n",
    "duracao <- c(0,6,5,3,1,6,2,1,4,3,2,3,5,0)\n",
    "valor <- c(0,-140,318,312,-329,153,193,361,24,33,387,-386,171,0)\n",
    "precedencia <- list(c(1,2),c(1,3),c(1,4),c(2,9),c(3,5),c(3,6),c(3,7),c(4,8),c(5,10),\n",
    "                c(6,12),c(7,8),c(7,11),c(8,13),c(9,14),c(10,12),c(11,12),c(12,13),c(13,14))\n",
    "z <- length(precedencia)\n",
    "inicio_cedo <- rep(0,14)\n",
    "inicio_tarde <- rep(duracao_max,14) \n",
    "for(i in 1:n){\n",
    "    for(j in 1:z){\n",
    "        if( i == precedencia[[j]][2]){\n",
    "            item <- precedencia[[j]][1]\n",
    "            if(inicio_cedo[[i]] <= inicio_cedo[[item]] + duracao[[item]]){\n",
    "                inicio_cedo[[i]] <- inicio_cedo[[item]] + duracao[[item]]\n",
    "            }\n",
    "        }\n",
    "    \n",
    "    }\n",
    "}\n",
    "\n",
    "for(i in n:1){\n",
    "    for(j in 1:z){\n",
    "        if( i == precedencia[[j]][1]){\n",
    "            item <- precedencia[[j]][2]\n",
    "            if(inicio_tarde[[i]] >= inicio_tarde[[item]] - duracao[[i]]){\n",
    "                inicio_tarde[[i]] <- inicio_tarde[[item]] - duracao[[i]]\n",
    "            }\n",
    "        }\n",
    "    \n",
    "    }\n",
    "}\n",
    "\n",
    "inicio_cedo \n",
    "inicio_tarde\n"
   ]
  },
  {
   "cell_type": "code",
   "execution_count": 230,
   "metadata": {},
   "outputs": [],
   "source": [
    "valida <- function(inicio, precedencia, duracao, prazo){\n",
    "    z <- length(precedencia)\n",
    "    n <- length(inicio)\n",
    "    for(i in 1:n){\n",
    "        if(inicio[[i]] + duracao[[i]] > prazo) {\n",
    "            return(0)\n",
    "        }\n",
    "    }\n",
    "    \n",
    "    for(i in 1:z){\n",
    "        if(inicio[[precedencia[[i]][2]]] < inicio[[precedencia[[i]][1]]] + duracao[[precedencia[[i]][1]]]){\n",
    "            return(0)\n",
    "        }\n",
    "    }\n",
    "    return(1)\n",
    "}"
   ]
  },
  {
   "cell_type": "code",
   "execution_count": 231,
   "metadata": {},
   "outputs": [],
   "source": [
    "npv <- function(inicio, valor,taxa){\n",
    "    npv0 <- 0\n",
    "    n <- length(inicio)\n",
    "    \n",
    "    for(i in 1:n){\n",
    "        npv0 <- npv0 + valor[[i]] * (1 - taxa)^inicio[[i]]\n",
    "    }\n",
    "    npv0\n",
    "}"
   ]
  },
  {
   "cell_type": "code",
   "execution_count": 232,
   "metadata": {},
   "outputs": [],
   "source": [
    "adia <- function(inicio,duracao,precedencia){\n",
    "    n <- length(inicio)\n",
    "    z <- length(precedencia)\n",
    "    for(j in 1:z){\n",
    "        if( inicio[[precedencia[[j]][1]]] + duracao[[precedencia[[j]][1]]] >  inicio[[precedencia[[j]][2]]]){\n",
    "            inicio[[precedencia[[j]][2]]] <- inicio[[precedencia[[j]][1]]] + duracao[[precedencia[[j]][1]]]\n",
    "            \n",
    "            if(valida(inicio, precedencia, duracao, duracao_max)){\n",
    "                return(inicio)  \n",
    "            }   \n",
    "        }\n",
    "    }\n",
    "    if(valida(inicio, precedencia, duracao, duracao_max)){\n",
    "        return(inicio)  \n",
    "    }\n",
    "}"
   ]
  },
  {
   "cell_type": "code",
   "execution_count": 233,
   "metadata": {},
   "outputs": [
    {
     "data": {
      "text/html": [
       "<ol class=list-inline>\n",
       "\t<li>0</li>\n",
       "\t<li>34</li>\n",
       "\t<li>0</li>\n",
       "\t<li>0</li>\n",
       "\t<li>32</li>\n",
       "\t<li>5</li>\n",
       "\t<li>5</li>\n",
       "\t<li>7</li>\n",
       "\t<li>40</li>\n",
       "\t<li>33</li>\n",
       "\t<li>7</li>\n",
       "\t<li>36</li>\n",
       "\t<li>39</li>\n",
       "\t<li>44</li>\n",
       "</ol>\n"
      ],
      "text/latex": [
       "\\begin{enumerate*}\n",
       "\\item 0\n",
       "\\item 34\n",
       "\\item 0\n",
       "\\item 0\n",
       "\\item 32\n",
       "\\item 5\n",
       "\\item 5\n",
       "\\item 7\n",
       "\\item 40\n",
       "\\item 33\n",
       "\\item 7\n",
       "\\item 36\n",
       "\\item 39\n",
       "\\item 44\n",
       "\\end{enumerate*}\n"
      ],
      "text/markdown": [
       "1. 0\n",
       "2. 34\n",
       "3. 0\n",
       "4. 0\n",
       "5. 32\n",
       "6. 5\n",
       "7. 5\n",
       "8. 7\n",
       "9. 40\n",
       "10. 33\n",
       "11. 7\n",
       "12. 36\n",
       "13. 39\n",
       "14. 44\n",
       "\n",
       "\n"
      ],
      "text/plain": [
       " [1]  0 34  0  0 32  5  5  7 40 33  7 36 39 44"
      ]
     },
     "metadata": {},
     "output_type": "display_data"
    },
    {
     "data": {
      "text/html": [
       "1204.70605015516"
      ],
      "text/latex": [
       "1204.70605015516"
      ],
      "text/markdown": [
       "1204.70605015516"
      ],
      "text/plain": [
       "[1] 1204.706"
      ]
     },
     "metadata": {},
     "output_type": "display_data"
    }
   ],
   "source": [
    "inicio <- inicio_cedo\n",
    "for(i in 1:n){\n",
    "    novo <- inicio\n",
    "    novo[[i]] = inicio_tarde[[i]]\n",
    "    novo <- adia(novo,duracao,precedencia)\n",
    "    if(npv(novo, valor,0.01) > npv(inicio, valor,0.01) ){\n",
    "        if(valida(novo, precedencia, duracao, duracao_max)){\n",
    "            inicio <- novo\n",
    "        }\n",
    "    }\n",
    "}\n",
    "inicio\n",
    "npv(inicio, valor,0.01)"
   ]
  },
  {
   "cell_type": "code",
   "execution_count": null,
   "metadata": {},
   "outputs": [],
   "source": []
  }
 ],
 "metadata": {
  "kernelspec": {
   "display_name": "R",
   "language": "R",
   "name": "ir"
  },
  "language_info": {
   "codemirror_mode": "r",
   "file_extension": ".r",
   "mimetype": "text/x-r-source",
   "name": "R",
   "pygments_lexer": "r",
   "version": "3.3.0"
  }
 },
 "nbformat": 4,
 "nbformat_minor": 2
}
