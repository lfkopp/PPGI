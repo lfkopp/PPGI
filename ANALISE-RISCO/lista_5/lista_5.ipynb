{
 "cells": [
  {
   "cell_type": "markdown",
   "metadata": {},
   "source": [
    "MAI 103: Análise de Risco //  Prof. Eber  \n",
    "Lista 05  //  Data: 10/07/2018  //  Entrega: 17/07/2018  \n",
    "Luis Filipe Kopp"
   ]
  },
  {
   "cell_type": "code",
   "execution_count": 1,
   "metadata": {},
   "outputs": [
    {
     "name": "stderr",
     "output_type": "stream",
     "text": [
      "Warning message:\n",
      "\"package 'triangle' was built under R version 3.3.3\"Warning message:\n",
      "\"package 'igraph' was built under R version 3.3.3\"\n",
      "Attaching package: 'igraph'\n",
      "\n",
      "The following objects are masked from 'package:stats':\n",
      "\n",
      "    decompose, spectrum\n",
      "\n",
      "The following object is masked from 'package:base':\n",
      "\n",
      "    union\n",
      "\n",
      "Warning message:\n",
      "\"package 'hexbin' was built under R version 3.3.3\""
     ]
    }
   ],
   "source": [
    "set.seed(1)\n",
    "library(triangle)\n",
    "library(igraph)\n",
    "library(hexbin)\n",
    "library(ggplot2)"
   ]
  },
  {
   "cell_type": "markdown",
   "metadata": {},
   "source": [
    "1-Usando MC na rede descrita nas tabelas 1 e 2, obtenha:  "
   ]
  },
  {
   "cell_type": "markdown",
   "metadata": {},
   "source": [
    "|ativ|Min|Mprov|Max|\n",
    "|---|---|---|---|\n",
    "|A|1|2|4|\n",
    "|B|5|6|7|\n",
    "|C|2|4|5|\n",
    "|D|1|3|4|\n",
    "|E|4|5|7|\n",
    "|F|3|4|5|\n",
    "|G|1|2|3|\n",
    "Tabela 1 - Atvidades"
   ]
  },
  {
   "cell_type": "markdown",
   "metadata": {},
   "source": [
    "(start - A B C)\n",
    "(A - F D)\n",
    "(B - G)\n",
    "(C - E)\n",
    "(D - G)\n",
    "(E - G)\n",
    "(F - end)\n",
    "(G - end)  \n",
    "Tabela 2 - Redes"
   ]
  },
  {
   "cell_type": "code",
   "execution_count": 2,
   "metadata": {},
   "outputs": [
    {
     "data": {
      "image/png": "[encoded data removed]",
      "text/plain": [
       "Plot with title \"\""
      ]
     },
     "metadata": {},
     "output_type": "display_data"
    }
   ],
   "source": [
    "g1 <- graph(edges=c('start','a', 'start','b', 'start', 'c','c','e','a','f',\n",
    "                     'a','d','f','end','g','end','b','g','e','g','d','g') )\n",
    "plot(g1)\n"
   ]
  },
  {
   "cell_type": "markdown",
   "metadata": {},
   "source": [
    "• Uma aproximação empírica para a duração do projeto mostrado.  "
   ]
  },
  {
   "cell_type": "code",
   "execution_count": 38,
   "metadata": {},
   "outputs": [],
   "source": [
    "resposta_final <- c()\n",
    "ant <- c()\n",
    "\n",
    "simula <- function(p){\n",
    "resposta <- c()\n",
    "\n",
    "n <- length(p)\n",
    "procura_caminho <- function(p,node,anterior,tempo){\n",
    "    if(node == \"end\"){\n",
    "        if(tempo > t){\n",
    "            print(anterior)\n",
    "            ant <<- anterior\n",
    "            t <<- tempo\n",
    "        }\n",
    "        \n",
    "        resposta <<- c(resposta,tempo)\n",
    "\n",
    "    }\n",
    "    else{\n",
    "        for(i in 1:n){\n",
    "            if(p[[i]][1] == node){  \n",
    "                t <- tempo + as.numeric(p[[i]][3])\n",
    "                procura_caminho(p,p[[i]][2], paste(anterior,p[[i]][1],\n",
    "                                                   sep = \"-\"), t)\n",
    "            }\n",
    "        }   \n",
    "    }\n",
    "\n",
    "}\n",
    "procura_caminho(p,\"start\",\"\",0)    \n",
    "resposta_final <<- c(resposta_final,max(resposta))\n",
    "}    \n"
   ]
  },
  {
   "cell_type": "code",
   "execution_count": 39,
   "metadata": {
    "scrolled": false
   },
   "outputs": [
    {
     "name": "stdout",
     "output_type": "stream",
     "text": [
      "[1] \"-start-A-F\"\n",
      "[1] \"-start-A-D-G\"\n",
      "[1] \"-start-B-G\"\n",
      "[1] \"-start-C-E-G\"\n"
     ]
    },
    {
     "data": {
      "text/html": [
       "11"
      ],
      "text/latex": [
       "11"
      ],
      "text/markdown": [
       "11"
      ],
      "text/plain": [
       "[1] 11"
      ]
     },
     "metadata": {},
     "output_type": "display_data"
    },
    {
     "data": {
      "text/html": [
       "'-start-C-E-G'"
      ],
      "text/latex": [
       "'-start-C-E-G'"
      ],
      "text/markdown": [
       "'-start-C-E-G'"
      ],
      "text/plain": [
       "[1] \"-start-C-E-G\""
      ]
     },
     "metadata": {},
     "output_type": "display_data"
    }
   ],
   "source": [
    "resposta_final <- c()\n",
    "caminhos <- c()\n",
    "t <- 0\n",
    "precedencia <-  list(c(\"start\",\"A\",2),c(\"start\",\"B\",6),\n",
    "                     c(\"start\",\"C\",4),c(\"A\",\"F\",4),\n",
    "                     c(\"A\",\"D\",3),c(\"B\",\"G\",2),\n",
    "                     c(\"C\",\"E\",5),c(\"D\",\"G\",2),\n",
    "                     c(\"E\",\"G\",2),c(\"F\",\"end\",0),c(\"G\",\"end\",0))\n",
    "simula(precedencia)\n",
    "resposta_final\n",
    "ant"
   ]
  },
  {
   "cell_type": "markdown",
   "metadata": {},
   "source": [
    "• Obtenha um estimativa das probabilidades das atividades pertencerem ao caminho crítico  "
   ]
  },
  {
   "cell_type": "code",
   "execution_count": 40,
   "metadata": {},
   "outputs": [
    {
     "name": "stdout",
     "output_type": "stream",
     "text": [
      "[1] \"-start-C-E-G\"\n",
      "[1] \"-start-C-E-G\"\n",
      "[1] \"-start-C-E-G\"\n",
      "[1] \"-start-C-E-G\"\n",
      "[1] \"-start-C-E-G\"\n",
      "[1] \"-start-C-E-G\"\n",
      "[1] \"-start-C-E-G\"\n",
      "[1] \"-start-C-E-G\"\n",
      "[1] \"-start-C-E-G\"\n"
     ]
    },
    {
     "data": {
      "image/png": "[encoded data removed]",
      "text/plain": [
       "plot without title"
      ]
     },
     "metadata": {},
     "output_type": "display_data"
    }
   ],
   "source": [
    "resposta_final <- c()\n",
    "caminho <- c()\n",
    "for( h in 1:10000){\n",
    "precedencia <-  list(c(\"start\",\"A\",rtriangle(1,1,4,2)),\n",
    "                     c(\"start\",\"B\",rtriangle(1,5,7,6)),\n",
    "                     c(\"start\",\"C\",rtriangle(1,2,5,4)),\n",
    "                     c(\"A\",\"F\",rtriangle(1,3,5,4)),\n",
    "                     c(\"A\",\"D\",rtriangle(1,1,4,3)),\n",
    "                     c(\"B\",\"G\",rtriangle(1,1,3,2)),\n",
    "                     c(\"C\",\"E\",rtriangle(1,4,7,5)),\n",
    "                     c(\"D\",\"G\",rtriangle(1,1,3,2)),\n",
    "                     c(\"E\",\"G\",rtriangle(1,1,3,2)),\n",
    "                     c(\"F\",\"end\",0),c(\"G\",\"end\",0))\n",
    "simula(precedencia)\n",
    "caminho <<- c(caminho,ant)    \n",
    "}\n",
    "barplot(table(caminho))"
   ]
  },
  {
   "cell_type": "markdown",
   "metadata": {},
   "source": [
    "Uma análise empírica sugere que se B estiver perto do máximo (7) e C e E estiverem perto do mínimo (2 e 4), o caminho crítico passaria a ser start-B-G-end ao invés de start-C-E-G-end, porém rodamos a simulação n vezes (para n muito grande) e em mais de 99.9% não houve troca de caminho crítico, por isso podemos assumir como extremamente improvável."
   ]
  },
  {
   "cell_type": "code",
   "execution_count": 6,
   "metadata": {},
   "outputs": [
    {
     "data": {
      "text/html": [
       "0.99968"
      ],
      "text/latex": [
       "0.99968"
      ],
      "text/markdown": [
       "0.99968"
      ],
      "text/plain": [
       "[1] 0.99968"
      ]
     },
     "metadata": {},
     "output_type": "display_data"
    }
   ],
   "source": [
    "n <- 1000000\n",
    "c <- rtriangle(n,2,5,4) + rtriangle(n,4,7,5) - rtriangle(n,5,7,6)\n",
    "sum(c>=0)/length(c)"
   ]
  },
  {
   "cell_type": "markdown",
   "metadata": {},
   "source": [
    "• Compare o resultado com aquele obtido pela aproximação PERT.  "
   ]
  },
  {
   "cell_type": "code",
   "execution_count": 7,
   "metadata": {},
   "outputs": [
    {
     "data": {
      "text/html": [
       "11.0263285705205"
      ],
      "text/latex": [
       "11.0263285705205"
      ],
      "text/markdown": [
       "11.0263285705205"
      ],
      "text/plain": [
       "[1] 11.02633"
      ]
     },
     "metadata": {},
     "output_type": "display_data"
    }
   ],
   "source": [
    "resposta_final <- c()\n",
    "for( h in 1:10000){\n",
    "precedencia <-  list(c(\"start\",\"A\",rtriangle(1,1,4,2)),\n",
    "                     c(\"start\",\"B\",rtriangle(1,5,7,6)),\n",
    "                     c(\"start\",\"C\",rtriangle(1,2,5,4)),\n",
    "                     c(\"A\",\"F\",rtriangle(1,3,5,4)),\n",
    "                     c(\"A\",\"D\",rtriangle(1,1,4,3)),\n",
    "                     c(\"B\",\"G\",rtriangle(1,1,3,2)),\n",
    "                     c(\"C\",\"E\",rtriangle(1,4,7,5)),\n",
    "                     c(\"D\",\"G\",rtriangle(1,1,3,2)),\n",
    "                     c(\"E\",\"G\",rtriangle(1,1,3,2)),\n",
    "                     c(\"F\",\"end\",0),c(\"G\",\"end\",0))\n",
    "simula(precedencia)\n",
    "}\n",
    "mean(resposta_final)"
   ]
  },
  {
   "cell_type": "markdown",
   "metadata": {},
   "source": [
    "Em cerca de 50% das simulações, o tempo de conclusão foi superior à 11."
   ]
  },
  {
   "cell_type": "code",
   "execution_count": 8,
   "metadata": {},
   "outputs": [
    {
     "data": {
      "image/png": "[encoded data removed]",
      "text/plain": [
       "Plot with title \"density.default(x = resposta_final)\""
      ]
     },
     "metadata": {},
     "output_type": "display_data"
    }
   ],
   "source": [
    "plot(density(resposta_final), col=\"red\")"
   ]
  },
  {
   "cell_type": "markdown",
   "metadata": {},
   "source": [
    "• Gere todos agendamentos possíveis para o minimo prazo.  "
   ]
  },
  {
   "cell_type": "code",
   "execution_count": 55,
   "metadata": {},
   "outputs": [
    {
     "data": {
      "text/html": [
       "<ol class=list-inline>\n",
       "\t<li>0</li>\n",
       "\t<li>2</li>\n",
       "\t<li>2</li>\n",
       "\t<li>2</li>\n",
       "\t<li>8</li>\n",
       "\t<li>6</li>\n",
       "\t<li>8</li>\n",
       "\t<li>11</li>\n",
       "\t<li>13</li>\n",
       "</ol>\n"
      ],
      "text/latex": [
       "\\begin{enumerate*}\n",
       "\\item 0\n",
       "\\item 2\n",
       "\\item 2\n",
       "\\item 2\n",
       "\\item 8\n",
       "\\item 6\n",
       "\\item 8\n",
       "\\item 11\n",
       "\\item 13\n",
       "\\end{enumerate*}\n"
      ],
      "text/markdown": [
       "1. 0\n",
       "2. 2\n",
       "3. 2\n",
       "4. 2\n",
       "5. 8\n",
       "6. 6\n",
       "7. 8\n",
       "8. 11\n",
       "9. 13\n",
       "\n",
       "\n"
      ],
      "text/plain": [
       "[1]  0  2  2  2  8  6  8 11 13"
      ]
     },
     "metadata": {},
     "output_type": "display_data"
    },
    {
     "data": {
      "text/html": [
       "<ol class=list-inline>\n",
       "\t<li>0</li>\n",
       "\t<li>2</li>\n",
       "\t<li>7</li>\n",
       "\t<li>5</li>\n",
       "\t<li>8</li>\n",
       "\t<li>9</li>\n",
       "\t<li>8</li>\n",
       "\t<li>11</li>\n",
       "\t<li>13</li>\n",
       "</ol>\n"
      ],
      "text/latex": [
       "\\begin{enumerate*}\n",
       "\\item 0\n",
       "\\item 2\n",
       "\\item 7\n",
       "\\item 5\n",
       "\\item 8\n",
       "\\item 9\n",
       "\\item 8\n",
       "\\item 11\n",
       "\\item 13\n",
       "\\end{enumerate*}\n"
      ],
      "text/markdown": [
       "1. 0\n",
       "2. 2\n",
       "3. 7\n",
       "4. 5\n",
       "5. 8\n",
       "6. 9\n",
       "7. 8\n",
       "8. 11\n",
       "9. 13\n",
       "\n",
       "\n"
      ],
      "text/plain": [
       "[1]  0  2  7  5  8  9  8 11 13"
      ]
     },
     "metadata": {},
     "output_type": "display_data"
    }
   ],
   "source": [
    "precedencia <-  list(c(1,2,2), c(1,3,6), c(1,4,4), c(2,7,4), c(2,5,3), c(3,8,2), \n",
    "                     c(4,6,5), c(5,8,2), c(6,8,2), c(7,9,0),c(8,9,0))\n",
    "\n",
    "n <- 9\n",
    "z <- length(precedencia)\n",
    "inicio_cedo <- rep(0,n)\n",
    "\n",
    "for(i in 1:n){\n",
    "    for(j in 1:z){\n",
    "        if( i == precedencia[[j]][2]){\n",
    "            item <- precedencia[[j]][1]\n",
    "            if(inicio_cedo[[i]] <= inicio_cedo[[item]] + precedencia[[item]][3]){\n",
    "                inicio_cedo[[i]] <- inicio_cedo[[item]] + precedencia[[item]][3]\n",
    "            }\n",
    "        }\n",
    "    \n",
    "    }\n",
    "}\n",
    "\n",
    "inicio_tarde <- rep(inicio_cedo[[n]],n) \n",
    "\n",
    "for(i in n:1){\n",
    "    for(j in 1:z){\n",
    "        if( i == precedencia[[j]][1]){\n",
    "            item <- precedencia[[j]][2]\n",
    "            if(inicio_tarde[[i]] >= inicio_tarde[[item]] - precedencia[[i]][3]){\n",
    "                inicio_tarde[[i]] <- inicio_tarde[[item]] - precedencia[[i]][3]\n",
    "            }\n",
    "        }\n",
    "    \n",
    "    }\n",
    "}\n",
    "\n",
    "inicio_cedo \n",
    "inicio_tarde\n"
   ]
  },
  {
   "cell_type": "code",
   "execution_count": 128,
   "metadata": {},
   "outputs": [
    {
     "data": {
      "text/html": [
       "<table>\n",
       "<tbody>\n",
       "\t<tr><th scope=row>inicio</th><td>0 </td><td>2 </td><td>2 </td><td>2 </td><td>8 </td><td>6 </td><td>8 </td><td>11</td><td>13</td></tr>\n",
       "\t<tr><th scope=row>inicio</th><td>0 </td><td>2 </td><td>2 </td><td>3 </td><td>8 </td><td>6 </td><td>8 </td><td>11</td><td>13</td></tr>\n",
       "\t<tr><th scope=row>inicio</th><td>0 </td><td>2 </td><td>2 </td><td>4 </td><td>8 </td><td>6 </td><td>8 </td><td>11</td><td>13</td></tr>\n",
       "\t<tr><th scope=row>inicio</th><td>0 </td><td>2 </td><td>2 </td><td>5 </td><td>8 </td><td>6 </td><td>8 </td><td>11</td><td>13</td></tr>\n",
       "\t<tr><th scope=row>inicio</th><td>0 </td><td>2 </td><td>2 </td><td>2 </td><td>8 </td><td>6 </td><td>8 </td><td>11</td><td>13</td></tr>\n",
       "\t<tr><th scope=row>inicio</th><td>0 </td><td>2 </td><td>2 </td><td>3 </td><td>8 </td><td>6 </td><td>8 </td><td>11</td><td>13</td></tr>\n",
       "\t<tr><th scope=row>inicio</th><td>0 </td><td>2 </td><td>2 </td><td>4 </td><td>8 </td><td>6 </td><td>8 </td><td>11</td><td>13</td></tr>\n",
       "\t<tr><th scope=row>inicio</th><td>0 </td><td>2 </td><td>3 </td><td>4 </td><td>8 </td><td>6 </td><td>8 </td><td>11</td><td>13</td></tr>\n",
       "\t<tr><th scope=row>inicio</th><td>0 </td><td>2 </td><td>4 </td><td>4 </td><td>8 </td><td>6 </td><td>8 </td><td>11</td><td>13</td></tr>\n",
       "\t<tr><th scope=row>inicio</th><td>0 </td><td>2 </td><td>5 </td><td>4 </td><td>8 </td><td>6 </td><td>8 </td><td>11</td><td>13</td></tr>\n",
       "\t<tr><th scope=row>inicio</th><td>0 </td><td>2 </td><td>6 </td><td>4 </td><td>8 </td><td>6 </td><td>8 </td><td>11</td><td>13</td></tr>\n",
       "\t<tr><th scope=row>inicio</th><td>0 </td><td>2 </td><td>7 </td><td>4 </td><td>8 </td><td>6 </td><td>8 </td><td>11</td><td>13</td></tr>\n",
       "\t<tr><th scope=row>inicio</th><td>0 </td><td>2 </td><td>2 </td><td>2 </td><td>8 </td><td>6 </td><td>8 </td><td>11</td><td>13</td></tr>\n",
       "\t<tr><th scope=row>inicio</th><td>0 </td><td>2 </td><td>2 </td><td>3 </td><td>8 </td><td>6 </td><td>8 </td><td>11</td><td>13</td></tr>\n",
       "\t<tr><th scope=row>inicio</th><td>0 </td><td>2 </td><td>2 </td><td>4 </td><td>8 </td><td>6 </td><td>8 </td><td>11</td><td>13</td></tr>\n",
       "\t<tr><th scope=row>inicio</th><td>0 </td><td>2 </td><td>2 </td><td>5 </td><td>8 </td><td>6 </td><td>8 </td><td>11</td><td>13</td></tr>\n",
       "\t<tr><th scope=row>inicio</th><td>0 </td><td>2 </td><td>2 </td><td>3 </td><td>8 </td><td>6 </td><td>8 </td><td>11</td><td>13</td></tr>\n",
       "\t<tr><th scope=row>inicio</th><td>0 </td><td>2 </td><td>2 </td><td>4 </td><td>8 </td><td>6 </td><td>8 </td><td>11</td><td>13</td></tr>\n",
       "\t<tr><th scope=row>inicio</th><td>0 </td><td>2 </td><td>3 </td><td>4 </td><td>8 </td><td>6 </td><td>8 </td><td>11</td><td>13</td></tr>\n",
       "\t<tr><th scope=row>inicio</th><td>0 </td><td>2 </td><td>4 </td><td>4 </td><td>8 </td><td>6 </td><td>8 </td><td>11</td><td>13</td></tr>\n",
       "\t<tr><th scope=row>inicio</th><td>0 </td><td>2 </td><td>5 </td><td>4 </td><td>8 </td><td>6 </td><td>8 </td><td>11</td><td>13</td></tr>\n",
       "\t<tr><th scope=row>inicio</th><td>0 </td><td>2 </td><td>6 </td><td>4 </td><td>8 </td><td>6 </td><td>8 </td><td>11</td><td>13</td></tr>\n",
       "\t<tr><th scope=row>inicio</th><td>0 </td><td>2 </td><td>7 </td><td>4 </td><td>8 </td><td>6 </td><td>8 </td><td>11</td><td>13</td></tr>\n",
       "\t<tr><th scope=row>inicio</th><td>0 </td><td>2 </td><td>2 </td><td>2 </td><td>8 </td><td>6 </td><td>8 </td><td>11</td><td>13</td></tr>\n",
       "\t<tr><th scope=row>inicio</th><td>0 </td><td>2 </td><td>2 </td><td>3 </td><td>8 </td><td>6 </td><td>8 </td><td>11</td><td>13</td></tr>\n",
       "\t<tr><th scope=row>inicio</th><td>0 </td><td>2 </td><td>2 </td><td>4 </td><td>8 </td><td>6 </td><td>8 </td><td>11</td><td>13</td></tr>\n",
       "\t<tr><th scope=row>inicio</th><td>0 </td><td>2 </td><td>2 </td><td>5 </td><td>8 </td><td>6 </td><td>8 </td><td>11</td><td>13</td></tr>\n",
       "\t<tr><th scope=row>inicio</th><td>0 </td><td>2 </td><td>2 </td><td>4 </td><td>8 </td><td>6 </td><td>8 </td><td>11</td><td>13</td></tr>\n",
       "\t<tr><th scope=row>inicio</th><td>0 </td><td>2 </td><td>3 </td><td>4 </td><td>8 </td><td>6 </td><td>8 </td><td>11</td><td>13</td></tr>\n",
       "\t<tr><th scope=row>inicio</th><td>0 </td><td>2 </td><td>4 </td><td>4 </td><td>8 </td><td>6 </td><td>8 </td><td>11</td><td>13</td></tr>\n",
       "\t<tr><th scope=row>...</th><td>...</td><td>...</td><td>...</td><td>...</td><td>...</td><td>...</td><td>...</td><td>...</td><td>...</td></tr>\n",
       "\t<tr><th scope=row>inicio</th><td>0 </td><td>2 </td><td>2 </td><td>3 </td><td>8 </td><td>8 </td><td>8 </td><td>11</td><td>13</td></tr>\n",
       "\t<tr><th scope=row>inicio</th><td>0 </td><td>2 </td><td>2 </td><td>3 </td><td>8 </td><td>9 </td><td>8 </td><td>11</td><td>13</td></tr>\n",
       "\t<tr><th scope=row>inicio</th><td>0 </td><td>2 </td><td>2 </td><td>2 </td><td>8 </td><td>6 </td><td>8 </td><td>11</td><td>13</td></tr>\n",
       "\t<tr><th scope=row>inicio</th><td>0 </td><td>2 </td><td>2 </td><td>2 </td><td>8 </td><td>6 </td><td>8 </td><td>11</td><td>13</td></tr>\n",
       "\t<tr><th scope=row>inicio</th><td>0 </td><td>2 </td><td>2 </td><td>3 </td><td>8 </td><td>6 </td><td>8 </td><td>11</td><td>13</td></tr>\n",
       "\t<tr><th scope=row>inicio</th><td>0 </td><td>2 </td><td>2 </td><td>4 </td><td>8 </td><td>6 </td><td>8 </td><td>11</td><td>13</td></tr>\n",
       "\t<tr><th scope=row>inicio</th><td>0 </td><td>2 </td><td>2 </td><td>5 </td><td>8 </td><td>6 </td><td>8 </td><td>11</td><td>13</td></tr>\n",
       "\t<tr><th scope=row>inicio</th><td>0 </td><td>2 </td><td>3 </td><td>4 </td><td>8 </td><td>6 </td><td>8 </td><td>11</td><td>13</td></tr>\n",
       "\t<tr><th scope=row>inicio</th><td>0 </td><td>2 </td><td>2 </td><td>4 </td><td>8 </td><td>6 </td><td>8 </td><td>11</td><td>13</td></tr>\n",
       "\t<tr><th scope=row>inicio</th><td>0 </td><td>2 </td><td>2 </td><td>3 </td><td>8 </td><td>6 </td><td>8 </td><td>11</td><td>13</td></tr>\n",
       "\t<tr><th scope=row>inicio</th><td>0 </td><td>2 </td><td>2 </td><td>3 </td><td>8 </td><td>7 </td><td>8 </td><td>11</td><td>13</td></tr>\n",
       "\t<tr><th scope=row>inicio</th><td>0 </td><td>2 </td><td>2 </td><td>3 </td><td>8 </td><td>8 </td><td>8 </td><td>11</td><td>13</td></tr>\n",
       "\t<tr><th scope=row>inicio</th><td>0 </td><td>2 </td><td>2 </td><td>3 </td><td>8 </td><td>9 </td><td>8 </td><td>11</td><td>13</td></tr>\n",
       "\t<tr><th scope=row>inicio</th><td>0 </td><td>2 </td><td>2 </td><td>2 </td><td>8 </td><td>6 </td><td>8 </td><td>11</td><td>13</td></tr>\n",
       "\t<tr><th scope=row>inicio</th><td>0 </td><td>2 </td><td>2 </td><td>2 </td><td>8 </td><td>6 </td><td>8 </td><td>11</td><td>13</td></tr>\n",
       "\t<tr><th scope=row>inicio</th><td>0 </td><td>2 </td><td>2 </td><td>3 </td><td>8 </td><td>6 </td><td>8 </td><td>11</td><td>13</td></tr>\n",
       "\t<tr><th scope=row>inicio</th><td>0 </td><td>2 </td><td>2 </td><td>4 </td><td>8 </td><td>6 </td><td>8 </td><td>11</td><td>13</td></tr>\n",
       "\t<tr><th scope=row>inicio</th><td>0 </td><td>2 </td><td>2 </td><td>5 </td><td>8 </td><td>6 </td><td>8 </td><td>11</td><td>13</td></tr>\n",
       "\t<tr><th scope=row>inicio</th><td>0 </td><td>2 </td><td>4 </td><td>4 </td><td>8 </td><td>6 </td><td>8 </td><td>11</td><td>13</td></tr>\n",
       "\t<tr><th scope=row>inicio</th><td>0 </td><td>2 </td><td>3 </td><td>4 </td><td>8 </td><td>6 </td><td>8 </td><td>11</td><td>13</td></tr>\n",
       "\t<tr><th scope=row>inicio</th><td>0 </td><td>2 </td><td>2 </td><td>4 </td><td>8 </td><td>6 </td><td>8 </td><td>11</td><td>13</td></tr>\n",
       "\t<tr><th scope=row>inicio</th><td>0 </td><td>2 </td><td>2 </td><td>3 </td><td>8 </td><td>6 </td><td>8 </td><td>11</td><td>13</td></tr>\n",
       "\t<tr><th scope=row>inicio</th><td>0 </td><td>2 </td><td>2 </td><td>3 </td><td>8 </td><td>7 </td><td>8 </td><td>11</td><td>13</td></tr>\n",
       "\t<tr><th scope=row>inicio</th><td>0 </td><td>2 </td><td>2 </td><td>3 </td><td>8 </td><td>8 </td><td>8 </td><td>11</td><td>13</td></tr>\n",
       "\t<tr><th scope=row>inicio</th><td>0 </td><td>2 </td><td>2 </td><td>3 </td><td>8 </td><td>9 </td><td>8 </td><td>11</td><td>13</td></tr>\n",
       "\t<tr><th scope=row>inicio</th><td>0 </td><td>2 </td><td>2 </td><td>2 </td><td>8 </td><td>6 </td><td>8 </td><td>11</td><td>13</td></tr>\n",
       "\t<tr><th scope=row>inicio</th><td>0 </td><td>2 </td><td>2 </td><td>2 </td><td>8 </td><td>6 </td><td>8 </td><td>11</td><td>13</td></tr>\n",
       "\t<tr><th scope=row>inicio</th><td>0 </td><td>2 </td><td>2 </td><td>3 </td><td>8 </td><td>6 </td><td>8 </td><td>11</td><td>13</td></tr>\n",
       "\t<tr><th scope=row>inicio</th><td>0 </td><td>2 </td><td>2 </td><td>4 </td><td>8 </td><td>6 </td><td>8 </td><td>11</td><td>13</td></tr>\n",
       "\t<tr><th scope=row>inicio</th><td>0 </td><td>2 </td><td>2 </td><td>5 </td><td>8 </td><td>6 </td><td>8 </td><td>11</td><td>13</td></tr>\n",
       "</tbody>\n",
       "</table>\n"
      ],
      "text/latex": [
       "\\begin{tabular}{r|lllllllll}\n",
       "\tinicio & 0  & 2  & 2  & 2  & 8  & 6  & 8  & 11 & 13\\\\\n",
       "\tinicio & 0  & 2  & 2  & 3  & 8  & 6  & 8  & 11 & 13\\\\\n",
       "\tinicio & 0  & 2  & 2  & 4  & 8  & 6  & 8  & 11 & 13\\\\\n",
       "\tinicio & 0  & 2  & 2  & 5  & 8  & 6  & 8  & 11 & 13\\\\\n",
       "\tinicio & 0  & 2  & 2  & 2  & 8  & 6  & 8  & 11 & 13\\\\\n",
       "\tinicio & 0  & 2  & 2  & 3  & 8  & 6  & 8  & 11 & 13\\\\\n",
       "\tinicio & 0  & 2  & 2  & 4  & 8  & 6  & 8  & 11 & 13\\\\\n",
       "\tinicio & 0  & 2  & 3  & 4  & 8  & 6  & 8  & 11 & 13\\\\\n",
       "\tinicio & 0  & 2  & 4  & 4  & 8  & 6  & 8  & 11 & 13\\\\\n",
       "\tinicio & 0  & 2  & 5  & 4  & 8  & 6  & 8  & 11 & 13\\\\\n",
       "\tinicio & 0  & 2  & 6  & 4  & 8  & 6  & 8  & 11 & 13\\\\\n",
       "\tinicio & 0  & 2  & 7  & 4  & 8  & 6  & 8  & 11 & 13\\\\\n",
       "\tinicio & 0  & 2  & 2  & 2  & 8  & 6  & 8  & 11 & 13\\\\\n",
       "\tinicio & 0  & 2  & 2  & 3  & 8  & 6  & 8  & 11 & 13\\\\\n",
       "\tinicio & 0  & 2  & 2  & 4  & 8  & 6  & 8  & 11 & 13\\\\\n",
       "\tinicio & 0  & 2  & 2  & 5  & 8  & 6  & 8  & 11 & 13\\\\\n",
       "\tinicio & 0  & 2  & 2  & 3  & 8  & 6  & 8  & 11 & 13\\\\\n",
       "\tinicio & 0  & 2  & 2  & 4  & 8  & 6  & 8  & 11 & 13\\\\\n",
       "\tinicio & 0  & 2  & 3  & 4  & 8  & 6  & 8  & 11 & 13\\\\\n",
       "\tinicio & 0  & 2  & 4  & 4  & 8  & 6  & 8  & 11 & 13\\\\\n",
       "\tinicio & 0  & 2  & 5  & 4  & 8  & 6  & 8  & 11 & 13\\\\\n",
       "\tinicio & 0  & 2  & 6  & 4  & 8  & 6  & 8  & 11 & 13\\\\\n",
       "\tinicio & 0  & 2  & 7  & 4  & 8  & 6  & 8  & 11 & 13\\\\\n",
       "\tinicio & 0  & 2  & 2  & 2  & 8  & 6  & 8  & 11 & 13\\\\\n",
       "\tinicio & 0  & 2  & 2  & 3  & 8  & 6  & 8  & 11 & 13\\\\\n",
       "\tinicio & 0  & 2  & 2  & 4  & 8  & 6  & 8  & 11 & 13\\\\\n",
       "\tinicio & 0  & 2  & 2  & 5  & 8  & 6  & 8  & 11 & 13\\\\\n",
       "\tinicio & 0  & 2  & 2  & 4  & 8  & 6  & 8  & 11 & 13\\\\\n",
       "\tinicio & 0  & 2  & 3  & 4  & 8  & 6  & 8  & 11 & 13\\\\\n",
       "\tinicio & 0  & 2  & 4  & 4  & 8  & 6  & 8  & 11 & 13\\\\\n",
       "\t... & ... & ... & ... & ... & ... & ... & ... & ... & ...\\\\\n",
       "\tinicio & 0  & 2  & 2  & 3  & 8  & 8  & 8  & 11 & 13\\\\\n",
       "\tinicio & 0  & 2  & 2  & 3  & 8  & 9  & 8  & 11 & 13\\\\\n",
       "\tinicio & 0  & 2  & 2  & 2  & 8  & 6  & 8  & 11 & 13\\\\\n",
       "\tinicio & 0  & 2  & 2  & 2  & 8  & 6  & 8  & 11 & 13\\\\\n",
       "\tinicio & 0  & 2  & 2  & 3  & 8  & 6  & 8  & 11 & 13\\\\\n",
       "\tinicio & 0  & 2  & 2  & 4  & 8  & 6  & 8  & 11 & 13\\\\\n",
       "\tinicio & 0  & 2  & 2  & 5  & 8  & 6  & 8  & 11 & 13\\\\\n",
       "\tinicio & 0  & 2  & 3  & 4  & 8  & 6  & 8  & 11 & 13\\\\\n",
       "\tinicio & 0  & 2  & 2  & 4  & 8  & 6  & 8  & 11 & 13\\\\\n",
       "\tinicio & 0  & 2  & 2  & 3  & 8  & 6  & 8  & 11 & 13\\\\\n",
       "\tinicio & 0  & 2  & 2  & 3  & 8  & 7  & 8  & 11 & 13\\\\\n",
       "\tinicio & 0  & 2  & 2  & 3  & 8  & 8  & 8  & 11 & 13\\\\\n",
       "\tinicio & 0  & 2  & 2  & 3  & 8  & 9  & 8  & 11 & 13\\\\\n",
       "\tinicio & 0  & 2  & 2  & 2  & 8  & 6  & 8  & 11 & 13\\\\\n",
       "\tinicio & 0  & 2  & 2  & 2  & 8  & 6  & 8  & 11 & 13\\\\\n",
       "\tinicio & 0  & 2  & 2  & 3  & 8  & 6  & 8  & 11 & 13\\\\\n",
       "\tinicio & 0  & 2  & 2  & 4  & 8  & 6  & 8  & 11 & 13\\\\\n",
       "\tinicio & 0  & 2  & 2  & 5  & 8  & 6  & 8  & 11 & 13\\\\\n",
       "\tinicio & 0  & 2  & 4  & 4  & 8  & 6  & 8  & 11 & 13\\\\\n",
       "\tinicio & 0  & 2  & 3  & 4  & 8  & 6  & 8  & 11 & 13\\\\\n",
       "\tinicio & 0  & 2  & 2  & 4  & 8  & 6  & 8  & 11 & 13\\\\\n",
       "\tinicio & 0  & 2  & 2  & 3  & 8  & 6  & 8  & 11 & 13\\\\\n",
       "\tinicio & 0  & 2  & 2  & 3  & 8  & 7  & 8  & 11 & 13\\\\\n",
       "\tinicio & 0  & 2  & 2  & 3  & 8  & 8  & 8  & 11 & 13\\\\\n",
       "\tinicio & 0  & 2  & 2  & 3  & 8  & 9  & 8  & 11 & 13\\\\\n",
       "\tinicio & 0  & 2  & 2  & 2  & 8  & 6  & 8  & 11 & 13\\\\\n",
       "\tinicio & 0  & 2  & 2  & 2  & 8  & 6  & 8  & 11 & 13\\\\\n",
       "\tinicio & 0  & 2  & 2  & 3  & 8  & 6  & 8  & 11 & 13\\\\\n",
       "\tinicio & 0  & 2  & 2  & 4  & 8  & 6  & 8  & 11 & 13\\\\\n",
       "\tinicio & 0  & 2  & 2  & 5  & 8  & 6  & 8  & 11 & 13\\\\\n",
       "\\end{tabular}\n"
      ],
      "text/markdown": [
       "\n",
       "| inicio | 0  | 2  | 2  | 2  | 8  | 6  | 8  | 11 | 13 | \n",
       "| inicio | 0  | 2  | 2  | 3  | 8  | 6  | 8  | 11 | 13 | \n",
       "| inicio | 0  | 2  | 2  | 4  | 8  | 6  | 8  | 11 | 13 | \n",
       "| inicio | 0  | 2  | 2  | 5  | 8  | 6  | 8  | 11 | 13 | \n",
       "| inicio | 0  | 2  | 2  | 2  | 8  | 6  | 8  | 11 | 13 | \n",
       "| inicio | 0  | 2  | 2  | 3  | 8  | 6  | 8  | 11 | 13 | \n",
       "| inicio | 0  | 2  | 2  | 4  | 8  | 6  | 8  | 11 | 13 | \n",
       "| inicio | 0  | 2  | 3  | 4  | 8  | 6  | 8  | 11 | 13 | \n",
       "| inicio | 0  | 2  | 4  | 4  | 8  | 6  | 8  | 11 | 13 | \n",
       "| inicio | 0  | 2  | 5  | 4  | 8  | 6  | 8  | 11 | 13 | \n",
       "| inicio | 0  | 2  | 6  | 4  | 8  | 6  | 8  | 11 | 13 | \n",
       "| inicio | 0  | 2  | 7  | 4  | 8  | 6  | 8  | 11 | 13 | \n",
       "| inicio | 0  | 2  | 2  | 2  | 8  | 6  | 8  | 11 | 13 | \n",
       "| inicio | 0  | 2  | 2  | 3  | 8  | 6  | 8  | 11 | 13 | \n",
       "| inicio | 0  | 2  | 2  | 4  | 8  | 6  | 8  | 11 | 13 | \n",
       "| inicio | 0  | 2  | 2  | 5  | 8  | 6  | 8  | 11 | 13 | \n",
       "| inicio | 0  | 2  | 2  | 3  | 8  | 6  | 8  | 11 | 13 | \n",
       "| inicio | 0  | 2  | 2  | 4  | 8  | 6  | 8  | 11 | 13 | \n",
       "| inicio | 0  | 2  | 3  | 4  | 8  | 6  | 8  | 11 | 13 | \n",
       "| inicio | 0  | 2  | 4  | 4  | 8  | 6  | 8  | 11 | 13 | \n",
       "| inicio | 0  | 2  | 5  | 4  | 8  | 6  | 8  | 11 | 13 | \n",
       "| inicio | 0  | 2  | 6  | 4  | 8  | 6  | 8  | 11 | 13 | \n",
       "| inicio | 0  | 2  | 7  | 4  | 8  | 6  | 8  | 11 | 13 | \n",
       "| inicio | 0  | 2  | 2  | 2  | 8  | 6  | 8  | 11 | 13 | \n",
       "| inicio | 0  | 2  | 2  | 3  | 8  | 6  | 8  | 11 | 13 | \n",
       "| inicio | 0  | 2  | 2  | 4  | 8  | 6  | 8  | 11 | 13 | \n",
       "| inicio | 0  | 2  | 2  | 5  | 8  | 6  | 8  | 11 | 13 | \n",
       "| inicio | 0  | 2  | 2  | 4  | 8  | 6  | 8  | 11 | 13 | \n",
       "| inicio | 0  | 2  | 3  | 4  | 8  | 6  | 8  | 11 | 13 | \n",
       "| inicio | 0  | 2  | 4  | 4  | 8  | 6  | 8  | 11 | 13 | \n",
       "| ... | ... | ... | ... | ... | ... | ... | ... | ... | ... | \n",
       "| inicio | 0  | 2  | 2  | 3  | 8  | 8  | 8  | 11 | 13 | \n",
       "| inicio | 0  | 2  | 2  | 3  | 8  | 9  | 8  | 11 | 13 | \n",
       "| inicio | 0  | 2  | 2  | 2  | 8  | 6  | 8  | 11 | 13 | \n",
       "| inicio | 0  | 2  | 2  | 2  | 8  | 6  | 8  | 11 | 13 | \n",
       "| inicio | 0  | 2  | 2  | 3  | 8  | 6  | 8  | 11 | 13 | \n",
       "| inicio | 0  | 2  | 2  | 4  | 8  | 6  | 8  | 11 | 13 | \n",
       "| inicio | 0  | 2  | 2  | 5  | 8  | 6  | 8  | 11 | 13 | \n",
       "| inicio | 0  | 2  | 3  | 4  | 8  | 6  | 8  | 11 | 13 | \n",
       "| inicio | 0  | 2  | 2  | 4  | 8  | 6  | 8  | 11 | 13 | \n",
       "| inicio | 0  | 2  | 2  | 3  | 8  | 6  | 8  | 11 | 13 | \n",
       "| inicio | 0  | 2  | 2  | 3  | 8  | 7  | 8  | 11 | 13 | \n",
       "| inicio | 0  | 2  | 2  | 3  | 8  | 8  | 8  | 11 | 13 | \n",
       "| inicio | 0  | 2  | 2  | 3  | 8  | 9  | 8  | 11 | 13 | \n",
       "| inicio | 0  | 2  | 2  | 2  | 8  | 6  | 8  | 11 | 13 | \n",
       "| inicio | 0  | 2  | 2  | 2  | 8  | 6  | 8  | 11 | 13 | \n",
       "| inicio | 0  | 2  | 2  | 3  | 8  | 6  | 8  | 11 | 13 | \n",
       "| inicio | 0  | 2  | 2  | 4  | 8  | 6  | 8  | 11 | 13 | \n",
       "| inicio | 0  | 2  | 2  | 5  | 8  | 6  | 8  | 11 | 13 | \n",
       "| inicio | 0  | 2  | 4  | 4  | 8  | 6  | 8  | 11 | 13 | \n",
       "| inicio | 0  | 2  | 3  | 4  | 8  | 6  | 8  | 11 | 13 | \n",
       "| inicio | 0  | 2  | 2  | 4  | 8  | 6  | 8  | 11 | 13 | \n",
       "| inicio | 0  | 2  | 2  | 3  | 8  | 6  | 8  | 11 | 13 | \n",
       "| inicio | 0  | 2  | 2  | 3  | 8  | 7  | 8  | 11 | 13 | \n",
       "| inicio | 0  | 2  | 2  | 3  | 8  | 8  | 8  | 11 | 13 | \n",
       "| inicio | 0  | 2  | 2  | 3  | 8  | 9  | 8  | 11 | 13 | \n",
       "| inicio | 0  | 2  | 2  | 2  | 8  | 6  | 8  | 11 | 13 | \n",
       "| inicio | 0  | 2  | 2  | 2  | 8  | 6  | 8  | 11 | 13 | \n",
       "| inicio | 0  | 2  | 2  | 3  | 8  | 6  | 8  | 11 | 13 | \n",
       "| inicio | 0  | 2  | 2  | 4  | 8  | 6  | 8  | 11 | 13 | \n",
       "| inicio | 0  | 2  | 2  | 5  | 8  | 6  | 8  | 11 | 13 | \n",
       "\n",
       "\n"
      ],
      "text/plain": [
       "       [,1] [,2] [,3] [,4] [,5] [,6] [,7] [,8] [,9]\n",
       "inicio 0    2    2    2    8    6    8    11   13  \n",
       "inicio 0    2    2    3    8    6    8    11   13  \n",
       "inicio 0    2    2    4    8    6    8    11   13  \n",
       "inicio 0    2    2    5    8    6    8    11   13  \n",
       "inicio 0    2    2    2    8    6    8    11   13  \n",
       "inicio 0    2    2    3    8    6    8    11   13  \n",
       "inicio 0    2    2    4    8    6    8    11   13  \n",
       "inicio 0    2    3    4    8    6    8    11   13  \n",
       "inicio 0    2    4    4    8    6    8    11   13  \n",
       "inicio 0    2    5    4    8    6    8    11   13  \n",
       "inicio 0    2    6    4    8    6    8    11   13  \n",
       "inicio 0    2    7    4    8    6    8    11   13  \n",
       "inicio 0    2    2    2    8    6    8    11   13  \n",
       "inicio 0    2    2    3    8    6    8    11   13  \n",
       "inicio 0    2    2    4    8    6    8    11   13  \n",
       "inicio 0    2    2    5    8    6    8    11   13  \n",
       "inicio 0    2    2    3    8    6    8    11   13  \n",
       "inicio 0    2    2    4    8    6    8    11   13  \n",
       "inicio 0    2    3    4    8    6    8    11   13  \n",
       "inicio 0    2    4    4    8    6    8    11   13  \n",
       "inicio 0    2    5    4    8    6    8    11   13  \n",
       "inicio 0    2    6    4    8    6    8    11   13  \n",
       "inicio 0    2    7    4    8    6    8    11   13  \n",
       "inicio 0    2    2    2    8    6    8    11   13  \n",
       "inicio 0    2    2    3    8    6    8    11   13  \n",
       "inicio 0    2    2    4    8    6    8    11   13  \n",
       "inicio 0    2    2    5    8    6    8    11   13  \n",
       "inicio 0    2    2    4    8    6    8    11   13  \n",
       "inicio 0    2    3    4    8    6    8    11   13  \n",
       "inicio 0    2    4    4    8    6    8    11   13  \n",
       "...    ...  ...  ...  ...  ...  ...  ...  ...  ... \n",
       "inicio 0    2    2    3    8    8    8    11   13  \n",
       "inicio 0    2    2    3    8    9    8    11   13  \n",
       "inicio 0    2    2    2    8    6    8    11   13  \n",
       "inicio 0    2    2    2    8    6    8    11   13  \n",
       "inicio 0    2    2    3    8    6    8    11   13  \n",
       "inicio 0    2    2    4    8    6    8    11   13  \n",
       "inicio 0    2    2    5    8    6    8    11   13  \n",
       "inicio 0    2    3    4    8    6    8    11   13  \n",
       "inicio 0    2    2    4    8    6    8    11   13  \n",
       "inicio 0    2    2    3    8    6    8    11   13  \n",
       "inicio 0    2    2    3    8    7    8    11   13  \n",
       "inicio 0    2    2    3    8    8    8    11   13  \n",
       "inicio 0    2    2    3    8    9    8    11   13  \n",
       "inicio 0    2    2    2    8    6    8    11   13  \n",
       "inicio 0    2    2    2    8    6    8    11   13  \n",
       "inicio 0    2    2    3    8    6    8    11   13  \n",
       "inicio 0    2    2    4    8    6    8    11   13  \n",
       "inicio 0    2    2    5    8    6    8    11   13  \n",
       "inicio 0    2    4    4    8    6    8    11   13  \n",
       "inicio 0    2    3    4    8    6    8    11   13  \n",
       "inicio 0    2    2    4    8    6    8    11   13  \n",
       "inicio 0    2    2    3    8    6    8    11   13  \n",
       "inicio 0    2    2    3    8    7    8    11   13  \n",
       "inicio 0    2    2    3    8    8    8    11   13  \n",
       "inicio 0    2    2    3    8    9    8    11   13  \n",
       "inicio 0    2    2    2    8    6    8    11   13  \n",
       "inicio 0    2    2    2    8    6    8    11   13  \n",
       "inicio 0    2    2    3    8    6    8    11   13  \n",
       "inicio 0    2    2    4    8    6    8    11   13  \n",
       "inicio 0    2    2    5    8    6    8    11   13  "
      ]
     },
     "metadata": {},
     "output_type": "display_data"
    }
   ],
   "source": [
    "agendamento <- c()\n",
    "varia <- function(inicio, cedo,tarde,pos){\n",
    "    for(i in cedo[[pos]]:tarde[[pos]]){\n",
    "        inicio[[pos]] <- i\n",
    "        agendamento <<- rbind(agendamento,inicio)\n",
    "    }\n",
    "    \n",
    "    \n",
    "}\n",
    "inicio <- inicio_cedo\n",
    "varia(inicio, inicio_cedo, inicio_tarde,4)      \n",
    "\n",
    "n <- length(agendamento)/length(inicio)\n",
    "\n",
    "\n",
    "for( g in 1:length(inicio)){\n",
    "    \n",
    "for(a in g:n){\n",
    " varia(agendamento[a,], inicio_cedo, inicio_tarde,a)\n",
    "    \n",
    "}\n",
    "    }\n",
    "\n",
    "agendamento"
   ]
  },
  {
   "cell_type": "markdown",
   "metadata": {},
   "source": [
    "2- Observe os dados sobre o projeto de uma obra mostrado nas tabela 3. Calcule:  "
   ]
  },
  {
   "cell_type": "markdown",
   "metadata": {},
   "source": [
    "|Atividade|Descrição|Pred|DMin|DMp|DMax|CMin|CMp|CMax|\n",
    "|---------|---------|----|----|---|----|----|---|----|\n",
    "|A|Obter materiais|START|2|4|18|300|450|600|\n",
    "|B|Obter mão de obra|START|5|9|19|480|600|720|\n",
    "|C|Escavar|START|4|10|28|3750|4500|5250|\n",
    "|D|Colocar fundação|C|8|13|36|8400|9600|10800|\n",
    "|E|Construir Estrutura|B,D|44|60|100|300000|312000|322500|\n",
    "|F|Instalação Hidráulica|E|30|40|74|37650|39600|41400|\n",
    "|G|Instalação Elétrica|E|9|20|43|10500|11550|12600|\n",
    "|H|Acabamento Interior|F,G|24|30|48|36000|38400|40800|\n",
    "|I|Acabamento Exterior|F|28|29|96|48750|52500|56250|\n",
    "|J|Limpeza Local|H,I|10|10|12|360|450|540|\n",
    "Tabela 3 - Atividades"
   ]
  },
  {
   "cell_type": "code",
   "execution_count": 10,
   "metadata": {},
   "outputs": [
    {
     "data": {
      "image/png": "[encoded data removed]",
      "text/plain": [
       "Plot with title \"\""
      ]
     },
     "metadata": {},
     "output_type": "display_data"
    }
   ],
   "source": [
    "g2 <- graph( edges=c('start','a', 'start','b', 'start', 'c','c','d','b','e',\n",
    "                     'd','e','e','f','e','g','f','h','g','h','f','i','h',\n",
    "                     'j','i','j') )\n",
    "plot(g2)   \n",
    " "
   ]
  },
  {
   "cell_type": "code",
   "execution_count": 11,
   "metadata": {},
   "outputs": [
    {
     "data": {
      "image/png": "[encoded data removed]",
      "text/plain": [
       "Plot with title \"\""
      ]
     },
     "metadata": {},
     "output_type": "display_data"
    }
   ],
   "source": [
    "g2 <- graph( edges=c('start','a', 'start','b', 'a', 'c','b','c','c','d',\n",
    "                     'b','e','d','e','e','f','e','g','f','h','g','h','f',\n",
    "                     'i','h','j','i','j','j','end') )\n",
    "plot(g2)   \n",
    " "
   ]
  },
  {
   "cell_type": "markdown",
   "metadata": {},
   "source": [
    "• Obtenha as aproximações para o risco de custo e de prazo da obra  "
   ]
  },
  {
   "cell_type": "code",
   "execution_count": 12,
   "metadata": {},
   "outputs": [
    {
     "data": {
      "text/html": [
       "469074.644877677"
      ],
      "text/latex": [
       "469074.644877677"
      ],
      "text/markdown": [
       "469074.644877677"
      ],
      "text/plain": [
       "[1] 469074.6"
      ]
     },
     "metadata": {},
     "output_type": "display_data"
    },
    {
     "data": {
      "image/png": "[encoded data removed]",
      "text/plain": [
       "Plot with title \"density.default(x = custo)\""
      ]
     },
     "metadata": {},
     "output_type": "display_data"
    }
   ],
   "source": [
    "custo <- (rtriangle(10000,300,600,450)+ \n",
    "          rtriangle(10000,480,720,600)+ \n",
    "          rtriangle(10000,3750,5250,4500)+ \n",
    "          rtriangle(10000,8400,10800,9600)+ \n",
    "          rtriangle(10000,300000,322500,312000)+ \n",
    "          rtriangle(10000,37650,41400,39600)+ \n",
    "          rtriangle(10000,10500,12600,11550)+ \n",
    "          rtriangle(10000,36000,40800,38400)+ \n",
    "          rtriangle(10000,48750,56250,52500)+ \n",
    "          rtriangle(10000,360,540,450))\n",
    "mean(custo)\n",
    "plot(density(custo), col=\"red\")"
   ]
  },
  {
   "cell_type": "code",
   "execution_count": 13,
   "metadata": {},
   "outputs": [
    {
     "name": "stdout",
     "output_type": "stream",
     "text": [
      "[1] \"-start-B-E-F-H-J\"\n",
      "[1] \"-start-B-E-F-I-J\"\n",
      "[1] \"-start-C-D-E-F-I-J\"\n",
      "[1] \"-start-B-E-F-I-J\"\n",
      "[1] \"-start-C-D-E-F-I-J\"\n",
      "[1] \"-start-C-D-E-F-I-J\"\n",
      "[1] \"-start-C-D-E-F-I-J\"\n",
      "[1] \"-start-C-D-E-F-I-J\"\n",
      "[1] \"-start-C-D-E-F-I-J\"\n"
     ]
    },
    {
     "data": {
      "text/html": [
       "213.00974275867"
      ],
      "text/latex": [
       "213.00974275867"
      ],
      "text/markdown": [
       "213.00974275867"
      ],
      "text/plain": [
       "[1] 213.0097"
      ]
     },
     "metadata": {},
     "output_type": "display_data"
    }
   ],
   "source": [
    "resposta_final <- c()\n",
    "for( h in 1:1000){\n",
    "precedencia <-  list(c(\"start\",\"A\",rtriangle(1,2,18,4)),\n",
    "                     c(\"start\",\"B\",rtriangle(1,5,19,9)),\n",
    "                     c(\"start\",\"C\",rtriangle(1,4,28,10)),\n",
    "                     c(\"C\",\"D\",rtriangle(1,8,36,13)),\n",
    "                     c(\"B\",\"E\",rtriangle(1,44,100,60)),\n",
    "                     c(\"D\",\"E\",rtriangle(1,44,100,60)),\n",
    "                     c(\"E\",\"F\",rtriangle(1,30,74,40)),\n",
    "                     c(\"E\",\"G\",rtriangle(1,9,43,20)),\n",
    "                     c(\"F\",\"H\",rtriangle(1,24,48,30)),\n",
    "                     c(\"G\",\"H\",rtriangle(1,24,48,30)),\n",
    "                     c(\"F\",\"I\",rtriangle(1,28,96,29)),\n",
    "                     c(\"H\",\"J\",rtriangle(1,10,12,10)),\n",
    "                     c(\"I\",\"J\",rtriangle(1,10,12,10)),                     \n",
    "                     c(\"J\",\"end\",0),\n",
    "                     c(\"J\",\"end\",0))\n",
    "simula(precedencia)\n",
    "}\n",
    "mean(resposta_final)"
   ]
  },
  {
   "cell_type": "code",
   "execution_count": 14,
   "metadata": {},
   "outputs": [
    {
     "data": {
      "image/png": "[encoded data removed]",
      "text/plain": [
       "Plot with title \"density.default(x = resposta_final)\""
      ]
     },
     "metadata": {},
     "output_type": "display_data"
    }
   ],
   "source": [
    "plot(density(resposta_final), col=\"red\")"
   ]
  },
  {
   "cell_type": "code",
   "execution_count": 15,
   "metadata": {},
   "outputs": [
    {
     "name": "stdout",
     "output_type": "stream",
     "text": [
      "[1] \"-start-B-C-D-E-F-I-J\"\n",
      "[1] \"-start-B-C-D-E-F-I-J\"\n",
      "[1] \"-start-A-C-D-E-F-I-J\"\n",
      "[1] \"-start-B-C-D-E-F-I-J\"\n",
      "[1] \"-start-B-C-D-E-F-I-J\"\n"
     ]
    },
    {
     "data": {
      "text/html": [
       "224.77359454236"
      ],
      "text/latex": [
       "224.77359454236"
      ],
      "text/markdown": [
       "224.77359454236"
      ],
      "text/plain": [
       "[1] 224.7736"
      ]
     },
     "metadata": {},
     "output_type": "display_data"
    }
   ],
   "source": [
    "resposta_final <- c()\n",
    "for( h in 1:1000){\n",
    "precedencia <-  list(c(\"start\",\"A\",rtriangle(1,2,18,4)),\n",
    "                     c(\"start\",\"B\",rtriangle(1,5,19,9)),\n",
    "                     c(\"B\",\"C\",rtriangle(1,4,28,10)),\n",
    "                     c(\"A\",\"C\",rtriangle(1,4,28,10)),\n",
    "                     c(\"C\",\"D\",rtriangle(1,8,36,13)),\n",
    "                     c(\"B\",\"E\",rtriangle(1,44,100,60)),\n",
    "                     c(\"D\",\"E\",rtriangle(1,44,100,60)),\n",
    "                     c(\"E\",\"F\",rtriangle(1,30,74,40)),\n",
    "                     c(\"E\",\"G\",rtriangle(1,9,43,20)),\n",
    "                     c(\"F\",\"H\",rtriangle(1,24,48,30)),\n",
    "                     c(\"G\",\"H\",rtriangle(1,24,48,30)),\n",
    "                     c(\"F\",\"I\",rtriangle(1,28,96,29)),\n",
    "                     c(\"H\",\"J\",rtriangle(1,10,12,10)),\n",
    "                     c(\"I\",\"J\",rtriangle(1,10,12,10)),                     \n",
    "                     c(\"J\",\"end\",0),\n",
    "                     c(\"J\",\"end\",0))\n",
    "simula(precedencia)\n",
    "}\n",
    "mean(resposta_final)"
   ]
  },
  {
   "cell_type": "markdown",
   "metadata": {},
   "source": [
    "• Obtenha uma estimativa das probabilidades das atividades pertencerem ao caminho crítico  "
   ]
  },
  {
   "cell_type": "code",
   "execution_count": 16,
   "metadata": {},
   "outputs": [
    {
     "name": "stdout",
     "output_type": "stream",
     "text": [
      "[1] \"-start-A-C-D-E-F-I-J\"\n"
     ]
    },
    {
     "data": {
      "text/html": [
       "224.807260112853"
      ],
      "text/latex": [
       "224.807260112853"
      ],
      "text/markdown": [
       "224.807260112853"
      ],
      "text/plain": [
       "[1] 224.8073"
      ]
     },
     "metadata": {},
     "output_type": "display_data"
    },
    {
     "data": {
      "image/png": "[encoded data removed]",
      "text/plain": [
       "plot without title"
      ]
     },
     "metadata": {},
     "output_type": "display_data"
    }
   ],
   "source": [
    "resposta_final <- c()\n",
    "caminho <- c()\n",
    "for( h in 1:10000){\n",
    "precedencia <-  list(c(\"start\",\"A\",rtriangle(1,2,18,4)),\n",
    "                     c(\"start\",\"B\",rtriangle(1,5,19,9)),\n",
    "                     c(\"B\",\"C\",rtriangle(1,4,28,10)),\n",
    "                     c(\"A\",\"C\",rtriangle(1,4,28,10)),\n",
    "                     c(\"C\",\"D\",rtriangle(1,8,36,13)),\n",
    "                     c(\"B\",\"E\",rtriangle(1,44,100,60)),\n",
    "                     c(\"D\",\"E\",rtriangle(1,44,100,60)),\n",
    "                     c(\"E\",\"F\",rtriangle(1,30,74,40)),\n",
    "                     c(\"E\",\"G\",rtriangle(1,9,43,20)),\n",
    "                     c(\"F\",\"H\",rtriangle(1,24,48,30)),\n",
    "                     c(\"G\",\"H\",rtriangle(1,24,48,30)),\n",
    "                     c(\"F\",\"I\",rtriangle(1,28,96,29)),\n",
    "                     c(\"H\",\"J\",rtriangle(1,10,12,10)),\n",
    "                     c(\"I\",\"J\",rtriangle(1,10,12,10)),                     \n",
    "                     c(\"J\",\"end\",0),\n",
    "                     c(\"J\",\"end\",0))\n",
    "simula(precedencia)\n",
    "caminho <<- c(caminho,ant)    \n",
    "}\n",
    "mean(resposta_final)\n",
    "barplot(table(caminho))"
   ]
  },
  {
   "cell_type": "markdown",
   "metadata": {},
   "source": [
    "• Faça um grafico de dispersão mostrando a correlação entre prazo e custo da obra.  "
   ]
  },
  {
   "cell_type": "code",
   "execution_count": 17,
   "metadata": {},
   "outputs": [
    {
     "data": {
      "text/html": [
       "-0.00639471054887277"
      ],
      "text/latex": [
       "-0.00639471054887277"
      ],
      "text/markdown": [
       "-0.00639471054887277"
      ],
      "text/plain": [
       "[1] -0.006394711"
      ]
     },
     "metadata": {},
     "output_type": "display_data"
    }
   ],
   "source": [
    "cor(custo,resposta_final)"
   ]
  },
  {
   "cell_type": "markdown",
   "metadata": {},
   "source": [
    "A correlação entre custo e prazo é praticamente nula, indicando que, neste modelo, uma variação no prazo não contribui para a variação do custo."
   ]
  },
  {
   "cell_type": "code",
   "execution_count": 18,
   "metadata": {},
   "outputs": [
    {
     "data": {
      "image/png": "[encoded data removed]",
      "text/plain": [
       "Plot with title \"plot\""
      ]
     },
     "metadata": {},
     "output_type": "display_data"
    }
   ],
   "source": [
    "plot(custo,resposta_final, main=\"plot\")"
   ]
  },
  {
   "cell_type": "code",
   "execution_count": 19,
   "metadata": {},
   "outputs": [
    {
     "data": {},
     "metadata": {},
     "output_type": "display_data"
    },
    {
     "data": {
      "image/png": "[encoded data removed]",
      "text/plain": [
       "plot without title"
      ]
     },
     "metadata": {},
     "output_type": "display_data"
    }
   ],
   "source": [
    "df <- data.frame(custo,resposta_final)\n",
    "qplot(custo,resposta_final,data=df, geom='bin2d')"
   ]
  },
  {
   "cell_type": "markdown",
   "metadata": {},
   "source": [
    "3- Dado a rede de projeto mostrada na figura 1, aplique a técnica de MC para obter um agendamento que proporciona uma boa aproximação para o máximo NPV a ser obtido pelo projeto. O número na parte de cima do circulo representando uma atividade é sua duração e o abaixo é o seu NPV trazido para o término da atividade. Assuma:  \n",
    "• que a data limite δn = 44  \n",
    "• valor presente é continuamente descontado a uma taxa r = 0.01  \n",
    "Passos:  \n",
    "• gerar a relação (atividade, est, lst)  \n",
    "• implementar uma função que sorteia um cronograma  \n",
    "• implementar uma função que verifica se o cronograma é valido  \n",
    "• avaliar a qualidade da aproximação para a solução ótima  "
   ]
  },
  {
   "cell_type": "markdown",
   "metadata": {},
   "source": [
    "|Atividade|Predecessor|Duração|NPV|\n",
    "|---------|-----------|-------|---|\n",
    "|1|START|0|0|\n",
    "|2|1|6|-140|\n",
    "|3|1|5|318|\n",
    "|4|1|3|312|\n",
    "|5|3|1|-329|\n",
    "|6|3|6|153|\n",
    "|7|3|2|193|\n",
    "|8|4,7|1|361|\n",
    "|9|2|4|24|\n",
    "|10|5|3|33|\n",
    "|11|7|2|387|\n",
    "|12|6,10,11|3|-386|\n",
    "|13|8,12|5|171|\n",
    "|14|9,13|0|0|"
   ]
  },
  {
   "cell_type": "code",
   "execution_count": 20,
   "metadata": {},
   "outputs": [
    {
     "data": {
      "image/png": "[encoded data removed]",
      "text/plain": [
       "Plot with title \"\""
      ]
     },
     "metadata": {},
     "output_type": "display_data"
    }
   ],
   "source": [
    "g3 <- graph(edges=c('start=1',2,'start=1',3,'start=1',4,3,5,3,6,3,7,\n",
    "                     4,8,7,8,2,9,5,10,7,11,\n",
    "                     6,12,10,12,11,12,8,13,12,13,'end=14',13,9,'end=14') )\n",
    "plot(g3)   "
   ]
  },
  {
   "cell_type": "code",
   "execution_count": 21,
   "metadata": {},
   "outputs": [
    {
     "data": {
      "text/html": [
       "<ol class=list-inline>\n",
       "\t<li>0</li>\n",
       "\t<li>0</li>\n",
       "\t<li>0</li>\n",
       "\t<li>0</li>\n",
       "\t<li>5</li>\n",
       "\t<li>5</li>\n",
       "\t<li>5</li>\n",
       "\t<li>7</li>\n",
       "\t<li>6</li>\n",
       "\t<li>6</li>\n",
       "\t<li>7</li>\n",
       "\t<li>11</li>\n",
       "\t<li>14</li>\n",
       "\t<li>19</li>\n",
       "</ol>\n"
      ],
      "text/latex": [
       "\\begin{enumerate*}\n",
       "\\item 0\n",
       "\\item 0\n",
       "\\item 0\n",
       "\\item 0\n",
       "\\item 5\n",
       "\\item 5\n",
       "\\item 5\n",
       "\\item 7\n",
       "\\item 6\n",
       "\\item 6\n",
       "\\item 7\n",
       "\\item 11\n",
       "\\item 14\n",
       "\\item 19\n",
       "\\end{enumerate*}\n"
      ],
      "text/markdown": [
       "1. 0\n",
       "2. 0\n",
       "3. 0\n",
       "4. 0\n",
       "5. 5\n",
       "6. 5\n",
       "7. 5\n",
       "8. 7\n",
       "9. 6\n",
       "10. 6\n",
       "11. 7\n",
       "12. 11\n",
       "13. 14\n",
       "14. 19\n",
       "\n",
       "\n"
      ],
      "text/plain": [
       " [1]  0  0  0  0  5  5  5  7  6  6  7 11 14 19"
      ]
     },
     "metadata": {},
     "output_type": "display_data"
    },
    {
     "data": {
      "text/html": [
       "<ol class=list-inline>\n",
       "\t<li>25</li>\n",
       "\t<li>34</li>\n",
       "\t<li>25</li>\n",
       "\t<li>35</li>\n",
       "\t<li>32</li>\n",
       "\t<li>30</li>\n",
       "\t<li>32</li>\n",
       "\t<li>38</li>\n",
       "\t<li>40</li>\n",
       "\t<li>33</li>\n",
       "\t<li>34</li>\n",
       "\t<li>36</li>\n",
       "\t<li>39</li>\n",
       "\t<li>44</li>\n",
       "</ol>\n"
      ],
      "text/latex": [
       "\\begin{enumerate*}\n",
       "\\item 25\n",
       "\\item 34\n",
       "\\item 25\n",
       "\\item 35\n",
       "\\item 32\n",
       "\\item 30\n",
       "\\item 32\n",
       "\\item 38\n",
       "\\item 40\n",
       "\\item 33\n",
       "\\item 34\n",
       "\\item 36\n",
       "\\item 39\n",
       "\\item 44\n",
       "\\end{enumerate*}\n"
      ],
      "text/markdown": [
       "1. 25\n",
       "2. 34\n",
       "3. 25\n",
       "4. 35\n",
       "5. 32\n",
       "6. 30\n",
       "7. 32\n",
       "8. 38\n",
       "9. 40\n",
       "10. 33\n",
       "11. 34\n",
       "12. 36\n",
       "13. 39\n",
       "14. 44\n",
       "\n",
       "\n"
      ],
      "text/plain": [
       " [1] 25 34 25 35 32 30 32 38 40 33 34 36 39 44"
      ]
     },
     "metadata": {},
     "output_type": "display_data"
    }
   ],
   "source": [
    "n <- 14\n",
    "duracao_max <- 44\n",
    "duracao <- c(0,6,5,3,1,6,2,1,4,3,2,3,5,0)\n",
    "valor <- c(0,-140,318,312,-329,153,193,361,24,33,387,-386,171,0)\n",
    "precedencia <- list(c(1,2),c(1,3),c(1,4),c(2,9),c(3,5),c(3,6),c(3,7),\n",
    "                    c(4,8),c(5,10),c(6,12),c(7,8),c(7,11),c(8,13),\n",
    "                    c(9,14),c(10,12),c(11,12),c(12,13),c(13,14))\n",
    "z <- length(precedencia)\n",
    "inicio_cedo <- rep(0,14)\n",
    "inicio_tarde <- rep(duracao_max,14) \n",
    "for(i in 1:n){\n",
    "    for(j in 1:z){\n",
    "        if( i == precedencia[[j]][2]){\n",
    "            item <- precedencia[[j]][1]\n",
    "            if(inicio_cedo[[i]] <= inicio_cedo[[item]] + duracao[[item]]){\n",
    "                inicio_cedo[[i]] <- inicio_cedo[[item]] + duracao[[item]]\n",
    "            }\n",
    "        }\n",
    "    \n",
    "    }\n",
    "}\n",
    "\n",
    "for(i in n:1){\n",
    "    for(j in 1:z){\n",
    "        if( i == precedencia[[j]][1]){\n",
    "            item <- precedencia[[j]][2]\n",
    "            if(inicio_tarde[[i]] >= inicio_tarde[[item]] - duracao[[i]]){\n",
    "                inicio_tarde[[i]] <- inicio_tarde[[item]] - duracao[[i]]\n",
    "            }\n",
    "        }\n",
    "    \n",
    "    }\n",
    "}\n",
    "\n",
    "inicio_cedo \n",
    "inicio_tarde\n"
   ]
  },
  {
   "cell_type": "code",
   "execution_count": 22,
   "metadata": {},
   "outputs": [],
   "source": [
    "valida <- function(inicio, precedencia, duracao, prazo){\n",
    "    z <- length(precedencia)\n",
    "    n <- length(inicio)\n",
    "    for(i in 1:n){\n",
    "        if(inicio[[i]] + duracao[[i]] > prazo) {\n",
    "            return(0)\n",
    "        }\n",
    "    }\n",
    "    \n",
    "    for(i in 1:z){\n",
    "        if(inicio[[precedencia[[i]][2]]] < inicio[[precedencia[[i]][1]]] + \n",
    "           duracao[[precedencia[[i]][1]]]){\n",
    "            return(0)\n",
    "        }\n",
    "    }\n",
    "    return(1)\n",
    "}"
   ]
  },
  {
   "cell_type": "code",
   "execution_count": 23,
   "metadata": {},
   "outputs": [],
   "source": [
    "npv <- function(inicio, valor,taxa){\n",
    "    npv0 <- 0\n",
    "    n <- length(inicio)\n",
    "    \n",
    "    for(i in 1:n){\n",
    "        npv0 <- npv0 + valor[[i]] * (1 - taxa)^(inicio[[i]] + duracao[[i]])\n",
    "    }\n",
    "    npv0\n",
    "}"
   ]
  },
  {
   "cell_type": "code",
   "execution_count": 24,
   "metadata": {},
   "outputs": [],
   "source": [
    "adia <- function(inicio,duracao,precedencia){\n",
    "    n <- length(inicio)\n",
    "    z <- length(precedencia)\n",
    "    for(j in 1:z){\n",
    "        if( inicio[[precedencia[[j]][1]]] + \n",
    "           duracao[[precedencia[[j]][1]]] >  inicio[[precedencia[[j]][2]]]){\n",
    "            inicio[[precedencia[[j]][2]]] <- inicio[[precedencia[[j]][1]]] +\n",
    "            duracao[[precedencia[[j]][1]]]\n",
    "            \n",
    "            if(valida(inicio, precedencia, duracao, duracao_max)){\n",
    "                \n",
    "                return(inicio)  \n",
    "            }   \n",
    "        }\n",
    "    }\n",
    "    if(valida(inicio, precedencia, duracao, duracao_max)){\n",
    "        return(inicio)  \n",
    "    }\n",
    "}"
   ]
  },
  {
   "cell_type": "code",
   "execution_count": 25,
   "metadata": {
    "scrolled": false
   },
   "outputs": [
    {
     "name": "stdout",
     "output_type": "stream",
     "text": [
      " [1]    0    0    0    0    5    5    5    7    6    6    7   11   14   19 1025\n",
      " [1]    1    1    1    1    6    6    6    8    7    7    8   12   15   20 1015\n",
      " [1]    2    2    2    2    7    7    7    9    8    8    9   13   16   21 1005\n",
      " [1]   3   3   3   3   8   8   8  10   9   9  10  14  17  22 994\n",
      " [1]   4   4   4   4   9   9   9  11  10  10  11  15  18  23 985\n",
      " [1]   5   5   5   5  10  10  10  12  11  11  12  16  19  24 975\n",
      " [1]   6   6   6   6  11  11  11  13  12  12  13  17  20  25 965\n",
      " [1]   7   7   7   7  12  12  12  14  13  13  14  18  21  26 955\n",
      " [1]   8   8   8   8  13  13  13  15  14  14  15  19  22  27 946\n",
      " [1]   9   9   9   9  14  14  14  16  15  15  16  20  23  28 936\n",
      " [1]  10  10  10  10  15  15  15  17  16  16  17  21  24  29 927\n",
      " [1]  11  11  11  11  16  16  16  18  17  17  18  22  25  30 918\n",
      " [1]  12  12  12  12  17  17  17  19  18  18  19  23  26  31 908\n",
      " [1]  13  13  13  13  18  18  18  20  19  19  20  24  27  32 899\n",
      " [1]  14  14  14  14  19  19  19  21  20  20  21  25  28  33 890\n",
      " [1]  15  15  15  15  20  20  20  22  21  21  22  26  29  34 881\n",
      " [1]  16  16  16  16  21  21  21  23  22  22  23  27  30  35 873\n",
      " [1]  17  17  17  17  22  22  22  24  23  23  24  28  31  36 864\n",
      " [1]  18  18  18  18  23  23  23  25  24  24  25  29  32  37 855\n",
      " [1]  19  19  19  19  24  24  24  26  25  25  26  30  33  38 847\n",
      " [1]  20  20  20  20  25  25  25  27  26  26  27  31  34  39 838\n",
      " [1]  21  21  21  21  26  26  26  28  27  27  28  32  35  40 830\n",
      " [1]  22  22  22  22  27  27  27  29  28  28  29  33  36  41 822\n",
      " [1]  23  23  23  23  28  28  28  30  29  29  30  34  37  42 813\n",
      " [1]  24  24  24  24  29  29  29  31  30  30  31  35  38  43 805\n",
      " [1]  25  25  25  25  30  30  30  32  31  31  32  36  39  44 797\n",
      " [1]    0    0    0    0    5    5    5    7    6    6    7   11   14   19 1025\n",
      " [1]    0    1    0    0    5    5    5    7    7    6    7   11   14   19 1026\n",
      " [1]    0    2    0    0    5    5    5    7    8    6    7   11   14   19 1027\n",
      " [1]    0    3    0    0    5    5    5    7    9    6    7   11   14   19 1028\n",
      " [1]    0    4    0    0    5    5    5    7   10    6    7   11   14   19 1029\n",
      " [1]    0    5    0    0    5    5    5    7   11    6    7   11   14   19 1030\n",
      " [1]    0    6    0    0    5    5    5    7   12    6    7   11   14   19 1031\n",
      " [1]    0    7    0    0    5    5    5    7   13    6    7   11   14   19 1032\n",
      " [1]    0    8    0    0    5    5    5    7   14    6    7   11   14   19 1033\n",
      " [1]    0    9    0    0    5    5    5    7   15    6    7   11   14   19 1034\n",
      " [1]    0   10    0    0    5    5    5    7   16    6    7   11   14   20 1035\n",
      " [1]    0   11    0    0    5    5    5    7   17    6    7   11   14   21 1036\n",
      " [1]    0   12    0    0    5    5    5    7   18    6    7   11   14   22 1037\n",
      " [1]    0   13    0    0    5    5    5    7   19    6    7   11   14   23 1038\n",
      " [1]    0   14    0    0    5    5    5    7   20    6    7   11   14   24 1039\n",
      " [1]    0   15    0    0    5    5    5    7   21    6    7   11   14   25 1040\n",
      " [1]    0   16    0    0    5    5    5    7   22    6    7   11   14   26 1041\n",
      " [1]    0   17    0    0    5    5    5    7   23    6    7   11   14   27 1042\n",
      " [1]    0   18    0    0    5    5    5    7   24    6    7   11   14   28 1043\n",
      " [1]    0   19    0    0    5    5    5    7   25    6    7   11   14   29 1044\n",
      " [1]    0   20    0    0    5    5    5    7   26    6    7   11   14   30 1045\n",
      " [1]    0   21    0    0    5    5    5    7   27    6    7   11   14   31 1046\n",
      " [1]    0   22    0    0    5    5    5    7   28    6    7   11   14   32 1047\n",
      " [1]    0   23    0    0    5    5    5    7   29    6    7   11   14   33 1048\n",
      " [1]    0   24    0    0    5    5    5    7   30    6    7   11   14   34 1048\n",
      " [1]    0   25    0    0    5    5    5    7   31    6    7   11   14   35 1049\n",
      " [1]    0   26    0    0    5    5    5    7   32    6    7   11   14   36 1050\n",
      " [1]    0   27    0    0    5    5    5    7   33    6    7   11   14   37 1051\n",
      " [1]    0   28    0    0    5    5    5    7   34    6    7   11   14   38 1052\n",
      " [1]    0   29    0    0    5    5    5    7   35    6    7   11   14   39 1053\n",
      " [1]    0   30    0    0    5    5    5    7   36    6    7   11   14   40 1054\n",
      " [1]    0   31    0    0    5    5    5    7   37    6    7   11   14   41 1054\n",
      " [1]    0   32    0    0    5    5    5    7   38    6    7   11   14   42 1055\n",
      " [1]    0   33    0    0    5    5    5    7   39    6    7   11   14   43 1056\n",
      " [1]    0   34    0    0    5    5    5    7   40    6    7   11   14   44 1057\n",
      " [1]    0   34    0    0    5    5    5    7   40    6    7   11   14   44 1057\n",
      " [1]    0   34    1    0    6    6    6    8   40    7    8   12   15   44 1048\n",
      " [1]    0   34    2    0    7    7    7    9   40    8    9   13   16   44 1040\n",
      " [1]    0   34    3    0    8    8    8   10   40    9   10   14   17   44 1032\n",
      " [1]    0   34    4    0    9    9    9   11   40   10   11   15   18   44 1024\n",
      " [1]    0   34    5    0   10   10   10   12   40   11   12   16   19   44 1016\n",
      " [1]    0   34    6    0   11   11   11   13   40   12   13   17   20   44 1008\n",
      " [1]    0   34    7    0   12   12   12   14   40   13   14   18   21   44 1000\n",
      " [1]   0  34   8   0  13  13  13  15  40  14  15  19  22  44 992\n",
      " [1]   0  34   9   0  14  14  14  16  40  15  16  20  23  44 985\n",
      " [1]   0  34  10   0  15  15  15  17  40  16  17  21  24  44 977\n",
      " [1]   0  34  11   0  16  16  16  18  40  17  18  22  25  44 970\n",
      " [1]   0  34  12   0  17  17  17  19  40  18  19  23  26  44 962\n",
      " [1]   0  34  13   0  18  18  18  20  40  19  20  24  27  44 955\n",
      " [1]   0  34  14   0  19  19  19  21  40  20  21  25  28  44 948\n",
      " [1]   0  34  15   0  20  20  20  22  40  21  22  26  29  44 940\n",
      " [1]   0  34  16   0  21  21  21  23  40  22  23  27  30  44 933\n",
      " [1]   0  34  17   0  22  22  22  24  40  23  24  28  31  44 926\n",
      " [1]   0  34  18   0  23  23  23  25  40  24  25  29  32  44 919\n",
      " [1]   0  34  19   0  24  24  24  26  40  25  26  30  33  44 912\n",
      " [1]   0  34  20   0  25  25  25  27  40  26  27  31  34  44 905\n",
      " [1]   0  34  21   0  26  26  26  28  40  27  28  32  35  44 898\n",
      " [1]   0  34  22   0  27  27  27  29  40  28  29  33  36  44 892\n",
      " [1]   0  34  23   0  28  28  28  30  40  29  30  34  37  44 885\n",
      " [1]   0  34  24   0  29  29  29  31  40  30  31  35  38  44 878\n",
      " [1]   0  34  25   0  30  30  30  32  40  31  32  36  39  44 872\n",
      " [1]    0   34    0    0    5    5    5    7   40    6    7   11   14   44 1057\n",
      " [1]    0   34    0    1    5    5    5    7   40    6    7   11   14   44 1054\n",
      " [1]    0   34    0    2    5    5    5    7   40    6    7   11   14   44 1051\n",
      " [1]    0   34    0    3    5    5    5    7   40    6    7   11   14   44 1048\n",
      " [1]    0   34    0    4    5    5    5    7   40    6    7   11   14   44 1045\n",
      " [1]    0   34    0    5    5    5    5    8   40    6    7   11   14   44 1039\n",
      " [1]    0   34    0    6    5    5    5    9   40    6    7   11   14   44 1032\n",
      " [1]    0   34    0    7    5    5    5   10   40    6    7   11   14   44 1026\n",
      " [1]    0   34    0    8    5    5    5   11   40    6    7   11   14   44 1020\n",
      " [1]    0   34    0    9    5    5    5   12   40    6    7   11   14   44 1014\n",
      " [1]    0   34    0   10    5    5    5   13   40    6    7   11   14   44 1008\n",
      " [1]    0   34    0   11    5    5    5   14   40    6    7   11   15   44 1001\n",
      " [1]   0  34   0  12   5   5   5  15  40   6   7  11  16  44 994\n",
      " [1]   0  34   0  13   5   5   5  16  40   6   7  11  17  44 987\n",
      " [1]   0  34   0  14   5   5   5  17  40   6   7  11  18  44 980\n",
      " [1]   0  34   0  15   5   5   5  18  40   6   7  11  19  44 973\n",
      " [1]   0  34   0  16   5   5   5  19  40   6   7  11  20  44 966\n",
      " [1]   0  34   0  17   5   5   5  20  40   6   7  11  21  44 959\n",
      " [1]   0  34   0  18   5   5   5  21  40   6   7  11  22  44 952\n",
      " [1]   0  34   0  19   5   5   5  22  40   6   7  11  23  44 945\n",
      " [1]   0  34   0  20   5   5   5  23  40   6   7  11  24  44 939\n",
      " [1]   0  34   0  21   5   5   5  24  40   6   7  11  25  44 932\n",
      " [1]   0  34   0  22   5   5   5  25  40   6   7  11  26  44 926\n",
      " [1]   0  34   0  23   5   5   5  26  40   6   7  11  27  44 919\n",
      " [1]   0  34   0  24   5   5   5  27  40   6   7  11  28  44 913\n",
      " [1]   0  34   0  25   5   5   5  28  40   6   7  11  29  44 906\n",
      " [1]   0  34   0  26   5   5   5  29  40   6   7  11  30  44 900\n",
      " [1]   0  34   0  27   5   5   5  30  40   6   7  11  31  44 894\n",
      " [1]   0  34   0  28   5   5   5  31  40   6   7  11  32  44 888\n",
      " [1]   0  34   0  29   5   5   5  32  40   6   7  11  33  44 882\n",
      " [1]   0  34   0  30   5   5   5  33  40   6   7  11  34  44 876\n",
      " [1]   0  34   0  31   5   5   5  34  40   6   7  11  35  44 870\n",
      " [1]   0  34   0  32   5   5   5  35  40   6   7  11  36  44 864\n",
      " [1]   0  34   0  33   5   5   5  36  40   6   7  11  37  44 858\n",
      " [1]   0  34   0  34   5   5   5  37  40   6   7  11  38  44 852\n",
      " [1]   0  34   0  35   5   5   5  38  40   6   7  11  39  44 846\n",
      " [1]    0   34    0    0    5    5    5    7   40    6    7   11   14   44 1057\n",
      " [1]    0   34    0    0    6    5    5    7   40    7    7   11   14   44 1060\n",
      " [1]    0   34    0    0    7    5    5    7   40    8    7   11   14   44 1062\n",
      " [1]    0   34    0    0    8    5    5    7   40    9    7   12   15   44 1067\n",
      " [1]    0   34    0    0    9    5    5    7   40   10    7   13   16   44 1072\n",
      " [1]    0   34    0    0   10    5    5    7   40   11    7   14   17   44 1076\n",
      " [1]    0   34    0    0   11    5    5    7   40   12    7   15   18   44 1081\n",
      " [1]    0   34    0    0   12    5    5    7   40   13    7   16   19   44 1085\n",
      " [1]    0   34    0    0   13    5    5    7   40   14    7   17   20   44 1090\n",
      " [1]    0   34    0    0   14    5    5    7   40   15    7   18   21   44 1094\n",
      " [1]    0   34    0    0   15    5    5    7   40   16    7   19   22   44 1098\n",
      " [1]    0   34    0    0   16    5    5    7   40   17    7   20   23   44 1103\n",
      " [1]    0   34    0    0   17    5    5    7   40   18    7   21   24   44 1107\n",
      " [1]    0   34    0    0   18    5    5    7   40   19    7   22   25   44 1111\n",
      " [1]    0   34    0    0   19    5    5    7   40   20    7   23   26   44 1116\n",
      " [1]    0   34    0    0   20    5    5    7   40   21    7   24   27   44 1120\n",
      " [1]    0   34    0    0   21    5    5    7   40   22    7   25   28   44 1124\n",
      " [1]    0   34    0    0   22    5    5    7   40   23    7   26   29   44 1128\n",
      " [1]    0   34    0    0   23    5    5    7   40   24    7   27   30   44 1132\n",
      " [1]    0   34    0    0   24    5    5    7   40   25    7   28   31   44 1136\n",
      " [1]    0   34    0    0   25    5    5    7   40   26    7   29   32   44 1140\n",
      " [1]    0   34    0    0   26    5    5    7   40   27    7   30   33   44 1144\n",
      " [1]    0   34    0    0   27    5    5    7   40   28    7   31   34   44 1148\n",
      " [1]    0   34    0    0   28    5    5    7   40   29    7   32   35   44 1151\n",
      " [1]    0   34    0    0   29    5    5    7   40   30    7   33   36   44 1155\n",
      " [1]    0   34    0    0   30    5    5    7   40   31    7   34   37   44 1159\n",
      " [1]    0   34    0    0   31    5    5    7   40   32    7   35   38   44 1163\n",
      " [1]    0   34    0    0   32    5    5    7   40   33    7   36   39   44 1166\n",
      " [1]    0   34    0    0   32    5    5    7   40   33    7   36   39   44 1166\n",
      " [1]    0   34    0    0   32    6    5    7   40   33    7   36   39   44 1165\n",
      " [1]    0   34    0    0   32    7    5    7   40   33    7   36   39   44 1164\n",
      " [1]    0   34    0    0   32    8    5    7   40   33    7   36   39   44 1162\n",
      " [1]    0   34    0    0   32    9    5    7   40   33    7   36   39   44 1161\n",
      " [1]    0   34    0    0   32   10    5    7   40   33    7   36   39   44 1160\n",
      " [1]    0   34    0    0   32   11    5    7   40   33    7   36   39   44 1158\n",
      " [1]    0   34    0    0   32   12    5    7   40   33    7   36   39   44 1157\n",
      " [1]    0   34    0    0   32   13    5    7   40   33    7   36   39   44 1156\n",
      " [1]    0   34    0    0   32   14    5    7   40   33    7   36   39   44 1154\n",
      " [1]    0   34    0    0   32   15    5    7   40   33    7   36   39   44 1153\n",
      " [1]    0   34    0    0   32   16    5    7   40   33    7   36   39   44 1152\n",
      " [1]    0   34    0    0   32   17    5    7   40   33    7   36   39   44 1151\n",
      " [1]    0   34    0    0   32   18    5    7   40   33    7   36   39   44 1150\n",
      " [1]    0   34    0    0   32   19    5    7   40   33    7   36   39   44 1148\n",
      " [1]    0   34    0    0   32   20    5    7   40   33    7   36   39   44 1147\n",
      " [1]    0   34    0    0   32   21    5    7   40   33    7   36   39   44 1146\n",
      " [1]    0   34    0    0   32   22    5    7   40   33    7   36   39   44 1145\n",
      " [1]    0   34    0    0   32   23    5    7   40   33    7   36   39   44 1144\n",
      " [1]    0   34    0    0   32   24    5    7   40   33    7   36   39   44 1143\n",
      " [1]    0   34    0    0   32   25    5    7   40   33    7   36   39   44 1141\n",
      " [1]    0   34    0    0   32   26    5    7   40   33    7   36   39   44 1140\n",
      " [1]    0   34    0    0   32   27    5    7   40   33    7   36   39   44 1139\n",
      " [1]    0   34    0    0   32   28    5    7   40   33    7   36   39   44 1138\n",
      " [1]    0   34    0    0   32   29    5    7   40   33    7   36   39   44 1137\n",
      " [1]    0   34    0    0   32   30    5    7   40   33    7   36   39   44 1136\n",
      " [1]    0   34    0    0   32    5    5    7   40   33    7   36   39   44 1166\n",
      " [1]    0   34    0    0   32    5    6    8   40   33    8   36   39   44 1158\n",
      " [1]    0   34    0    0   32    5    7    9   40   33    9   36   39   44 1149\n",
      " [1]    0   34    0    0   32    5    8   10   40   33   10   36   39   44 1141\n",
      " [1]    0   34    0    0   32    5    9   11   40   33   11   36   39   44 1132\n",
      " [1]    0   34    0    0   32    5   10   12   40   33   12   36   39   44 1124\n",
      " [1]    0   34    0    0   32    5   11   13   40   33   13   36   39   44 1116\n",
      " [1]    0   34    0    0   32    5   12   14   40   33   14   36   39   44 1107\n",
      " [1]    0   34    0    0   32    5   13   15   40   33   15   36   39   44 1099\n",
      " [1]    0   34    0    0   32    5   14   16   40   33   16   36   39   44 1091\n",
      " [1]    0   34    0    0   32    5   15   17   40   33   17   36   39   44 1083\n",
      " [1]    0   34    0    0   32    5   16   18   40   33   18   36   39   44 1076\n",
      " [1]    0   34    0    0   32    5   17   19   40   33   19   36   39   44 1068\n",
      " [1]    0   34    0    0   32    5   18   20   40   33   20   36   39   44 1060\n",
      " [1]    0   34    0    0   32    5   19   21   40   33   21   36   39   44 1053\n",
      " [1]    0   34    0    0   32    5   20   22   40   33   22   36   39   44 1045\n",
      " [1]    0   34    0    0   32    5   21   23   40   33   23   36   39   44 1038\n",
      " [1]    0   34    0    0   32    5   22   24   40   33   24   36   39   44 1030\n",
      " [1]    0   34    0    0   32    5   23   25   40   33   25   36   39   44 1023\n",
      " [1]    0   34    0    0   32    5   24   26   40   33   26   36   39   44 1016\n",
      " [1]    0   34    0    0   32    5   25   27   40   33   27   36   39   44 1009\n",
      " [1]    0   34    0    0   32    5   26   28   40   33   28   36   39   44 1001\n",
      " [1]   0  34   0   0  32   5  27  29  40  33  29  36  39  44 994\n",
      " [1]   0  34   0   0  32   5  28  30  40  33  30  36  39  44 987\n",
      " [1]   0  34   0   0  32   5  29  31  40  33  31  36  39  44 981\n",
      " [1]   0  34   0   0  32   5  30  32  40  33  32  36  39  44 974\n",
      " [1]   0  34   0   0  32   5  31  33  40  33  33  36  39  44 967\n",
      " [1]   0  34   0   0  32   5  32  34  40  33  34  36  39  44 960\n",
      " [1]    0   34    0    0   32    5    5    7   40   33    7   36   39   44 1166\n",
      " [1]    0   34    0    0   32    5    5    8   40   33    7   36   39   44 1163\n",
      " [1]    0   34    0    0   32    5    5    9   40   33    7   36   39   44 1160\n",
      " [1]    0   34    0    0   32    5    5   10   40   33    7   36   39   44 1156\n",
      " [1]    0   34    0    0   32    5    5   11   40   33    7   36   39   44 1153\n",
      " [1]    0   34    0    0   32    5    5   12   40   33    7   36   39   44 1150\n",
      " [1]    0   34    0    0   32    5    5   13   40   33    7   36   39   44 1147\n",
      " [1]    0   34    0    0   32    5    5   14   40   33    7   36   39   44 1144\n",
      " [1]    0   34    0    0   32    5    5   15   40   33    7   36   39   44 1141\n",
      " [1]    0   34    0    0   32    5    5   16   40   33    7   36   39   44 1138\n",
      " [1]    0   34    0    0   32    5    5   17   40   33    7   36   39   44 1134\n",
      " [1]    0   34    0    0   32    5    5   18   40   33    7   36   39   44 1131\n",
      " [1]    0   34    0    0   32    5    5   19   40   33    7   36   39   44 1128\n",
      " [1]    0   34    0    0   32    5    5   20   40   33    7   36   39   44 1126\n",
      " [1]    0   34    0    0   32    5    5   21   40   33    7   36   39   44 1123\n",
      " [1]    0   34    0    0   32    5    5   22   40   33    7   36   39   44 1120\n",
      " [1]    0   34    0    0   32    5    5   23   40   33    7   36   39   44 1117\n",
      " [1]    0   34    0    0   32    5    5   24   40   33    7   36   39   44 1114\n",
      " [1]    0   34    0    0   32    5    5   25   40   33    7   36   39   44 1111\n",
      " [1]    0   34    0    0   32    5    5   26   40   33    7   36   39   44 1108\n",
      " [1]    0   34    0    0   32    5    5   27   40   33    7   36   39   44 1106\n",
      " [1]    0   34    0    0   32    5    5   28   40   33    7   36   39   44 1103\n",
      " [1]    0   34    0    0   32    5    5   29   40   33    7   36   39   44 1100\n",
      " [1]    0   34    0    0   32    5    5   30   40   33    7   36   39   44 1098\n",
      " [1]    0   34    0    0   32    5    5   31   40   33    7   36   39   44 1095\n",
      " [1]    0   34    0    0   32    5    5   32   40   33    7   36   39   44 1092\n",
      " [1]    0   34    0    0   32    5    5   33   40   33    7   36   39   44 1090\n",
      " [1]    0   34    0    0   32    5    5   34   40   33    7   36   39   44 1087\n",
      " [1]    0   34    0    0   32    5    5   35   40   33    7   36   39   44 1085\n",
      " [1]    0   34    0    0   32    5    5   36   40   33    7   36   39   44 1082\n",
      " [1]    0   34    0    0   32    5    5   37   40   33    7   36   39   44 1080\n",
      " [1]    0   34    0    0   32    5    5   38   40   33    7   36   39   44 1077\n",
      " [1]    0   34    0    0   32    5    5    7   40   33    7   36   39   44 1166\n",
      " [1]    0   34    0    0   32    5    5    7   40   33    7   36   39   44 1166\n",
      " [1]    0   34    0    0   32    5    5    7   40   33    7   36   39   44 1166\n",
      " [1]    0   34    0    0   32    5    5    7   40   33    8   36   39   44 1163\n",
      " [1]    0   34    0    0   32    5    5    7   40   33    9   36   39   44 1159\n",
      " [1]    0   34    0    0   32    5    5    7   40   33   10   36   39   44 1156\n",
      " [1]    0   34    0    0   32    5    5    7   40   33   11   36   39   44 1152\n",
      " [1]    0   34    0    0   32    5    5    7   40   33   12   36   39   44 1149\n",
      " [1]    0   34    0    0   32    5    5    7   40   33   13   36   39   44 1146\n",
      " [1]    0   34    0    0   32    5    5    7   40   33   14   36   39   44 1142\n",
      " [1]    0   34    0    0   32    5    5    7   40   33   15   36   39   44 1139\n",
      " [1]    0   34    0    0   32    5    5    7   40   33   16   36   39   44 1136\n",
      " [1]    0   34    0    0   32    5    5    7   40   33   17   36   39   44 1133\n",
      " [1]    0   34    0    0   32    5    5    7   40   33   18   36   39   44 1129\n",
      " [1]    0   34    0    0   32    5    5    7   40   33   19   36   39   44 1126\n",
      " [1]    0   34    0    0   32    5    5    7   40   33   20   36   39   44 1123\n",
      " [1]    0   34    0    0   32    5    5    7   40   33   21   36   39   44 1120\n",
      " [1]    0   34    0    0   32    5    5    7   40   33   22   36   39   44 1117\n",
      " [1]    0   34    0    0   32    5    5    7   40   33   23   36   39   44 1114\n",
      " [1]    0   34    0    0   32    5    5    7   40   33   24   36   39   44 1111\n",
      " [1]    0   34    0    0   32    5    5    7   40   33   25   36   39   44 1108\n",
      " [1]    0   34    0    0   32    5    5    7   40   33   26   36   39   44 1105\n",
      " [1]    0   34    0    0   32    5    5    7   40   33   27   36   39   44 1102\n",
      " [1]    0   34    0    0   32    5    5    7   40   33   28   36   39   44 1099\n",
      " [1]    0   34    0    0   32    5    5    7   40   33   29   36   39   44 1096\n",
      " [1]    0   34    0    0   32    5    5    7   40   33   30   36   39   44 1093\n",
      " [1]    0   34    0    0   32    5    5    7   40   33   31   36   39   44 1091\n",
      " [1]    0   34    0    0   32    5    5    7   40   33   32   36   39   44 1088\n",
      " [1]    0   34    0    0   32    5    5    7   40   33   33   36   39   44 1085\n",
      " [1]    0   34    0    0   32    5    5    7   40   33   34   36   39   44 1082\n",
      " [1]    0   34    0    0   32    5    5    7   40   33    7   36   39   44 1166\n",
      " [1]    0   34    0    0   32    5    5    7   40   33    7   36   39   44 1166\n",
      " [1]    0   34    0    0   32    5    5    7   40   33    7   36   39   44 1166\n"
     ]
    },
    {
     "data": {
      "text/html": [
       "<ol class=list-inline>\n",
       "\t<li>0</li>\n",
       "\t<li>34</li>\n",
       "\t<li>0</li>\n",
       "\t<li>0</li>\n",
       "\t<li>32</li>\n",
       "\t<li>5</li>\n",
       "\t<li>5</li>\n",
       "\t<li>7</li>\n",
       "\t<li>40</li>\n",
       "\t<li>33</li>\n",
       "\t<li>7</li>\n",
       "\t<li>36</li>\n",
       "\t<li>39</li>\n",
       "\t<li>44</li>\n",
       "</ol>\n"
      ],
      "text/latex": [
       "\\begin{enumerate*}\n",
       "\\item 0\n",
       "\\item 34\n",
       "\\item 0\n",
       "\\item 0\n",
       "\\item 32\n",
       "\\item 5\n",
       "\\item 5\n",
       "\\item 7\n",
       "\\item 40\n",
       "\\item 33\n",
       "\\item 7\n",
       "\\item 36\n",
       "\\item 39\n",
       "\\item 44\n",
       "\\end{enumerate*}\n"
      ],
      "text/markdown": [
       "1. 0\n",
       "2. 34\n",
       "3. 0\n",
       "4. 0\n",
       "5. 32\n",
       "6. 5\n",
       "7. 5\n",
       "8. 7\n",
       "9. 40\n",
       "10. 33\n",
       "11. 7\n",
       "12. 36\n",
       "13. 39\n",
       "14. 44\n",
       "\n",
       "\n"
      ],
      "text/plain": [
       " [1]  0 34  0  0 32  5  5  7 40 33  7 36 39 44"
      ]
     },
     "metadata": {},
     "output_type": "display_data"
    },
    {
     "data": {
      "text/html": [
       "1166.33559262078"
      ],
      "text/latex": [
       "1166.33559262078"
      ],
      "text/markdown": [
       "1166.33559262078"
      ],
      "text/plain": [
       "[1] 1166.336"
      ]
     },
     "metadata": {},
     "output_type": "display_data"
    }
   ],
   "source": [
    "inicio <- inicio_cedo\n",
    "for(i in 1:n){\n",
    "    novo <- inicio\n",
    "    v <- inicio_tarde[[i]] - novo[[i]]\n",
    "    for(u in novo[[i]]:inicio_tarde[[i]]){\n",
    "    novo[[i]] <- u\n",
    "    novo <- adia(novo,duracao,precedencia)\n",
    "                if(valida(novo, precedencia, duracao, duracao_max)){\n",
    "            print(c(round(novo), round(npv(novo, valor,0.01))))\n",
    "        }\n",
    "    if(npv(novo, valor,0.01) > npv(inicio, valor,0.01) ){\n",
    "        if(valida(novo, precedencia, duracao, duracao_max)){\n",
    "            inicio <- novo\n",
    "        }\n",
    "    }\n",
    "}\n",
    "    }\n",
    "inicio\n",
    "npv(inicio, valor,0.01)"
   ]
  },
  {
   "cell_type": "code",
   "execution_count": null,
   "metadata": {},
   "outputs": [],
   "source": []
  },
  {
   "cell_type": "code",
   "execution_count": null,
   "metadata": {},
   "outputs": [],
   "source": []
  }
 ],
 "metadata": {
  "kernelspec": {
   "display_name": "R",
   "language": "R",
   "name": "ir"
  },
  "language_info": {
   "codemirror_mode": "r",
   "file_extension": ".r",
   "mimetype": "text/x-r-source",
   "name": "R",
   "pygments_lexer": "r",
   "version": "3.3.0"
  }
 },
 "nbformat": 4,
 "nbformat_minor": 2
}
