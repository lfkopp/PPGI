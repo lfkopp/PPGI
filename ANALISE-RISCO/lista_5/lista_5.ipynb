{
 "cells": [
  {
   "cell_type": "markdown",
   "metadata": {},
   "source": [
    "MAI 103: Análise de Risco //  Prof. Eber  \n",
    "Lista 05  //  Data: 10/07/2018  //  Entrega: 17/07/2018  "
   ]
  },
  {
   "cell_type": "code",
   "execution_count": 26,
   "metadata": {},
   "outputs": [
    {
     "ename": "ERROR",
     "evalue": "Error in library(\"igraph\"): there is no package called 'igraph'\n",
     "output_type": "error",
     "traceback": [
      "Error in library(\"igraph\"): there is no package called 'igraph'\nTraceback:\n",
      "1. library(\"igraph\")",
      "2. stop(txt, domain = NA)"
     ]
    }
   ],
   "source": [
    "set.seed(1)\n",
    "\n",
    "library(\"igraph\")\n",
    "library(\"triangle\")"
   ]
  },
  {
   "cell_type": "markdown",
   "metadata": {},
   "source": [
    "1-Usando MC na rede descrita nas tabelas 1 e 2, obtenha:  "
   ]
  },
  {
   "cell_type": "markdown",
   "metadata": {},
   "source": [
    "|ativ|Min|Mprov|Max|\n",
    "|---|---|---|---|\n",
    "|A|1|2|4|\n",
    "|B|5|6|7|\n",
    "|C|2|4|5|\n",
    "|D|1|3|4|\n",
    "|E|4|5|7|\n",
    "|F|3|4|5|\n",
    "|G|1|2|3|\n",
    "Tabela 1 - Atvidades"
   ]
  },
  {
   "cell_type": "markdown",
   "metadata": {},
   "source": [
    "(start - A B C)\n",
    "(A - F D)\n",
    "(B - G)\n",
    "(C - E)\n",
    "(D - G)\n",
    "(E - G)\n",
    "(F - end)\n",
    "(G - end)  \n",
    "Tabela 2 - Redes"
   ]
  },
  {
   "cell_type": "markdown",
   "metadata": {},
   "source": [
    "• Uma aproximação empírica para a duração do projeto mostrado.  "
   ]
  },
  {
   "cell_type": "code",
   "execution_count": 27,
   "metadata": {},
   "outputs": [
    {
     "ename": "ERROR",
     "evalue": "Error in i + \" \": argumento não-numérico para operador binário\n",
     "output_type": "error",
     "traceback": [
      "Error in i + \" \": argumento não-numérico para operador binário\nTraceback:\n",
      "1. print(i + \" \" + j, precedencia[[i]][j])   # at line 14 of file <text>"
     ]
    }
   ],
   "source": [
    "duracao <- c(0,2,6,4,3,5,4,2,0)\n",
    "precedencia <- list(c(0,0,0,0,0,0,0,0,0),\n",
    "                      c(2,0,0,0,0,0,0,0,0),\n",
    "                      c(6,0,0,0,0,0,0,0,0),\n",
    "                      c(4,0,0,0,0,0,0,0,0),\n",
    "                      c(0,3,0,0,0,0,0,0,0),\n",
    "                      c(0,0,0,5,0,0,0,0,0),\n",
    "                      c(0,4,0,0,0,0,0,0,0),\n",
    "                      c(0,0,2,0,2,2,0,0,0),\n",
    "                      c(0,0,0,0,0,0,0,0,0))\n",
    "for(i in 1:9){\n",
    "    for(j in 1:9){\n",
    "        if(precedencia[[i]][j]>0){\n",
    "           print(i +\" \"+j,precedencia[[i]][j]) \n",
    "        }\n",
    "    }\n",
    "}\n"
   ]
  },
  {
   "cell_type": "markdown",
   "metadata": {},
   "source": [
    "• Obtenha um estimativa das probabilidades das atividades pertencerem ao caminho crítico  "
   ]
  },
  {
   "cell_type": "code",
   "execution_count": null,
   "metadata": {},
   "outputs": [],
   "source": []
  },
  {
   "cell_type": "markdown",
   "metadata": {},
   "source": [
    "• Compare o resultado com aquele obtido pela aproximação PERT.  "
   ]
  },
  {
   "cell_type": "code",
   "execution_count": null,
   "metadata": {},
   "outputs": [],
   "source": []
  },
  {
   "cell_type": "markdown",
   "metadata": {},
   "source": [
    "• Gere todos agendamentos possíveis para o minimo prazo.  "
   ]
  },
  {
   "cell_type": "code",
   "execution_count": null,
   "metadata": {},
   "outputs": [],
   "source": []
  },
  {
   "cell_type": "markdown",
   "metadata": {},
   "source": [
    "2- Observe os dados sobre o projeto de uma obra mostrado nas tabela 3. Calcule:  \n",
    "• Obtenha as aproximações para o risco de custo e de prazo da obra  \n",
    "• Obtenha uma estimativa das probabilidades das atividades pertencerem ao caminho crítico  \n",
    "• Faça um grafico de dispersão mostrando a correlação entre prazo e custo da obra.  "
   ]
  },
  {
   "cell_type": "markdown",
   "metadata": {},
   "source": [
    "|Atividade|Descrição|Pred|DMin|DMp|DMax|CMin|CMp|CMax|\n",
    "|---------|---------|----|----|---|----|----|---|----|\n",
    "|A|Obter materiais|START|2|4|18|300|450|600|\n",
    "|B|Obter mão de obra|START|5|9|19|480|600|720|\n",
    "|C|Escavar|START|4|10|28|3750|4500|5250|\n",
    "|D|Colocar fundação|C|8|13|36|8400|9600|10800|\n",
    "|E|Construir Estrutura|B,D|44|60|100|300000|312000|32250|\n",
    "|F|Instalação Hidráulica|E|30|40|74|37650|39600|41400|\n",
    "|G|Instalação Elétrica|E|9|20|43|10500|11550|12600|\n",
    "|H|Acabamento Interior|F,G|24|30|48|36000|38400|40800|\n",
    "|I|Acabamento Exterior|F|28|29|96|48750|52500|56250|\n",
    "|J|Limpeza Local|H,I|10|10|12|360|450|540|\n",
    "Tabela 3 - Atividades"
   ]
  },
  {
   "cell_type": "code",
   "execution_count": null,
   "metadata": {},
   "outputs": [],
   "source": []
  },
  {
   "cell_type": "markdown",
   "metadata": {},
   "source": [
    "3- Dado a rede de projeto mostrada na figura 1, aplique a técnica de MC para obter um agendamento que proporciona uma boa aproximação para o máximo NPV a ser obtido pelo projeto. O número na parte de cima do circulo representando uma atividade é sua duração e o abaixo é o seu NPV trazido para o término da atividade. Assuma:  \n",
    "• que a data limite δn = 44  \n",
    "• valor presente é continuamente descontado a uma taxa r = 0.01  \n",
    "Passos:  \n",
    "• gerar a relação (atividade, est, lst)  \n",
    "• implementar uma função que sorteia um cronograma  \n",
    "• implementar uma função que verifica se o cronograma é valido  \n",
    "• avaliar a qualidade da aproximação para a solução ótima  "
   ]
  },
  {
   "cell_type": "markdown",
   "metadata": {},
   "source": [
    "|Atividade|Predecessor|Duração|NPV|\n",
    "|---------|-----------|-------|---|\n",
    "|1|START|0|0|\n",
    "|2|1|6|-140|\n",
    "|3|1|5|318|\n",
    "|4|1|3|312|\n",
    "|5|3|1|-329|\n",
    "|6|3|6|153|\n",
    "|7|3|2|193|\n",
    "|8|4,7|1|361|\n",
    "|9|2|4|24|\n",
    "|10|5|3|33|\n",
    "|11|7|2|387|\n",
    "|12|6,10,11|3|-386|\n",
    "|13|8,12|5|171|\n",
    "|14|9,13|0|0|"
   ]
  },
  {
   "cell_type": "code",
   "execution_count": null,
   "metadata": {},
   "outputs": [],
   "source": []
  }
 ],
 "metadata": {
  "kernelspec": {
   "display_name": "R",
   "language": "R",
   "name": "ir"
  },
  "language_info": {
   "codemirror_mode": "r",
   "file_extension": ".r",
   "mimetype": "text/x-r-source",
   "name": "R",
   "pygments_lexer": "r",
   "version": "3.3.0"
  }
 },
 "nbformat": 4,
 "nbformat_minor": 2
}
